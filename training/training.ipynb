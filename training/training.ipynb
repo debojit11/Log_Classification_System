{
 "cells": [
  {
   "cell_type": "code",
   "execution_count": 3,
   "metadata": {},
   "outputs": [],
   "source": [
    "import pandas as pd"
   ]
  },
  {
   "cell_type": "code",
   "execution_count": 4,
   "metadata": {},
   "outputs": [
    {
     "data": {
      "application/vnd.microsoft.datawrangler.viewer.v0+json": {
       "columns": [
        {
         "name": "index",
         "rawType": "int64",
         "type": "integer"
        },
        {
         "name": "timestamp",
         "rawType": "object",
         "type": "string"
        },
        {
         "name": "source",
         "rawType": "object",
         "type": "string"
        },
        {
         "name": "log_message",
         "rawType": "object",
         "type": "string"
        },
        {
         "name": "target_label",
         "rawType": "object",
         "type": "string"
        },
        {
         "name": "complexity",
         "rawType": "object",
         "type": "string"
        }
       ],
       "conversionMethod": "pd.DataFrame",
       "ref": "66d4acaa-084c-4847-a41c-66bc07cc787d",
       "rows": [
        [
         "0",
         "2025-06-27 07:20:25",
         "ModernCRM",
         "nova.osapi_compute.wsgi.server [req-b9718cd8-f65e-49cc-8349-6cf7122af137 113d3a99c3da401fbd62cc2caa5b96d2 54fadb412c4e40cdbaed9335e4c35a9e - - -] 10.11.10.1 \"GET /v2/54fadb412c4e40cdbaed9335e4c35a9e/servers/detail HTTP/1.1\" status: 200 len: 1893 time: 0.2675118",
         "HTTP Status",
         "bert"
        ],
        [
         "1",
         "1/14/2025 23:07",
         "ModernCRM",
         "Email service experiencing issues with sending",
         "Critical Error",
         "bert"
        ],
        [
         "2",
         "1/17/2025 1:29",
         "AnalyticsEngine",
         "Unauthorized access to data was attempted",
         "Security Alert",
         "bert"
        ],
        [
         "3",
         "2025-07-12 00:24:16",
         "ModernHR",
         "nova.osapi_compute.wsgi.server [req-4895c258-b2f8-488f-a2a3-4fae63982e48 113d3a99c3da401fbd62cc2caa5b96d2 54fadb412c4e40cdbaed9335e4c35a9e - - -] 10.11.10.1 \"GET /v2/54fadb412c4e40cdbaed9335e4c35a9e/servers/detail HTTP/1.1\" HTTP status code -  200 len: 211 time: 0.0968180",
         "HTTP Status",
         "bert"
        ],
        [
         "4",
         "2025-06-02 18:25:23",
         "BillingSystem",
         "nova.osapi_compute.wsgi.server [req-ee8bc8ba-9265-4280-9215-dbe000a41209 113d3a99c3da401fbd62cc2caa5b96d2 54fadb412c4e40cdbaed9335e4c35a9e - - -] 10.11.10.1 \"GET /v2/54fadb412c4e40cdbaed9335e4c35a9e/servers/detail HTTP/1.1\" RCODE  200 len: 1874 time: 0.2280791",
         "HTTP Status",
         "bert"
        ]
       ],
       "shape": {
        "columns": 5,
        "rows": 5
       }
      },
      "text/html": [
       "<div>\n",
       "<style scoped>\n",
       "    .dataframe tbody tr th:only-of-type {\n",
       "        vertical-align: middle;\n",
       "    }\n",
       "\n",
       "    .dataframe tbody tr th {\n",
       "        vertical-align: top;\n",
       "    }\n",
       "\n",
       "    .dataframe thead th {\n",
       "        text-align: right;\n",
       "    }\n",
       "</style>\n",
       "<table border=\"1\" class=\"dataframe\">\n",
       "  <thead>\n",
       "    <tr style=\"text-align: right;\">\n",
       "      <th></th>\n",
       "      <th>timestamp</th>\n",
       "      <th>source</th>\n",
       "      <th>log_message</th>\n",
       "      <th>target_label</th>\n",
       "      <th>complexity</th>\n",
       "    </tr>\n",
       "  </thead>\n",
       "  <tbody>\n",
       "    <tr>\n",
       "      <th>0</th>\n",
       "      <td>2025-06-27 07:20:25</td>\n",
       "      <td>ModernCRM</td>\n",
       "      <td>nova.osapi_compute.wsgi.server [req-b9718cd8-f...</td>\n",
       "      <td>HTTP Status</td>\n",
       "      <td>bert</td>\n",
       "    </tr>\n",
       "    <tr>\n",
       "      <th>1</th>\n",
       "      <td>1/14/2025 23:07</td>\n",
       "      <td>ModernCRM</td>\n",
       "      <td>Email service experiencing issues with sending</td>\n",
       "      <td>Critical Error</td>\n",
       "      <td>bert</td>\n",
       "    </tr>\n",
       "    <tr>\n",
       "      <th>2</th>\n",
       "      <td>1/17/2025 1:29</td>\n",
       "      <td>AnalyticsEngine</td>\n",
       "      <td>Unauthorized access to data was attempted</td>\n",
       "      <td>Security Alert</td>\n",
       "      <td>bert</td>\n",
       "    </tr>\n",
       "    <tr>\n",
       "      <th>3</th>\n",
       "      <td>2025-07-12 00:24:16</td>\n",
       "      <td>ModernHR</td>\n",
       "      <td>nova.osapi_compute.wsgi.server [req-4895c258-b...</td>\n",
       "      <td>HTTP Status</td>\n",
       "      <td>bert</td>\n",
       "    </tr>\n",
       "    <tr>\n",
       "      <th>4</th>\n",
       "      <td>2025-06-02 18:25:23</td>\n",
       "      <td>BillingSystem</td>\n",
       "      <td>nova.osapi_compute.wsgi.server [req-ee8bc8ba-9...</td>\n",
       "      <td>HTTP Status</td>\n",
       "      <td>bert</td>\n",
       "    </tr>\n",
       "  </tbody>\n",
       "</table>\n",
       "</div>"
      ],
      "text/plain": [
       "             timestamp           source  \\\n",
       "0  2025-06-27 07:20:25        ModernCRM   \n",
       "1      1/14/2025 23:07        ModernCRM   \n",
       "2       1/17/2025 1:29  AnalyticsEngine   \n",
       "3  2025-07-12 00:24:16         ModernHR   \n",
       "4  2025-06-02 18:25:23    BillingSystem   \n",
       "\n",
       "                                         log_message    target_label  \\\n",
       "0  nova.osapi_compute.wsgi.server [req-b9718cd8-f...     HTTP Status   \n",
       "1     Email service experiencing issues with sending  Critical Error   \n",
       "2          Unauthorized access to data was attempted  Security Alert   \n",
       "3  nova.osapi_compute.wsgi.server [req-4895c258-b...     HTTP Status   \n",
       "4  nova.osapi_compute.wsgi.server [req-ee8bc8ba-9...     HTTP Status   \n",
       "\n",
       "  complexity  \n",
       "0       bert  \n",
       "1       bert  \n",
       "2       bert  \n",
       "3       bert  \n",
       "4       bert  "
      ]
     },
     "execution_count": 4,
     "metadata": {},
     "output_type": "execute_result"
    }
   ],
   "source": [
    "df = pd.read_csv('dataset/synthetic_logs.csv')\n",
    "df.head()"
   ]
  },
  {
   "cell_type": "code",
   "execution_count": 5,
   "metadata": {},
   "outputs": [
    {
     "data": {
      "application/vnd.microsoft.datawrangler.viewer.v0+json": {
       "columns": [
        {
         "name": "index",
         "rawType": "int64",
         "type": "integer"
        },
        {
         "name": "timestamp",
         "rawType": "object",
         "type": "string"
        },
        {
         "name": "source",
         "rawType": "object",
         "type": "string"
        },
        {
         "name": "log_message",
         "rawType": "object",
         "type": "string"
        },
        {
         "name": "target_label",
         "rawType": "object",
         "type": "string"
        }
       ],
       "conversionMethod": "pd.DataFrame",
       "ref": "46e8a478-f17d-4e40-8ef7-62c0f350f322",
       "rows": [
        [
         "0",
         "2025-06-27 07:20:25",
         "ModernCRM",
         "nova.osapi_compute.wsgi.server [req-b9718cd8-f65e-49cc-8349-6cf7122af137 113d3a99c3da401fbd62cc2caa5b96d2 54fadb412c4e40cdbaed9335e4c35a9e - - -] 10.11.10.1 \"GET /v2/54fadb412c4e40cdbaed9335e4c35a9e/servers/detail HTTP/1.1\" status: 200 len: 1893 time: 0.2675118",
         "HTTP Status"
        ],
        [
         "1",
         "1/14/2025 23:07",
         "ModernCRM",
         "Email service experiencing issues with sending",
         "Critical Error"
        ],
        [
         "2",
         "1/17/2025 1:29",
         "AnalyticsEngine",
         "Unauthorized access to data was attempted",
         "Security Alert"
        ],
        [
         "3",
         "2025-07-12 00:24:16",
         "ModernHR",
         "nova.osapi_compute.wsgi.server [req-4895c258-b2f8-488f-a2a3-4fae63982e48 113d3a99c3da401fbd62cc2caa5b96d2 54fadb412c4e40cdbaed9335e4c35a9e - - -] 10.11.10.1 \"GET /v2/54fadb412c4e40cdbaed9335e4c35a9e/servers/detail HTTP/1.1\" HTTP status code -  200 len: 211 time: 0.0968180",
         "HTTP Status"
        ],
        [
         "4",
         "2025-06-02 18:25:23",
         "BillingSystem",
         "nova.osapi_compute.wsgi.server [req-ee8bc8ba-9265-4280-9215-dbe000a41209 113d3a99c3da401fbd62cc2caa5b96d2 54fadb412c4e40cdbaed9335e4c35a9e - - -] 10.11.10.1 \"GET /v2/54fadb412c4e40cdbaed9335e4c35a9e/servers/detail HTTP/1.1\" RCODE  200 len: 1874 time: 0.2280791",
         "HTTP Status"
        ]
       ],
       "shape": {
        "columns": 4,
        "rows": 5
       }
      },
      "text/html": [
       "<div>\n",
       "<style scoped>\n",
       "    .dataframe tbody tr th:only-of-type {\n",
       "        vertical-align: middle;\n",
       "    }\n",
       "\n",
       "    .dataframe tbody tr th {\n",
       "        vertical-align: top;\n",
       "    }\n",
       "\n",
       "    .dataframe thead th {\n",
       "        text-align: right;\n",
       "    }\n",
       "</style>\n",
       "<table border=\"1\" class=\"dataframe\">\n",
       "  <thead>\n",
       "    <tr style=\"text-align: right;\">\n",
       "      <th></th>\n",
       "      <th>timestamp</th>\n",
       "      <th>source</th>\n",
       "      <th>log_message</th>\n",
       "      <th>target_label</th>\n",
       "    </tr>\n",
       "  </thead>\n",
       "  <tbody>\n",
       "    <tr>\n",
       "      <th>0</th>\n",
       "      <td>2025-06-27 07:20:25</td>\n",
       "      <td>ModernCRM</td>\n",
       "      <td>nova.osapi_compute.wsgi.server [req-b9718cd8-f...</td>\n",
       "      <td>HTTP Status</td>\n",
       "    </tr>\n",
       "    <tr>\n",
       "      <th>1</th>\n",
       "      <td>1/14/2025 23:07</td>\n",
       "      <td>ModernCRM</td>\n",
       "      <td>Email service experiencing issues with sending</td>\n",
       "      <td>Critical Error</td>\n",
       "    </tr>\n",
       "    <tr>\n",
       "      <th>2</th>\n",
       "      <td>1/17/2025 1:29</td>\n",
       "      <td>AnalyticsEngine</td>\n",
       "      <td>Unauthorized access to data was attempted</td>\n",
       "      <td>Security Alert</td>\n",
       "    </tr>\n",
       "    <tr>\n",
       "      <th>3</th>\n",
       "      <td>2025-07-12 00:24:16</td>\n",
       "      <td>ModernHR</td>\n",
       "      <td>nova.osapi_compute.wsgi.server [req-4895c258-b...</td>\n",
       "      <td>HTTP Status</td>\n",
       "    </tr>\n",
       "    <tr>\n",
       "      <th>4</th>\n",
       "      <td>2025-06-02 18:25:23</td>\n",
       "      <td>BillingSystem</td>\n",
       "      <td>nova.osapi_compute.wsgi.server [req-ee8bc8ba-9...</td>\n",
       "      <td>HTTP Status</td>\n",
       "    </tr>\n",
       "  </tbody>\n",
       "</table>\n",
       "</div>"
      ],
      "text/plain": [
       "             timestamp           source  \\\n",
       "0  2025-06-27 07:20:25        ModernCRM   \n",
       "1      1/14/2025 23:07        ModernCRM   \n",
       "2       1/17/2025 1:29  AnalyticsEngine   \n",
       "3  2025-07-12 00:24:16         ModernHR   \n",
       "4  2025-06-02 18:25:23    BillingSystem   \n",
       "\n",
       "                                         log_message    target_label  \n",
       "0  nova.osapi_compute.wsgi.server [req-b9718cd8-f...     HTTP Status  \n",
       "1     Email service experiencing issues with sending  Critical Error  \n",
       "2          Unauthorized access to data was attempted  Security Alert  \n",
       "3  nova.osapi_compute.wsgi.server [req-4895c258-b...     HTTP Status  \n",
       "4  nova.osapi_compute.wsgi.server [req-ee8bc8ba-9...     HTTP Status  "
      ]
     },
     "execution_count": 5,
     "metadata": {},
     "output_type": "execute_result"
    }
   ],
   "source": [
    "df = df.drop('complexity', axis=1)\n",
    "df.head()"
   ]
  },
  {
   "cell_type": "code",
   "execution_count": 6,
   "metadata": {},
   "outputs": [
    {
     "data": {
      "text/plain": [
       "array(['ModernCRM', 'AnalyticsEngine', 'ModernHR', 'BillingSystem',\n",
       "       'ThirdPartyAPI', 'LegacyCRM'], dtype=object)"
      ]
     },
     "execution_count": 6,
     "metadata": {},
     "output_type": "execute_result"
    }
   ],
   "source": [
    "df.source.unique()"
   ]
  },
  {
   "cell_type": "code",
   "execution_count": 7,
   "metadata": {},
   "outputs": [
    {
     "data": {
      "text/plain": [
       "array(['HTTP Status', 'Critical Error', 'Security Alert', 'Error',\n",
       "       'System Notification', 'Resource Usage', 'User Action',\n",
       "       'Workflow Error', 'Deprecation Warning'], dtype=object)"
      ]
     },
     "execution_count": 7,
     "metadata": {},
     "output_type": "execute_result"
    }
   ],
   "source": [
    "df.target_label.unique()"
   ]
  },
  {
   "cell_type": "code",
   "execution_count": 8,
   "metadata": {},
   "outputs": [
    {
     "data": {
      "application/vnd.microsoft.datawrangler.viewer.v0+json": {
       "columns": [
        {
         "name": "index",
         "rawType": "int64",
         "type": "integer"
        },
        {
         "name": "0",
         "rawType": "float32",
         "type": "float"
        },
        {
         "name": "1",
         "rawType": "float32",
         "type": "float"
        },
        {
         "name": "2",
         "rawType": "float32",
         "type": "float"
        },
        {
         "name": "3",
         "rawType": "float32",
         "type": "float"
        },
        {
         "name": "4",
         "rawType": "float32",
         "type": "float"
        },
        {
         "name": "5",
         "rawType": "float32",
         "type": "float"
        },
        {
         "name": "6",
         "rawType": "float32",
         "type": "float"
        },
        {
         "name": "7",
         "rawType": "float32",
         "type": "float"
        },
        {
         "name": "8",
         "rawType": "float32",
         "type": "float"
        },
        {
         "name": "9",
         "rawType": "float32",
         "type": "float"
        },
        {
         "name": "10",
         "rawType": "float32",
         "type": "float"
        },
        {
         "name": "11",
         "rawType": "float32",
         "type": "float"
        },
        {
         "name": "12",
         "rawType": "float32",
         "type": "float"
        },
        {
         "name": "13",
         "rawType": "float32",
         "type": "float"
        },
        {
         "name": "14",
         "rawType": "float32",
         "type": "float"
        },
        {
         "name": "15",
         "rawType": "float32",
         "type": "float"
        },
        {
         "name": "16",
         "rawType": "float32",
         "type": "float"
        },
        {
         "name": "17",
         "rawType": "float32",
         "type": "float"
        },
        {
         "name": "18",
         "rawType": "float32",
         "type": "float"
        },
        {
         "name": "19",
         "rawType": "float32",
         "type": "float"
        },
        {
         "name": "20",
         "rawType": "float32",
         "type": "float"
        },
        {
         "name": "21",
         "rawType": "float32",
         "type": "float"
        },
        {
         "name": "22",
         "rawType": "float32",
         "type": "float"
        },
        {
         "name": "23",
         "rawType": "float32",
         "type": "float"
        },
        {
         "name": "24",
         "rawType": "float32",
         "type": "float"
        },
        {
         "name": "25",
         "rawType": "float32",
         "type": "float"
        },
        {
         "name": "26",
         "rawType": "float32",
         "type": "float"
        },
        {
         "name": "27",
         "rawType": "float32",
         "type": "float"
        },
        {
         "name": "28",
         "rawType": "float32",
         "type": "float"
        },
        {
         "name": "29",
         "rawType": "float32",
         "type": "float"
        },
        {
         "name": "30",
         "rawType": "float32",
         "type": "float"
        },
        {
         "name": "31",
         "rawType": "float32",
         "type": "float"
        },
        {
         "name": "32",
         "rawType": "float32",
         "type": "float"
        },
        {
         "name": "33",
         "rawType": "float32",
         "type": "float"
        },
        {
         "name": "34",
         "rawType": "float32",
         "type": "float"
        },
        {
         "name": "35",
         "rawType": "float32",
         "type": "float"
        },
        {
         "name": "36",
         "rawType": "float32",
         "type": "float"
        },
        {
         "name": "37",
         "rawType": "float32",
         "type": "float"
        },
        {
         "name": "38",
         "rawType": "float32",
         "type": "float"
        },
        {
         "name": "39",
         "rawType": "float32",
         "type": "float"
        },
        {
         "name": "40",
         "rawType": "float32",
         "type": "float"
        },
        {
         "name": "41",
         "rawType": "float32",
         "type": "float"
        },
        {
         "name": "42",
         "rawType": "float32",
         "type": "float"
        },
        {
         "name": "43",
         "rawType": "float32",
         "type": "float"
        },
        {
         "name": "44",
         "rawType": "float32",
         "type": "float"
        },
        {
         "name": "45",
         "rawType": "float32",
         "type": "float"
        },
        {
         "name": "46",
         "rawType": "float32",
         "type": "float"
        },
        {
         "name": "47",
         "rawType": "float32",
         "type": "float"
        },
        {
         "name": "48",
         "rawType": "float32",
         "type": "float"
        },
        {
         "name": "49",
         "rawType": "float32",
         "type": "float"
        },
        {
         "name": "50",
         "rawType": "float32",
         "type": "float"
        },
        {
         "name": "51",
         "rawType": "float32",
         "type": "float"
        },
        {
         "name": "52",
         "rawType": "float32",
         "type": "float"
        },
        {
         "name": "53",
         "rawType": "float32",
         "type": "float"
        },
        {
         "name": "54",
         "rawType": "float32",
         "type": "float"
        },
        {
         "name": "55",
         "rawType": "float32",
         "type": "float"
        },
        {
         "name": "56",
         "rawType": "float32",
         "type": "float"
        },
        {
         "name": "57",
         "rawType": "float32",
         "type": "float"
        },
        {
         "name": "58",
         "rawType": "float32",
         "type": "float"
        },
        {
         "name": "59",
         "rawType": "float32",
         "type": "float"
        },
        {
         "name": "60",
         "rawType": "float32",
         "type": "float"
        },
        {
         "name": "61",
         "rawType": "float32",
         "type": "float"
        },
        {
         "name": "62",
         "rawType": "float32",
         "type": "float"
        },
        {
         "name": "63",
         "rawType": "float32",
         "type": "float"
        },
        {
         "name": "64",
         "rawType": "float32",
         "type": "float"
        },
        {
         "name": "65",
         "rawType": "float32",
         "type": "float"
        },
        {
         "name": "66",
         "rawType": "float32",
         "type": "float"
        },
        {
         "name": "67",
         "rawType": "float32",
         "type": "float"
        },
        {
         "name": "68",
         "rawType": "float32",
         "type": "float"
        },
        {
         "name": "69",
         "rawType": "float32",
         "type": "float"
        },
        {
         "name": "70",
         "rawType": "float32",
         "type": "float"
        },
        {
         "name": "71",
         "rawType": "float32",
         "type": "float"
        },
        {
         "name": "72",
         "rawType": "float32",
         "type": "float"
        },
        {
         "name": "73",
         "rawType": "float32",
         "type": "float"
        },
        {
         "name": "74",
         "rawType": "float32",
         "type": "float"
        },
        {
         "name": "75",
         "rawType": "float32",
         "type": "float"
        },
        {
         "name": "76",
         "rawType": "float32",
         "type": "float"
        },
        {
         "name": "77",
         "rawType": "float32",
         "type": "float"
        },
        {
         "name": "78",
         "rawType": "float32",
         "type": "float"
        },
        {
         "name": "79",
         "rawType": "float32",
         "type": "float"
        },
        {
         "name": "80",
         "rawType": "float32",
         "type": "float"
        },
        {
         "name": "81",
         "rawType": "float32",
         "type": "float"
        },
        {
         "name": "82",
         "rawType": "float32",
         "type": "float"
        },
        {
         "name": "83",
         "rawType": "float32",
         "type": "float"
        },
        {
         "name": "84",
         "rawType": "float32",
         "type": "float"
        },
        {
         "name": "85",
         "rawType": "float32",
         "type": "float"
        },
        {
         "name": "86",
         "rawType": "float32",
         "type": "float"
        },
        {
         "name": "87",
         "rawType": "float32",
         "type": "float"
        },
        {
         "name": "88",
         "rawType": "float32",
         "type": "float"
        },
        {
         "name": "89",
         "rawType": "float32",
         "type": "float"
        },
        {
         "name": "90",
         "rawType": "float32",
         "type": "float"
        },
        {
         "name": "91",
         "rawType": "float32",
         "type": "float"
        },
        {
         "name": "92",
         "rawType": "float32",
         "type": "float"
        },
        {
         "name": "93",
         "rawType": "float32",
         "type": "float"
        },
        {
         "name": "94",
         "rawType": "float32",
         "type": "float"
        },
        {
         "name": "95",
         "rawType": "float32",
         "type": "float"
        },
        {
         "name": "96",
         "rawType": "float32",
         "type": "float"
        },
        {
         "name": "97",
         "rawType": "float32",
         "type": "float"
        },
        {
         "name": "98",
         "rawType": "float32",
         "type": "float"
        },
        {
         "name": "99",
         "rawType": "float32",
         "type": "float"
        },
        {
         "name": "100",
         "rawType": "float32",
         "type": "float"
        },
        {
         "name": "101",
         "rawType": "float32",
         "type": "float"
        },
        {
         "name": "102",
         "rawType": "float32",
         "type": "float"
        },
        {
         "name": "103",
         "rawType": "float32",
         "type": "float"
        },
        {
         "name": "104",
         "rawType": "float32",
         "type": "float"
        },
        {
         "name": "105",
         "rawType": "float32",
         "type": "float"
        },
        {
         "name": "106",
         "rawType": "float32",
         "type": "float"
        },
        {
         "name": "107",
         "rawType": "float32",
         "type": "float"
        },
        {
         "name": "108",
         "rawType": "float32",
         "type": "float"
        },
        {
         "name": "109",
         "rawType": "float32",
         "type": "float"
        },
        {
         "name": "110",
         "rawType": "float32",
         "type": "float"
        },
        {
         "name": "111",
         "rawType": "float32",
         "type": "float"
        },
        {
         "name": "112",
         "rawType": "float32",
         "type": "float"
        },
        {
         "name": "113",
         "rawType": "float32",
         "type": "float"
        },
        {
         "name": "114",
         "rawType": "float32",
         "type": "float"
        },
        {
         "name": "115",
         "rawType": "float32",
         "type": "float"
        },
        {
         "name": "116",
         "rawType": "float32",
         "type": "float"
        },
        {
         "name": "117",
         "rawType": "float32",
         "type": "float"
        },
        {
         "name": "118",
         "rawType": "float32",
         "type": "float"
        },
        {
         "name": "119",
         "rawType": "float32",
         "type": "float"
        },
        {
         "name": "120",
         "rawType": "float32",
         "type": "float"
        },
        {
         "name": "121",
         "rawType": "float32",
         "type": "float"
        },
        {
         "name": "122",
         "rawType": "float32",
         "type": "float"
        },
        {
         "name": "123",
         "rawType": "float32",
         "type": "float"
        },
        {
         "name": "124",
         "rawType": "float32",
         "type": "float"
        },
        {
         "name": "125",
         "rawType": "float32",
         "type": "float"
        },
        {
         "name": "126",
         "rawType": "float32",
         "type": "float"
        },
        {
         "name": "127",
         "rawType": "float32",
         "type": "float"
        },
        {
         "name": "128",
         "rawType": "float32",
         "type": "float"
        },
        {
         "name": "129",
         "rawType": "float32",
         "type": "float"
        },
        {
         "name": "130",
         "rawType": "float32",
         "type": "float"
        },
        {
         "name": "131",
         "rawType": "float32",
         "type": "float"
        },
        {
         "name": "132",
         "rawType": "float32",
         "type": "float"
        },
        {
         "name": "133",
         "rawType": "float32",
         "type": "float"
        },
        {
         "name": "134",
         "rawType": "float32",
         "type": "float"
        },
        {
         "name": "135",
         "rawType": "float32",
         "type": "float"
        },
        {
         "name": "136",
         "rawType": "float32",
         "type": "float"
        },
        {
         "name": "137",
         "rawType": "float32",
         "type": "float"
        },
        {
         "name": "138",
         "rawType": "float32",
         "type": "float"
        },
        {
         "name": "139",
         "rawType": "float32",
         "type": "float"
        },
        {
         "name": "140",
         "rawType": "float32",
         "type": "float"
        },
        {
         "name": "141",
         "rawType": "float32",
         "type": "float"
        },
        {
         "name": "142",
         "rawType": "float32",
         "type": "float"
        },
        {
         "name": "143",
         "rawType": "float32",
         "type": "float"
        },
        {
         "name": "144",
         "rawType": "float32",
         "type": "float"
        },
        {
         "name": "145",
         "rawType": "float32",
         "type": "float"
        },
        {
         "name": "146",
         "rawType": "float32",
         "type": "float"
        },
        {
         "name": "147",
         "rawType": "float32",
         "type": "float"
        },
        {
         "name": "148",
         "rawType": "float32",
         "type": "float"
        },
        {
         "name": "149",
         "rawType": "float32",
         "type": "float"
        },
        {
         "name": "150",
         "rawType": "float32",
         "type": "float"
        },
        {
         "name": "151",
         "rawType": "float32",
         "type": "float"
        },
        {
         "name": "152",
         "rawType": "float32",
         "type": "float"
        },
        {
         "name": "153",
         "rawType": "float32",
         "type": "float"
        },
        {
         "name": "154",
         "rawType": "float32",
         "type": "float"
        },
        {
         "name": "155",
         "rawType": "float32",
         "type": "float"
        },
        {
         "name": "156",
         "rawType": "float32",
         "type": "float"
        },
        {
         "name": "157",
         "rawType": "float32",
         "type": "float"
        },
        {
         "name": "158",
         "rawType": "float32",
         "type": "float"
        },
        {
         "name": "159",
         "rawType": "float32",
         "type": "float"
        },
        {
         "name": "160",
         "rawType": "float32",
         "type": "float"
        },
        {
         "name": "161",
         "rawType": "float32",
         "type": "float"
        },
        {
         "name": "162",
         "rawType": "float32",
         "type": "float"
        },
        {
         "name": "163",
         "rawType": "float32",
         "type": "float"
        },
        {
         "name": "164",
         "rawType": "float32",
         "type": "float"
        },
        {
         "name": "165",
         "rawType": "float32",
         "type": "float"
        },
        {
         "name": "166",
         "rawType": "float32",
         "type": "float"
        },
        {
         "name": "167",
         "rawType": "float32",
         "type": "float"
        },
        {
         "name": "168",
         "rawType": "float32",
         "type": "float"
        },
        {
         "name": "169",
         "rawType": "float32",
         "type": "float"
        },
        {
         "name": "170",
         "rawType": "float32",
         "type": "float"
        },
        {
         "name": "171",
         "rawType": "float32",
         "type": "float"
        },
        {
         "name": "172",
         "rawType": "float32",
         "type": "float"
        },
        {
         "name": "173",
         "rawType": "float32",
         "type": "float"
        },
        {
         "name": "174",
         "rawType": "float32",
         "type": "float"
        },
        {
         "name": "175",
         "rawType": "float32",
         "type": "float"
        },
        {
         "name": "176",
         "rawType": "float32",
         "type": "float"
        },
        {
         "name": "177",
         "rawType": "float32",
         "type": "float"
        },
        {
         "name": "178",
         "rawType": "float32",
         "type": "float"
        },
        {
         "name": "179",
         "rawType": "float32",
         "type": "float"
        },
        {
         "name": "180",
         "rawType": "float32",
         "type": "float"
        },
        {
         "name": "181",
         "rawType": "float32",
         "type": "float"
        },
        {
         "name": "182",
         "rawType": "float32",
         "type": "float"
        },
        {
         "name": "183",
         "rawType": "float32",
         "type": "float"
        },
        {
         "name": "184",
         "rawType": "float32",
         "type": "float"
        },
        {
         "name": "185",
         "rawType": "float32",
         "type": "float"
        },
        {
         "name": "186",
         "rawType": "float32",
         "type": "float"
        },
        {
         "name": "187",
         "rawType": "float32",
         "type": "float"
        },
        {
         "name": "188",
         "rawType": "float32",
         "type": "float"
        },
        {
         "name": "189",
         "rawType": "float32",
         "type": "float"
        },
        {
         "name": "190",
         "rawType": "float32",
         "type": "float"
        },
        {
         "name": "191",
         "rawType": "float32",
         "type": "float"
        },
        {
         "name": "192",
         "rawType": "float32",
         "type": "float"
        },
        {
         "name": "193",
         "rawType": "float32",
         "type": "float"
        },
        {
         "name": "194",
         "rawType": "float32",
         "type": "float"
        },
        {
         "name": "195",
         "rawType": "float32",
         "type": "float"
        },
        {
         "name": "196",
         "rawType": "float32",
         "type": "float"
        },
        {
         "name": "197",
         "rawType": "float32",
         "type": "float"
        },
        {
         "name": "198",
         "rawType": "float32",
         "type": "float"
        },
        {
         "name": "199",
         "rawType": "float32",
         "type": "float"
        },
        {
         "name": "200",
         "rawType": "float32",
         "type": "float"
        },
        {
         "name": "201",
         "rawType": "float32",
         "type": "float"
        },
        {
         "name": "202",
         "rawType": "float32",
         "type": "float"
        },
        {
         "name": "203",
         "rawType": "float32",
         "type": "float"
        },
        {
         "name": "204",
         "rawType": "float32",
         "type": "float"
        },
        {
         "name": "205",
         "rawType": "float32",
         "type": "float"
        },
        {
         "name": "206",
         "rawType": "float32",
         "type": "float"
        },
        {
         "name": "207",
         "rawType": "float32",
         "type": "float"
        },
        {
         "name": "208",
         "rawType": "float32",
         "type": "float"
        },
        {
         "name": "209",
         "rawType": "float32",
         "type": "float"
        },
        {
         "name": "210",
         "rawType": "float32",
         "type": "float"
        },
        {
         "name": "211",
         "rawType": "float32",
         "type": "float"
        },
        {
         "name": "212",
         "rawType": "float32",
         "type": "float"
        },
        {
         "name": "213",
         "rawType": "float32",
         "type": "float"
        },
        {
         "name": "214",
         "rawType": "float32",
         "type": "float"
        },
        {
         "name": "215",
         "rawType": "float32",
         "type": "float"
        },
        {
         "name": "216",
         "rawType": "float32",
         "type": "float"
        },
        {
         "name": "217",
         "rawType": "float32",
         "type": "float"
        },
        {
         "name": "218",
         "rawType": "float32",
         "type": "float"
        },
        {
         "name": "219",
         "rawType": "float32",
         "type": "float"
        },
        {
         "name": "220",
         "rawType": "float32",
         "type": "float"
        },
        {
         "name": "221",
         "rawType": "float32",
         "type": "float"
        },
        {
         "name": "222",
         "rawType": "float32",
         "type": "float"
        },
        {
         "name": "223",
         "rawType": "float32",
         "type": "float"
        },
        {
         "name": "224",
         "rawType": "float32",
         "type": "float"
        },
        {
         "name": "225",
         "rawType": "float32",
         "type": "float"
        },
        {
         "name": "226",
         "rawType": "float32",
         "type": "float"
        },
        {
         "name": "227",
         "rawType": "float32",
         "type": "float"
        },
        {
         "name": "228",
         "rawType": "float32",
         "type": "float"
        },
        {
         "name": "229",
         "rawType": "float32",
         "type": "float"
        },
        {
         "name": "230",
         "rawType": "float32",
         "type": "float"
        },
        {
         "name": "231",
         "rawType": "float32",
         "type": "float"
        },
        {
         "name": "232",
         "rawType": "float32",
         "type": "float"
        },
        {
         "name": "233",
         "rawType": "float32",
         "type": "float"
        },
        {
         "name": "234",
         "rawType": "float32",
         "type": "float"
        },
        {
         "name": "235",
         "rawType": "float32",
         "type": "float"
        },
        {
         "name": "236",
         "rawType": "float32",
         "type": "float"
        },
        {
         "name": "237",
         "rawType": "float32",
         "type": "float"
        },
        {
         "name": "238",
         "rawType": "float32",
         "type": "float"
        },
        {
         "name": "239",
         "rawType": "float32",
         "type": "float"
        },
        {
         "name": "240",
         "rawType": "float32",
         "type": "float"
        },
        {
         "name": "241",
         "rawType": "float32",
         "type": "float"
        },
        {
         "name": "242",
         "rawType": "float32",
         "type": "float"
        },
        {
         "name": "243",
         "rawType": "float32",
         "type": "float"
        },
        {
         "name": "244",
         "rawType": "float32",
         "type": "float"
        },
        {
         "name": "245",
         "rawType": "float32",
         "type": "float"
        },
        {
         "name": "246",
         "rawType": "float32",
         "type": "float"
        },
        {
         "name": "247",
         "rawType": "float32",
         "type": "float"
        },
        {
         "name": "248",
         "rawType": "float32",
         "type": "float"
        },
        {
         "name": "249",
         "rawType": "float32",
         "type": "float"
        },
        {
         "name": "250",
         "rawType": "float32",
         "type": "float"
        },
        {
         "name": "251",
         "rawType": "float32",
         "type": "float"
        },
        {
         "name": "252",
         "rawType": "float32",
         "type": "float"
        },
        {
         "name": "253",
         "rawType": "float32",
         "type": "float"
        },
        {
         "name": "254",
         "rawType": "float32",
         "type": "float"
        },
        {
         "name": "255",
         "rawType": "float32",
         "type": "float"
        },
        {
         "name": "256",
         "rawType": "float32",
         "type": "float"
        },
        {
         "name": "257",
         "rawType": "float32",
         "type": "float"
        },
        {
         "name": "258",
         "rawType": "float32",
         "type": "float"
        },
        {
         "name": "259",
         "rawType": "float32",
         "type": "float"
        },
        {
         "name": "260",
         "rawType": "float32",
         "type": "float"
        },
        {
         "name": "261",
         "rawType": "float32",
         "type": "float"
        },
        {
         "name": "262",
         "rawType": "float32",
         "type": "float"
        },
        {
         "name": "263",
         "rawType": "float32",
         "type": "float"
        },
        {
         "name": "264",
         "rawType": "float32",
         "type": "float"
        },
        {
         "name": "265",
         "rawType": "float32",
         "type": "float"
        },
        {
         "name": "266",
         "rawType": "float32",
         "type": "float"
        },
        {
         "name": "267",
         "rawType": "float32",
         "type": "float"
        },
        {
         "name": "268",
         "rawType": "float32",
         "type": "float"
        },
        {
         "name": "269",
         "rawType": "float32",
         "type": "float"
        },
        {
         "name": "270",
         "rawType": "float32",
         "type": "float"
        },
        {
         "name": "271",
         "rawType": "float32",
         "type": "float"
        },
        {
         "name": "272",
         "rawType": "float32",
         "type": "float"
        },
        {
         "name": "273",
         "rawType": "float32",
         "type": "float"
        },
        {
         "name": "274",
         "rawType": "float32",
         "type": "float"
        },
        {
         "name": "275",
         "rawType": "float32",
         "type": "float"
        },
        {
         "name": "276",
         "rawType": "float32",
         "type": "float"
        },
        {
         "name": "277",
         "rawType": "float32",
         "type": "float"
        },
        {
         "name": "278",
         "rawType": "float32",
         "type": "float"
        },
        {
         "name": "279",
         "rawType": "float32",
         "type": "float"
        },
        {
         "name": "280",
         "rawType": "float32",
         "type": "float"
        },
        {
         "name": "281",
         "rawType": "float32",
         "type": "float"
        },
        {
         "name": "282",
         "rawType": "float32",
         "type": "float"
        },
        {
         "name": "283",
         "rawType": "float32",
         "type": "float"
        },
        {
         "name": "284",
         "rawType": "float32",
         "type": "float"
        },
        {
         "name": "285",
         "rawType": "float32",
         "type": "float"
        },
        {
         "name": "286",
         "rawType": "float32",
         "type": "float"
        },
        {
         "name": "287",
         "rawType": "float32",
         "type": "float"
        },
        {
         "name": "288",
         "rawType": "float32",
         "type": "float"
        },
        {
         "name": "289",
         "rawType": "float32",
         "type": "float"
        },
        {
         "name": "290",
         "rawType": "float32",
         "type": "float"
        },
        {
         "name": "291",
         "rawType": "float32",
         "type": "float"
        },
        {
         "name": "292",
         "rawType": "float32",
         "type": "float"
        },
        {
         "name": "293",
         "rawType": "float32",
         "type": "float"
        },
        {
         "name": "294",
         "rawType": "float32",
         "type": "float"
        },
        {
         "name": "295",
         "rawType": "float32",
         "type": "float"
        },
        {
         "name": "296",
         "rawType": "float32",
         "type": "float"
        },
        {
         "name": "297",
         "rawType": "float32",
         "type": "float"
        },
        {
         "name": "298",
         "rawType": "float32",
         "type": "float"
        },
        {
         "name": "299",
         "rawType": "float32",
         "type": "float"
        },
        {
         "name": "300",
         "rawType": "float32",
         "type": "float"
        },
        {
         "name": "301",
         "rawType": "float32",
         "type": "float"
        },
        {
         "name": "302",
         "rawType": "float32",
         "type": "float"
        },
        {
         "name": "303",
         "rawType": "float32",
         "type": "float"
        },
        {
         "name": "304",
         "rawType": "float32",
         "type": "float"
        },
        {
         "name": "305",
         "rawType": "float32",
         "type": "float"
        },
        {
         "name": "306",
         "rawType": "float32",
         "type": "float"
        },
        {
         "name": "307",
         "rawType": "float32",
         "type": "float"
        },
        {
         "name": "308",
         "rawType": "float32",
         "type": "float"
        },
        {
         "name": "309",
         "rawType": "float32",
         "type": "float"
        },
        {
         "name": "310",
         "rawType": "float32",
         "type": "float"
        },
        {
         "name": "311",
         "rawType": "float32",
         "type": "float"
        },
        {
         "name": "312",
         "rawType": "float32",
         "type": "float"
        },
        {
         "name": "313",
         "rawType": "float32",
         "type": "float"
        },
        {
         "name": "314",
         "rawType": "float32",
         "type": "float"
        },
        {
         "name": "315",
         "rawType": "float32",
         "type": "float"
        },
        {
         "name": "316",
         "rawType": "float32",
         "type": "float"
        },
        {
         "name": "317",
         "rawType": "float32",
         "type": "float"
        },
        {
         "name": "318",
         "rawType": "float32",
         "type": "float"
        },
        {
         "name": "319",
         "rawType": "float32",
         "type": "float"
        },
        {
         "name": "320",
         "rawType": "float32",
         "type": "float"
        },
        {
         "name": "321",
         "rawType": "float32",
         "type": "float"
        },
        {
         "name": "322",
         "rawType": "float32",
         "type": "float"
        },
        {
         "name": "323",
         "rawType": "float32",
         "type": "float"
        },
        {
         "name": "324",
         "rawType": "float32",
         "type": "float"
        },
        {
         "name": "325",
         "rawType": "float32",
         "type": "float"
        },
        {
         "name": "326",
         "rawType": "float32",
         "type": "float"
        },
        {
         "name": "327",
         "rawType": "float32",
         "type": "float"
        },
        {
         "name": "328",
         "rawType": "float32",
         "type": "float"
        },
        {
         "name": "329",
         "rawType": "float32",
         "type": "float"
        },
        {
         "name": "330",
         "rawType": "float32",
         "type": "float"
        },
        {
         "name": "331",
         "rawType": "float32",
         "type": "float"
        },
        {
         "name": "332",
         "rawType": "float32",
         "type": "float"
        },
        {
         "name": "333",
         "rawType": "float32",
         "type": "float"
        },
        {
         "name": "334",
         "rawType": "float32",
         "type": "float"
        },
        {
         "name": "335",
         "rawType": "float32",
         "type": "float"
        },
        {
         "name": "336",
         "rawType": "float32",
         "type": "float"
        },
        {
         "name": "337",
         "rawType": "float32",
         "type": "float"
        },
        {
         "name": "338",
         "rawType": "float32",
         "type": "float"
        },
        {
         "name": "339",
         "rawType": "float32",
         "type": "float"
        },
        {
         "name": "340",
         "rawType": "float32",
         "type": "float"
        },
        {
         "name": "341",
         "rawType": "float32",
         "type": "float"
        },
        {
         "name": "342",
         "rawType": "float32",
         "type": "float"
        },
        {
         "name": "343",
         "rawType": "float32",
         "type": "float"
        },
        {
         "name": "344",
         "rawType": "float32",
         "type": "float"
        },
        {
         "name": "345",
         "rawType": "float32",
         "type": "float"
        },
        {
         "name": "346",
         "rawType": "float32",
         "type": "float"
        },
        {
         "name": "347",
         "rawType": "float32",
         "type": "float"
        },
        {
         "name": "348",
         "rawType": "float32",
         "type": "float"
        },
        {
         "name": "349",
         "rawType": "float32",
         "type": "float"
        },
        {
         "name": "350",
         "rawType": "float32",
         "type": "float"
        },
        {
         "name": "351",
         "rawType": "float32",
         "type": "float"
        },
        {
         "name": "352",
         "rawType": "float32",
         "type": "float"
        },
        {
         "name": "353",
         "rawType": "float32",
         "type": "float"
        },
        {
         "name": "354",
         "rawType": "float32",
         "type": "float"
        },
        {
         "name": "355",
         "rawType": "float32",
         "type": "float"
        },
        {
         "name": "356",
         "rawType": "float32",
         "type": "float"
        },
        {
         "name": "357",
         "rawType": "float32",
         "type": "float"
        },
        {
         "name": "358",
         "rawType": "float32",
         "type": "float"
        },
        {
         "name": "359",
         "rawType": "float32",
         "type": "float"
        },
        {
         "name": "360",
         "rawType": "float32",
         "type": "float"
        },
        {
         "name": "361",
         "rawType": "float32",
         "type": "float"
        },
        {
         "name": "362",
         "rawType": "float32",
         "type": "float"
        },
        {
         "name": "363",
         "rawType": "float32",
         "type": "float"
        },
        {
         "name": "364",
         "rawType": "float32",
         "type": "float"
        },
        {
         "name": "365",
         "rawType": "float32",
         "type": "float"
        },
        {
         "name": "366",
         "rawType": "float32",
         "type": "float"
        },
        {
         "name": "367",
         "rawType": "float32",
         "type": "float"
        },
        {
         "name": "368",
         "rawType": "float32",
         "type": "float"
        },
        {
         "name": "369",
         "rawType": "float32",
         "type": "float"
        },
        {
         "name": "370",
         "rawType": "float32",
         "type": "float"
        },
        {
         "name": "371",
         "rawType": "float32",
         "type": "float"
        },
        {
         "name": "372",
         "rawType": "float32",
         "type": "float"
        },
        {
         "name": "373",
         "rawType": "float32",
         "type": "float"
        },
        {
         "name": "374",
         "rawType": "float32",
         "type": "float"
        },
        {
         "name": "375",
         "rawType": "float32",
         "type": "float"
        },
        {
         "name": "376",
         "rawType": "float32",
         "type": "float"
        },
        {
         "name": "377",
         "rawType": "float32",
         "type": "float"
        },
        {
         "name": "378",
         "rawType": "float32",
         "type": "float"
        },
        {
         "name": "379",
         "rawType": "float32",
         "type": "float"
        },
        {
         "name": "380",
         "rawType": "float32",
         "type": "float"
        },
        {
         "name": "381",
         "rawType": "float32",
         "type": "float"
        },
        {
         "name": "382",
         "rawType": "float32",
         "type": "float"
        },
        {
         "name": "383",
         "rawType": "float32",
         "type": "float"
        }
       ],
       "conversionMethod": "pd.DataFrame",
       "ref": "d0252de4-63ab-44a5-acc4-81e1243bc06c",
       "rows": [
        [
         "0",
         "-0.10293963",
         "0.033545967",
         "-0.02202606",
         "0.001551054",
         "-0.009869216",
         "-0.17895624",
         "-0.06344097",
         "-0.060176175",
         "0.02811091",
         "0.05996203",
         "-0.017261822",
         "0.0014336297",
         "-0.14956",
         "0.003152873",
         "-0.056603078",
         "0.027168574",
         "-0.014989073",
         "-0.035403766",
         "-0.036293626",
         "-0.014541055",
         "-0.005614938",
         "0.087553896",
         "0.04551208",
         "0.025096385",
         "0.01001875",
         "0.01242669",
         "-0.13992356",
         "0.07686965",
         "0.03140953",
         "-0.0041524707",
         "0.043690283",
         "0.017125033",
         "-0.08009511",
         "0.057400614",
         "0.0189092",
         "0.08552627",
         "0.039639883",
         "-0.1343718",
         "-0.0014436436",
         "0.003067075",
         "0.17685407",
         "0.00444887",
         "-0.01692747",
         "0.022426648",
         "-0.04350494",
         "0.0060903276",
         "-0.009981679",
         "-0.062397286",
         "0.010737247",
         "-0.0060489653",
         "-0.07146611",
         "-0.008457986",
         "-0.03180198",
         "-0.10051837",
         "0.00022584891",
         "-0.018934153",
         "-0.031779382",
         "0.040086128",
         "0.021917822",
         "-0.025952889",
         "0.05845248",
         "-0.08125099",
         "0.021202927",
         "-0.050268766",
         "0.013205711",
         "0.0013267753",
         "0.022706268",
         "-0.034579378",
         "0.039154686",
         "-0.020943362",
         "0.0032482664",
         "0.044396117",
         "-0.09853582",
         "-0.02888952",
         "-0.0068502356",
         "0.053881902",
         "0.064611",
         "-0.024506064",
         "0.09218287",
         "-0.07498688",
         "0.012399473",
         "-0.100026585",
         "-0.046491068",
         "0.060156945",
         "-0.02464803",
         "-0.0708076",
         "-0.027727071",
         "0.0972611",
         "0.03858412",
         "-0.0144293085",
         "-0.00074688916",
         "-0.010430506",
         "-0.016184308",
         "0.04436282",
         "0.009259958",
         "0.07141659",
         "0.06379177",
         "0.049493134",
         "-0.060256746",
         "0.04048056",
         "-0.03428607",
         "-0.01938811",
         "0.06612338",
         "0.060158942",
         "0.010937151",
         "-0.005386306",
         "0.014457964",
         "0.09254302",
         "-0.031456407",
         "-0.018435238",
         "0.009918743",
         "-0.018557416",
         "0.0013128143",
         "2.267316e-05",
         "0.0020274008",
         "0.027525662",
         "-0.04819281",
         "0.054282613",
         "-0.0732067",
         "0.048866734",
         "0.049849033",
         "-0.00901142",
         "-0.04689061",
         "-0.042588674",
         "-0.08195238",
         "0.038710576",
         "0.0785504",
         "1.4607707e-32",
         "0.016670652",
         "0.052549392",
         "-0.01824487",
         "-0.012668664",
         "0.06528371",
         "-0.021177739",
         "-0.040632296",
         "0.041494746",
         "-0.024836138",
         "-0.013306813",
         "-0.05467538",
         "-0.00059916405",
         "-0.0048924615",
         "-0.06273594",
         "-0.03848781",
         "-0.06135436",
         "0.08274053",
         "0.023438003",
         "-0.008630886",
         "0.013100308",
         "0.0644215",
         "-0.044136155",
         "-0.069863304",
         "-0.073606014",
         "-0.04332644",
         "0.0069652176",
         "-0.050595663",
         "-0.016091209",
         "-0.05667938",
         "0.0033545361",
         "0.05341152",
         "0.02477615",
         "-0.014798587",
         "-0.029324299",
         "0.073022805",
         "-0.018683389",
         "0.081313714",
         "-0.026996717",
         "-0.056805663",
         "-0.0659389",
         "-0.0059539196",
         "0.028531285",
         "-0.0785358",
         "-0.002766983",
         "-0.0032646933",
         "-0.09283329",
         "-0.07273627",
         "-0.033190332",
         "0.10141109",
         "0.09798823",
         "-0.09787403",
         "0.01986678",
         "0.02388374",
         "-0.01816724",
         "-0.03737088",
         "0.001965514",
         "0.063442595",
         "0.011827139",
         "-0.011204113",
         "-0.038731653",
         "0.09324245",
         "0.004266332",
         "-0.016687253",
         "-0.06874644",
         "0.015512016",
         "-0.04977555",
         "0.03344931",
         "0.08000327",
         "0.021228194",
         "0.1345819",
         "-0.023072965",
         "0.055385865",
         "0.030755822",
         "-0.029390551",
         "0.02319055",
         "-0.09343082",
         "0.075803466",
         "-0.0052120867",
         "-0.05145231",
         "0.03326891",
         "0.036796305",
         "-0.010644996",
         "0.01016349",
         "-0.020765146",
         "-0.058551945",
         "0.04793285",
         "0.021369467",
         "0.08762134",
         "0.0033549566",
         "-0.03803369",
         "-0.018120514",
         "0.0068744966",
         "0.051587984",
         "-0.04755987",
         "-0.06120652",
         "-1.4548357e-32",
         "0.004127997",
         "0.0045963945",
         "-0.056390036",
         "0.0043246667",
         "-0.0010943777",
         "0.00931953",
         "-0.022026883",
         "0.05795644",
         "-0.01447874",
         "0.046415556",
         "0.14354287",
         "-0.06897567",
         "0.060963176",
         "-0.08937436",
         "0.024091985",
         "0.02060103",
         "-0.028241543",
         "-0.06483152",
         "0.056479566",
         "-0.0074834023",
         "-0.035205834",
         "0.08510606",
         "0.013035983",
         "0.020225778",
         "-0.014439093",
         "-0.046371855",
         "0.01772096",
         "0.015910601",
         "-0.09510093",
         "-0.035452683",
         "0.020869605",
         "0.0038439133",
         "-0.087791815",
         "0.06445754",
         "0.0144171",
         "0.0038473057",
         "0.047099166",
         "0.04946613",
         "0.015386275",
         "-0.025957907",
         "0.09108943",
         "0.018330788",
         "-0.05892064",
         "0.025199268",
         "-0.0330374",
         "0.0823345",
         "0.017479233",
         "0.06480476",
         "-0.0119673945",
         "-0.033177823",
         "0.030017769",
         "0.03542202",
         "-0.013962424",
         "0.06692723",
         "0.03879198",
         "0.060691636",
         "0.0011795596",
         "-0.02387869",
         "-0.12693043",
         "0.011384605",
         "0.015928997",
         "-0.012942709",
         "-0.08632478",
         "0.008536615",
         "0.0603761",
         "0.0151122045",
         "-0.11913238",
         "0.011523469",
         "0.05970896",
         "-0.03933459",
         "0.015567311",
         "0.010460214",
         "-0.04724568",
         "-0.02592433",
         "0.009985258",
         "0.030714639",
         "-0.07148446",
         "0.0069896635",
         "-0.015513311",
         "0.021886423",
         "-0.027814599",
         "0.0692733",
         "-0.027590334",
         "0.026242983",
         "0.0352562",
         "-0.042641986",
         "0.00074627355",
         "0.06598666",
         "-0.051510576",
         "-0.035843413",
         "-0.0065344255",
         "-0.027585838",
         "-0.100125544",
         "0.07833265",
         "-0.014579854",
         "-6.1845725e-08",
         "0.020032538",
         "0.065978475",
         "-0.020470263",
         "0.016404398",
         "0.076300144",
         "0.07321825",
         "0.0056578633",
         "-0.00069778995",
         "-0.0036379523",
         "0.06023938",
         "-0.032718703",
         "-0.06458383",
         "-0.059795246",
         "-0.017669609",
         "0.006101388",
         "-0.005634895",
         "-0.12297222",
         "0.063581884",
         "-0.021943185",
         "-0.116406456",
         "0.023436623",
         "-0.072352566",
         "0.02317739",
         "-0.065598726",
         "-0.07426819",
         "0.026014619",
         "0.035975873",
         "0.07684326",
         "-0.030805757",
         "-0.023479411",
         "-0.063042596",
         "-0.036215845",
         "-0.01035603",
         "-0.04756023",
         "-0.028752228",
         "0.029640064",
         "-0.0052689477",
         "0.056789",
         "-0.0037448735",
         "0.03096127",
         "0.034822684",
         "0.037860762",
         "0.021015547",
         "0.02706915",
         "0.05255203",
         "0.071622916",
         "-0.005537566",
         "0.040109396",
         "0.05162765",
         "-0.026731418",
         "0.059422422",
         "-0.042922426",
         "-0.011976065",
         "0.030598506",
         "-0.07403306",
         "0.018422201",
         "-0.008648602",
         "-0.088355735",
         "-0.059198424",
         "-0.00010091262",
         "0.11291363",
         "0.0045779226",
         "-0.04259715",
         "0.0032261938"
        ],
        [
         "1",
         "0.008045717",
         "-0.035739228",
         "0.04938739",
         "-0.0071918415",
         "0.00061764475",
         "-0.090568505",
         "0.057559486",
         "-0.043944627",
         "0.017475164",
         "0.052120324",
         "-0.046233203",
         "0.024903936",
         "0.04808118",
         "0.06866366",
         "0.035614666",
         "0.030008964",
         "0.02614495",
         "-0.09052413",
         "-0.08021736",
         "0.05048512",
         "-0.07908705",
         "-0.00176855",
         "-0.024892753",
         "0.09021524",
         "0.005836982",
         "-0.069107085",
         "-0.06679661",
         "-0.0069911364",
         "-0.104565986",
         "-0.026647385",
         "0.030564006",
         "0.020293437",
         "0.022545489",
         "-0.004226879",
         "0.011117348",
         "0.06782608",
         "0.010607359",
         "0.07566361",
         "-0.08227778",
         "0.008457357",
         "-0.06976125",
         "-0.04219746",
         "-0.01056744",
         "0.022367334",
         "0.05644968",
         "0.008165004",
         "0.10934408",
         "0.031656444",
         "-0.017692355",
         "-0.032107115",
         "-0.033997584",
         "-0.0004918026",
         "0.003728747",
         "0.028377146",
         "-0.012852198",
         "-0.0010793321",
         "-0.06324189",
         "0.068990074",
         "0.017727038",
         "-0.052096006",
         "0.008283071",
         "0.05450327",
         "-0.054209966",
         "-0.04533331",
         "-0.040749412",
         "-0.028269818",
         "0.012360584",
         "-0.021381602",
         "-0.023626536",
         "0.012531759",
         "-0.023717063",
         "0.03974118",
         "-0.124362275",
         "0.07606252",
         "0.055083405",
         "0.082821675",
         "0.029711857",
         "-0.01840672",
         "-0.019619476",
         "0.055431914",
         "-0.03491444",
         "-0.0414678",
         "-0.033704735",
         "0.07313245",
         "0.044183664",
         "0.025524674",
         "-0.008264084",
         "-0.010732285",
         "-0.042624388",
         "-0.002849641",
         "0.07385595",
         "0.022776794",
         "0.00071538956",
         "0.043601226",
         "0.050907947",
         "0.063848265",
         "-0.027315557",
         "-0.06550214",
         "-0.07692653",
         "0.035517115",
         "0.09604934",
         "0.021819552",
         "0.012015471",
         "-0.011786338",
         "-0.0045792316",
         "-0.008580356",
         "0.033715073",
         "0.023191813",
         "-0.07583255",
         "-0.052387927",
         "0.045393407",
         "-0.038078558",
         "-0.033490498",
         "0.09203533",
         "0.02876887",
         "-0.033381693",
         "-0.001958529",
         "-0.00030458005",
         "-0.017049924",
         "0.028533598",
         "-0.08810966",
         "-0.040225346",
         "-0.040009335",
         "-0.010319315",
         "-0.025196847",
         "0.021409303",
         "0.13104524",
         "-5.296328e-34",
         "-0.10965169",
         "0.012981157",
         "0.005926577",
         "0.047350623",
         "-0.008602969",
         "-0.036708932",
         "0.030521516",
         "0.05530667",
         "-0.047198564",
         "-0.012511873",
         "-0.115366414",
         "0.009079988",
         "0.107346505",
         "-0.049473483",
         "-0.013429067",
         "-0.046156257",
         "0.02453207",
         "0.009450764",
         "0.020432422",
         "-0.039991908",
         "-0.046782613",
         "0.02211717",
         "-0.04581872",
         "-0.00813273",
         "-0.007656702",
         "0.019228455",
         "0.048584543",
         "-0.025590321",
         "0.0016154036",
         "-0.013718037",
         "0.009673093",
         "0.007364174",
         "0.011408832",
         "0.12885344",
         "0.0077183605",
         "0.070636265",
         "0.025445214",
         "0.040652394",
         "0.02440397",
         "0.014377711",
         "-0.06009325",
         "0.07381803",
         "-0.024470102",
         "0.089890145",
         "0.0031705524",
         "0.10183445",
         "0.041774213",
         "-0.05951775",
         "-0.03231818",
         "0.038093876",
         "0.012115536",
         "-0.040783416",
         "0.02848234",
         "0.049098875",
         "-0.009357049",
         "0.06500741",
         "0.072353214",
         "-0.016779367",
         "-0.00822419",
         "-0.016157322",
         "0.05962255",
         "-0.033608377",
         "0.021210857",
         "-0.06060907",
         "0.15437767",
         "-0.07241463",
         "-0.037727255",
         "-0.03268903",
         "-0.0018038324",
         "-0.010196017",
         "-0.0016067722",
         "-0.06918466",
         "0.08284448",
         "0.09888394",
         "0.0034546636",
         "-0.09902479",
         "-0.03528269",
         "-0.07131785",
         "-0.049600024",
         "-0.034395453",
         "-0.081304215",
         "0.048144806",
         "0.005006832",
         "-0.022149973",
         "-0.056005698",
         "0.010006744",
         "-0.03597942",
         "0.10618431",
         "-0.045419674",
         "0.071639314",
         "-0.023677306",
         "0.009981432",
         "0.02736022",
         "0.10598546",
         "0.046016343",
         "9.590292e-34",
         "-0.11230698",
         "0.027891234",
         "-0.033590063",
         "0.053924255",
         "-0.022229144",
         "0.015376905",
         "0.031041157",
         "0.033901107",
         "0.07431673",
         "0.034247115",
         "-0.0033504786",
         "-0.020535052",
         "-0.036237005",
         "0.022933414",
         "-0.030199217",
         "-0.10081993",
         "0.0329194",
         "0.06775428",
         "0.013564558",
         "-0.005205459",
         "-0.06581588",
         "0.095455065",
         "-0.013403912",
         "0.015388566",
         "-0.07229362",
         "0.096783586",
         "-0.08081195",
         "-0.004534527",
         "-0.06420118",
         "-0.049927842",
         "0.046419777",
         "0.02213413",
         "0.031310923",
         "0.091356866",
         "-0.046112005",
         "-0.10276113",
         "0.030441642",
         "0.050987627",
         "0.06701409",
         "0.0104042925",
         "0.01635334",
         "0.039203074",
         "0.021715399",
         "0.05366033",
         "0.036280952",
         "-0.042214006",
         "-0.024722708",
         "0.019031206",
         "0.036172453",
         "0.063702084",
         "-0.003215841",
         "-0.008503909",
         "0.039465543",
         "0.009026553",
         "0.019309582",
         "0.06607179",
         "0.010269518",
         "-0.044385362",
         "-0.015652353",
         "-0.0155714555",
         "0.0132904705",
         "-0.011610823",
         "0.042183217",
         "-0.05447766",
         "0.12923723",
         "-0.022575684",
         "0.052620415",
         "-0.01584366",
         "0.0933165",
         "0.00638027",
         "-0.009361635",
         "-0.060887594",
         "-0.032730803",
         "-0.034481652",
         "0.03299739",
         "-0.047939215",
         "-0.098130085",
         "0.029116463",
         "-0.027090322",
         "0.018186703",
         "-0.017386049",
         "-0.044037163",
         "-0.07970021",
         "0.030164747",
         "-0.06352609",
         "0.012596324",
         "0.085025",
         "-0.045891043",
         "0.058101732",
         "-0.027100194",
         "0.08427757",
         "-0.04099728",
         "-0.033765603",
         "0.010208814",
         "-0.025419317",
         "-1.4061031e-08",
         "0.049444683",
         "-0.09043566",
         "-0.06067104",
         "0.08295296",
         "-0.03290326",
         "0.041491028",
         "0.009995921",
         "0.006961367",
         "0.0039923084",
         "-0.032433335",
         "-0.0314657",
         "-0.05331618",
         "-0.038091365",
         "0.016207684",
         "0.024577817",
         "-0.07264199",
         "-0.06568937",
         "-0.08231317",
         "-0.08005007",
         "-0.053664938",
         "0.056089476",
         "-0.011091344",
         "0.00096220267",
         "-0.12269031",
         "-0.05138363",
         "0.009967017",
         "0.010069646",
         "0.107073106",
         "0.01197583",
         "0.010042366",
         "-0.06282619",
         "-0.074969724",
         "-0.006340753",
         "-0.027220149",
         "-0.1280962",
         "-0.026245983",
         "-0.018146409",
         "-0.098536015",
         "-0.03029905",
         "-0.0402615",
         "0.099429116",
         "0.05359999",
         "0.02748998",
         "-0.005536845",
         "0.08435711",
         "0.083516195",
         "0.037430536",
         "0.071193725",
         "0.029890308",
         "0.023272878",
         "-0.03621119",
         "0.06205397",
         "0.021514846",
         "0.051973253",
         "0.014533781",
         "-0.046096634",
         "0.050255444",
         "-0.07270274",
         "0.029277932",
         "0.056266308",
         "-0.03863548",
         "0.015383194",
         "-0.062309466",
         "-0.027746655"
        ]
       ],
       "shape": {
        "columns": 384,
        "rows": 2
       }
      },
      "text/html": [
       "<div>\n",
       "<style scoped>\n",
       "    .dataframe tbody tr th:only-of-type {\n",
       "        vertical-align: middle;\n",
       "    }\n",
       "\n",
       "    .dataframe tbody tr th {\n",
       "        vertical-align: top;\n",
       "    }\n",
       "\n",
       "    .dataframe thead th {\n",
       "        text-align: right;\n",
       "    }\n",
       "</style>\n",
       "<table border=\"1\" class=\"dataframe\">\n",
       "  <thead>\n",
       "    <tr style=\"text-align: right;\">\n",
       "      <th></th>\n",
       "      <th>0</th>\n",
       "      <th>1</th>\n",
       "      <th>2</th>\n",
       "      <th>3</th>\n",
       "      <th>4</th>\n",
       "      <th>5</th>\n",
       "      <th>6</th>\n",
       "      <th>7</th>\n",
       "      <th>8</th>\n",
       "      <th>9</th>\n",
       "      <th>...</th>\n",
       "      <th>374</th>\n",
       "      <th>375</th>\n",
       "      <th>376</th>\n",
       "      <th>377</th>\n",
       "      <th>378</th>\n",
       "      <th>379</th>\n",
       "      <th>380</th>\n",
       "      <th>381</th>\n",
       "      <th>382</th>\n",
       "      <th>383</th>\n",
       "    </tr>\n",
       "  </thead>\n",
       "  <tbody>\n",
       "    <tr>\n",
       "      <th>0</th>\n",
       "      <td>-0.102940</td>\n",
       "      <td>0.033546</td>\n",
       "      <td>-0.022026</td>\n",
       "      <td>0.001551</td>\n",
       "      <td>-0.009869</td>\n",
       "      <td>-0.178956</td>\n",
       "      <td>-0.063441</td>\n",
       "      <td>-0.060176</td>\n",
       "      <td>0.028111</td>\n",
       "      <td>0.059962</td>\n",
       "      <td>...</td>\n",
       "      <td>-0.074033</td>\n",
       "      <td>0.018422</td>\n",
       "      <td>-0.008649</td>\n",
       "      <td>-0.088356</td>\n",
       "      <td>-0.059198</td>\n",
       "      <td>-0.000101</td>\n",
       "      <td>0.112914</td>\n",
       "      <td>0.004578</td>\n",
       "      <td>-0.042597</td>\n",
       "      <td>0.003226</td>\n",
       "    </tr>\n",
       "    <tr>\n",
       "      <th>1</th>\n",
       "      <td>0.008046</td>\n",
       "      <td>-0.035739</td>\n",
       "      <td>0.049387</td>\n",
       "      <td>-0.007192</td>\n",
       "      <td>0.000618</td>\n",
       "      <td>-0.090569</td>\n",
       "      <td>0.057559</td>\n",
       "      <td>-0.043945</td>\n",
       "      <td>0.017475</td>\n",
       "      <td>0.052120</td>\n",
       "      <td>...</td>\n",
       "      <td>0.014534</td>\n",
       "      <td>-0.046097</td>\n",
       "      <td>0.050255</td>\n",
       "      <td>-0.072703</td>\n",
       "      <td>0.029278</td>\n",
       "      <td>0.056266</td>\n",
       "      <td>-0.038635</td>\n",
       "      <td>0.015383</td>\n",
       "      <td>-0.062309</td>\n",
       "      <td>-0.027747</td>\n",
       "    </tr>\n",
       "  </tbody>\n",
       "</table>\n",
       "<p>2 rows × 384 columns</p>\n",
       "</div>"
      ],
      "text/plain": [
       "        0         1         2         3         4         5         6    \\\n",
       "0 -0.102940  0.033546 -0.022026  0.001551 -0.009869 -0.178956 -0.063441   \n",
       "1  0.008046 -0.035739  0.049387 -0.007192  0.000618 -0.090569  0.057559   \n",
       "\n",
       "        7         8         9    ...       374       375       376       377  \\\n",
       "0 -0.060176  0.028111  0.059962  ... -0.074033  0.018422 -0.008649 -0.088356   \n",
       "1 -0.043945  0.017475  0.052120  ...  0.014534 -0.046097  0.050255 -0.072703   \n",
       "\n",
       "        378       379       380       381       382       383  \n",
       "0 -0.059198 -0.000101  0.112914  0.004578 -0.042597  0.003226  \n",
       "1  0.029278  0.056266 -0.038635  0.015383 -0.062309 -0.027747  \n",
       "\n",
       "[2 rows x 384 columns]"
      ]
     },
     "execution_count": 8,
     "metadata": {},
     "output_type": "execute_result"
    }
   ],
   "source": [
    "from sentence_transformers import SentenceTransformer\n",
    "from sklearn.cluster import DBSCAN\n",
    "import numpy as np\n",
    "\n",
    "# Load a pre-trained sentence transformer model\n",
    "model = SentenceTransformer('all-MiniLM-L6-v2')\n",
    "\n",
    "# Generate embeddings for the log messages\n",
    "embeddings = model.encode(df['log_message'].tolist())\n",
    "df_embeddings = pd.DataFrame(embeddings[:2])\n",
    "df_embeddings\n",
    "# You can further analyze the clusters by examining the log messages within each cluster\n",
    "# For example, to see the log messages in cluster 0:\n",
    "# print(df[df['cluster'] == 0]['log_message'])"
   ]
  },
  {
   "cell_type": "code",
   "execution_count": 9,
   "metadata": {},
   "outputs": [
    {
     "data": {
      "application/vnd.microsoft.datawrangler.viewer.v0+json": {
       "columns": [
        {
         "name": "index",
         "rawType": "int64",
         "type": "integer"
        },
        {
         "name": "timestamp",
         "rawType": "object",
         "type": "string"
        },
        {
         "name": "source",
         "rawType": "object",
         "type": "string"
        },
        {
         "name": "log_message",
         "rawType": "object",
         "type": "string"
        },
        {
         "name": "target_label",
         "rawType": "object",
         "type": "string"
        },
        {
         "name": "cluster",
         "rawType": "int64",
         "type": "integer"
        }
       ],
       "conversionMethod": "pd.DataFrame",
       "ref": "fddf512c-52c3-4b28-a7e4-44d9b495c5e3",
       "rows": [
        [
         "0",
         "2025-06-27 07:20:25",
         "ModernCRM",
         "nova.osapi_compute.wsgi.server [req-b9718cd8-f65e-49cc-8349-6cf7122af137 113d3a99c3da401fbd62cc2caa5b96d2 54fadb412c4e40cdbaed9335e4c35a9e - - -] 10.11.10.1 \"GET /v2/54fadb412c4e40cdbaed9335e4c35a9e/servers/detail HTTP/1.1\" status: 200 len: 1893 time: 0.2675118",
         "HTTP Status",
         "0"
        ],
        [
         "1",
         "1/14/2025 23:07",
         "ModernCRM",
         "Email service experiencing issues with sending",
         "Critical Error",
         "1"
        ],
        [
         "2",
         "1/17/2025 1:29",
         "AnalyticsEngine",
         "Unauthorized access to data was attempted",
         "Security Alert",
         "2"
        ],
        [
         "3",
         "2025-07-12 00:24:16",
         "ModernHR",
         "nova.osapi_compute.wsgi.server [req-4895c258-b2f8-488f-a2a3-4fae63982e48 113d3a99c3da401fbd62cc2caa5b96d2 54fadb412c4e40cdbaed9335e4c35a9e - - -] 10.11.10.1 \"GET /v2/54fadb412c4e40cdbaed9335e4c35a9e/servers/detail HTTP/1.1\" HTTP status code -  200 len: 211 time: 0.0968180",
         "HTTP Status",
         "0"
        ],
        [
         "4",
         "2025-06-02 18:25:23",
         "BillingSystem",
         "nova.osapi_compute.wsgi.server [req-ee8bc8ba-9265-4280-9215-dbe000a41209 113d3a99c3da401fbd62cc2caa5b96d2 54fadb412c4e40cdbaed9335e4c35a9e - - -] 10.11.10.1 \"GET /v2/54fadb412c4e40cdbaed9335e4c35a9e/servers/detail HTTP/1.1\" RCODE  200 len: 1874 time: 0.2280791",
         "HTTP Status",
         "0"
        ]
       ],
       "shape": {
        "columns": 5,
        "rows": 5
       }
      },
      "text/html": [
       "<div>\n",
       "<style scoped>\n",
       "    .dataframe tbody tr th:only-of-type {\n",
       "        vertical-align: middle;\n",
       "    }\n",
       "\n",
       "    .dataframe tbody tr th {\n",
       "        vertical-align: top;\n",
       "    }\n",
       "\n",
       "    .dataframe thead th {\n",
       "        text-align: right;\n",
       "    }\n",
       "</style>\n",
       "<table border=\"1\" class=\"dataframe\">\n",
       "  <thead>\n",
       "    <tr style=\"text-align: right;\">\n",
       "      <th></th>\n",
       "      <th>timestamp</th>\n",
       "      <th>source</th>\n",
       "      <th>log_message</th>\n",
       "      <th>target_label</th>\n",
       "      <th>cluster</th>\n",
       "    </tr>\n",
       "  </thead>\n",
       "  <tbody>\n",
       "    <tr>\n",
       "      <th>0</th>\n",
       "      <td>2025-06-27 07:20:25</td>\n",
       "      <td>ModernCRM</td>\n",
       "      <td>nova.osapi_compute.wsgi.server [req-b9718cd8-f...</td>\n",
       "      <td>HTTP Status</td>\n",
       "      <td>0</td>\n",
       "    </tr>\n",
       "    <tr>\n",
       "      <th>1</th>\n",
       "      <td>1/14/2025 23:07</td>\n",
       "      <td>ModernCRM</td>\n",
       "      <td>Email service experiencing issues with sending</td>\n",
       "      <td>Critical Error</td>\n",
       "      <td>1</td>\n",
       "    </tr>\n",
       "    <tr>\n",
       "      <th>2</th>\n",
       "      <td>1/17/2025 1:29</td>\n",
       "      <td>AnalyticsEngine</td>\n",
       "      <td>Unauthorized access to data was attempted</td>\n",
       "      <td>Security Alert</td>\n",
       "      <td>2</td>\n",
       "    </tr>\n",
       "    <tr>\n",
       "      <th>3</th>\n",
       "      <td>2025-07-12 00:24:16</td>\n",
       "      <td>ModernHR</td>\n",
       "      <td>nova.osapi_compute.wsgi.server [req-4895c258-b...</td>\n",
       "      <td>HTTP Status</td>\n",
       "      <td>0</td>\n",
       "    </tr>\n",
       "    <tr>\n",
       "      <th>4</th>\n",
       "      <td>2025-06-02 18:25:23</td>\n",
       "      <td>BillingSystem</td>\n",
       "      <td>nova.osapi_compute.wsgi.server [req-ee8bc8ba-9...</td>\n",
       "      <td>HTTP Status</td>\n",
       "      <td>0</td>\n",
       "    </tr>\n",
       "  </tbody>\n",
       "</table>\n",
       "</div>"
      ],
      "text/plain": [
       "             timestamp           source  \\\n",
       "0  2025-06-27 07:20:25        ModernCRM   \n",
       "1      1/14/2025 23:07        ModernCRM   \n",
       "2       1/17/2025 1:29  AnalyticsEngine   \n",
       "3  2025-07-12 00:24:16         ModernHR   \n",
       "4  2025-06-02 18:25:23    BillingSystem   \n",
       "\n",
       "                                         log_message    target_label  cluster  \n",
       "0  nova.osapi_compute.wsgi.server [req-b9718cd8-f...     HTTP Status        0  \n",
       "1     Email service experiencing issues with sending  Critical Error        1  \n",
       "2          Unauthorized access to data was attempted  Security Alert        2  \n",
       "3  nova.osapi_compute.wsgi.server [req-4895c258-b...     HTTP Status        0  \n",
       "4  nova.osapi_compute.wsgi.server [req-ee8bc8ba-9...     HTTP Status        0  "
      ]
     },
     "execution_count": 9,
     "metadata": {},
     "output_type": "execute_result"
    }
   ],
   "source": [
    "# Apply DBSCAN clustering\n",
    "dbscan = DBSCAN(eps=0.2, min_samples=1, metric='cosine')  # Adjust eps and min_samples as needed\n",
    "clusters = dbscan.fit_predict(embeddings)\n",
    "\n",
    "# Add cluster labels to the DataFrame\n",
    "df['cluster'] = clusters\n",
    "df.head()\n",
    "# Print the number of clusters found\n",
    "# num_clusters = len(np.unique(clusters))\n",
    "# print(f\"Number of clusters found: {num_clusters}\")\n",
    "\n",
    "# # Print the number of logs in each cluster\n",
    "# print(df['cluster'].value_counts())"
   ]
  },
  {
   "cell_type": "code",
   "execution_count": 10,
   "metadata": {},
   "outputs": [
    {
     "data": {
      "application/vnd.microsoft.datawrangler.viewer.v0+json": {
       "columns": [
        {
         "name": "index",
         "rawType": "int64",
         "type": "integer"
        },
        {
         "name": "timestamp",
         "rawType": "object",
         "type": "string"
        },
        {
         "name": "source",
         "rawType": "object",
         "type": "string"
        },
        {
         "name": "log_message",
         "rawType": "object",
         "type": "string"
        },
        {
         "name": "target_label",
         "rawType": "object",
         "type": "string"
        },
        {
         "name": "cluster",
         "rawType": "int64",
         "type": "integer"
        }
       ],
       "conversionMethod": "pd.DataFrame",
       "ref": "3cb0e46d-b503-4c34-abdd-e9d86466c707",
       "rows": [
        [
         "1",
         "1/14/2025 23:07",
         "ModernCRM",
         "Email service experiencing issues with sending",
         "Critical Error",
         "1"
        ],
        [
         "10",
         "8/9/2025 18:58",
         "ModernCRM",
         "Email server encountered a sending fault",
         "Error",
         "1"
        ],
        [
         "217",
         "1/22/2025 5:45",
         "BillingSystem",
         "Mail service encountered a delivery glitch",
         "Error",
         "1"
        ],
        [
         "248",
         "5/2/2025 23:04",
         "ModernHR",
         "Service disruption caused by email sending error",
         "Critical Error",
         "1"
        ],
        [
         "265",
         "3/30/2025 23:53",
         "ModernCRM",
         "Email system had a problem sending emails",
         "Error",
         "1"
        ],
        [
         "361",
         "11/19/2025 23:06",
         "BillingSystem",
         "Email service experienced a sending issue",
         "Error",
         "1"
        ],
        [
         "450",
         "10/27/2025 5:59",
         "ThirdPartyAPI",
         "Email delivery system encountered an error",
         "Error",
         "1"
        ],
        [
         "477",
         "12/2/2025 10:30",
         "AnalyticsEngine",
         "Email transmission error caused service impact",
         "Critical Error",
         "1"
        ],
        [
         "570",
         "11/7/2025 18:08",
         "ThirdPartyAPI",
         "Email service impacted by sending failure",
         "Critical Error",
         "1"
        ],
        [
         "678",
         "4/28/2025 15:13",
         "AnalyticsEngine",
         "Email delivery problem affected system",
         "Critical Error",
         "1"
        ],
        [
         "695",
         "6/30/2025 12:46",
         "ThirdPartyAPI",
         "Service outage due to email delivery problem",
         "Critical Error",
         "1"
        ],
        [
         "816",
         "7/9/2025 9:38",
         "BillingSystem",
         "Error in email delivery affected service",
         "Critical Error",
         "1"
        ],
        [
         "926",
         "2/17/2025 8:01",
         "ModernCRM",
         "Email service suffered a delivery failure",
         "Error",
         "1"
        ],
        [
         "1011",
         "2/9/2025 17:04",
         "AnalyticsEngine",
         "Error in email sending impacted service",
         "Critical Error",
         "1"
        ],
        [
         "1018",
         "2/16/2025 15:02",
         "BillingSystem",
         "Mail service impacted by delivery glitch",
         "Critical Error",
         "1"
        ],
        [
         "1046",
         "11/26/2025 22:54",
         "AnalyticsEngine",
         "Email service had a difficulty delivering messages",
         "Error",
         "1"
        ],
        [
         "1058",
         "10/24/2025 5:37",
         "AnalyticsEngine",
         "Email system failed to deliver emails",
         "Error",
         "1"
        ],
        [
         "1082",
         "5/17/2025 11:20",
         "ModernHR",
         "Delivery failure impacted email services",
         "Critical Error",
         "1"
        ],
        [
         "1151",
         "6/17/2025 15:13",
         "ThirdPartyAPI",
         "Mail service was unable to send emails",
         "Error",
         "1"
        ],
        [
         "1176",
         "10/1/2025 12:27",
         "AnalyticsEngine",
         "Email provider faced a delivery challenge",
         "Error",
         "1"
        ],
        [
         "1189",
         "2/9/2025 6:15",
         "ModernCRM",
         "Service issue caused by email delivery error",
         "Critical Error",
         "1"
        ],
        [
         "1359",
         "8/18/2025 15:58",
         "ModernCRM",
         "Email system down due to sending error",
         "Critical Error",
         "1"
        ],
        [
         "1414",
         "6/22/2025 23:07",
         "ModernCRM",
         "Email system encountered a sending error",
         "Error",
         "1"
        ],
        [
         "1427",
         "10/26/2025 20:25",
         "ModernHR",
         "Email provider had trouble sending emails",
         "Error",
         "1"
        ],
        [
         "1453",
         "9/11/2025 1:18",
         "BillingSystem",
         "Mail delivery error impacted email service",
         "Critical Error",
         "1"
        ],
        [
         "1554",
         "3/2/2025 9:21",
         "ModernCRM",
         "Email system had a difficulty sending messages",
         "Error",
         "1"
        ],
        [
         "1567",
         "5/11/2025 11:17",
         "ThirdPartyAPI",
         "Email system affected by delivery failure",
         "Critical Error",
         "1"
        ],
        [
         "1582",
         "9/10/2025 9:27",
         "BillingSystem",
         "Email delivery failure resulted in service issue",
         "Critical Error",
         "1"
        ],
        [
         "1860",
         "6/26/2025 1:08",
         "BillingSystem",
         "Email provider experienced a mail delivery issue",
         "Error",
         "1"
        ],
        [
         "1867",
         "10/6/2025 11:04",
         "ModernCRM",
         "Email service had a sending malfunction",
         "Error",
         "1"
        ],
        [
         "1901",
         "9/22/2025 2:52",
         "ThirdPartyAPI",
         "Email service experienced a mail sending issue",
         "Error",
         "1"
        ],
        [
         "1972",
         "3/12/2025 3:48",
         "ThirdPartyAPI",
         "Delivery issue with email service caused outage",
         "Critical Error",
         "1"
        ],
        [
         "2049",
         "10/1/2025 22:07",
         "AnalyticsEngine",
         "Email server experienced a delivery problem",
         "Error",
         "1"
        ],
        [
         "2165",
         "4/4/2025 16:11",
         "ThirdPartyAPI",
         "Email server had trouble transmitting emails",
         "Error",
         "1"
        ],
        [
         "2281",
         "3/23/2025 20:12",
         "ThirdPartyAPI",
         "Mail delivery issue caused service disruption",
         "Critical Error",
         "1"
        ],
        [
         "2284",
         "10/4/2025 18:15",
         "BillingSystem",
         "Email service down due to transmission issue",
         "Critical Error",
         "1"
        ],
        [
         "2312",
         "3/9/2025 21:16",
         "ModernHR",
         "Email service faced a delivery obstacle",
         "Error",
         "1"
        ],
        [
         "2340",
         "3/26/2025 8:10",
         "ModernCRM",
         "Service outage due to email transmission error",
         "Critical Error",
         "1"
        ],
        [
         "2408",
         "11/11/2025 11:52",
         "BillingSystem",
         "Email service affected by failed transmission",
         "Critical Error",
         "1"
        ]
       ],
       "shape": {
        "columns": 5,
        "rows": 39
       }
      },
      "text/html": [
       "<div>\n",
       "<style scoped>\n",
       "    .dataframe tbody tr th:only-of-type {\n",
       "        vertical-align: middle;\n",
       "    }\n",
       "\n",
       "    .dataframe tbody tr th {\n",
       "        vertical-align: top;\n",
       "    }\n",
       "\n",
       "    .dataframe thead th {\n",
       "        text-align: right;\n",
       "    }\n",
       "</style>\n",
       "<table border=\"1\" class=\"dataframe\">\n",
       "  <thead>\n",
       "    <tr style=\"text-align: right;\">\n",
       "      <th></th>\n",
       "      <th>timestamp</th>\n",
       "      <th>source</th>\n",
       "      <th>log_message</th>\n",
       "      <th>target_label</th>\n",
       "      <th>cluster</th>\n",
       "    </tr>\n",
       "  </thead>\n",
       "  <tbody>\n",
       "    <tr>\n",
       "      <th>1</th>\n",
       "      <td>1/14/2025 23:07</td>\n",
       "      <td>ModernCRM</td>\n",
       "      <td>Email service experiencing issues with sending</td>\n",
       "      <td>Critical Error</td>\n",
       "      <td>1</td>\n",
       "    </tr>\n",
       "    <tr>\n",
       "      <th>10</th>\n",
       "      <td>8/9/2025 18:58</td>\n",
       "      <td>ModernCRM</td>\n",
       "      <td>Email server encountered a sending fault</td>\n",
       "      <td>Error</td>\n",
       "      <td>1</td>\n",
       "    </tr>\n",
       "    <tr>\n",
       "      <th>217</th>\n",
       "      <td>1/22/2025 5:45</td>\n",
       "      <td>BillingSystem</td>\n",
       "      <td>Mail service encountered a delivery glitch</td>\n",
       "      <td>Error</td>\n",
       "      <td>1</td>\n",
       "    </tr>\n",
       "    <tr>\n",
       "      <th>248</th>\n",
       "      <td>5/2/2025 23:04</td>\n",
       "      <td>ModernHR</td>\n",
       "      <td>Service disruption caused by email sending error</td>\n",
       "      <td>Critical Error</td>\n",
       "      <td>1</td>\n",
       "    </tr>\n",
       "    <tr>\n",
       "      <th>265</th>\n",
       "      <td>3/30/2025 23:53</td>\n",
       "      <td>ModernCRM</td>\n",
       "      <td>Email system had a problem sending emails</td>\n",
       "      <td>Error</td>\n",
       "      <td>1</td>\n",
       "    </tr>\n",
       "    <tr>\n",
       "      <th>361</th>\n",
       "      <td>11/19/2025 23:06</td>\n",
       "      <td>BillingSystem</td>\n",
       "      <td>Email service experienced a sending issue</td>\n",
       "      <td>Error</td>\n",
       "      <td>1</td>\n",
       "    </tr>\n",
       "    <tr>\n",
       "      <th>450</th>\n",
       "      <td>10/27/2025 5:59</td>\n",
       "      <td>ThirdPartyAPI</td>\n",
       "      <td>Email delivery system encountered an error</td>\n",
       "      <td>Error</td>\n",
       "      <td>1</td>\n",
       "    </tr>\n",
       "    <tr>\n",
       "      <th>477</th>\n",
       "      <td>12/2/2025 10:30</td>\n",
       "      <td>AnalyticsEngine</td>\n",
       "      <td>Email transmission error caused service impact</td>\n",
       "      <td>Critical Error</td>\n",
       "      <td>1</td>\n",
       "    </tr>\n",
       "    <tr>\n",
       "      <th>570</th>\n",
       "      <td>11/7/2025 18:08</td>\n",
       "      <td>ThirdPartyAPI</td>\n",
       "      <td>Email service impacted by sending failure</td>\n",
       "      <td>Critical Error</td>\n",
       "      <td>1</td>\n",
       "    </tr>\n",
       "    <tr>\n",
       "      <th>678</th>\n",
       "      <td>4/28/2025 15:13</td>\n",
       "      <td>AnalyticsEngine</td>\n",
       "      <td>Email delivery problem affected system</td>\n",
       "      <td>Critical Error</td>\n",
       "      <td>1</td>\n",
       "    </tr>\n",
       "    <tr>\n",
       "      <th>695</th>\n",
       "      <td>6/30/2025 12:46</td>\n",
       "      <td>ThirdPartyAPI</td>\n",
       "      <td>Service outage due to email delivery problem</td>\n",
       "      <td>Critical Error</td>\n",
       "      <td>1</td>\n",
       "    </tr>\n",
       "    <tr>\n",
       "      <th>816</th>\n",
       "      <td>7/9/2025 9:38</td>\n",
       "      <td>BillingSystem</td>\n",
       "      <td>Error in email delivery affected service</td>\n",
       "      <td>Critical Error</td>\n",
       "      <td>1</td>\n",
       "    </tr>\n",
       "    <tr>\n",
       "      <th>926</th>\n",
       "      <td>2/17/2025 8:01</td>\n",
       "      <td>ModernCRM</td>\n",
       "      <td>Email service suffered a delivery failure</td>\n",
       "      <td>Error</td>\n",
       "      <td>1</td>\n",
       "    </tr>\n",
       "    <tr>\n",
       "      <th>1011</th>\n",
       "      <td>2/9/2025 17:04</td>\n",
       "      <td>AnalyticsEngine</td>\n",
       "      <td>Error in email sending impacted service</td>\n",
       "      <td>Critical Error</td>\n",
       "      <td>1</td>\n",
       "    </tr>\n",
       "    <tr>\n",
       "      <th>1018</th>\n",
       "      <td>2/16/2025 15:02</td>\n",
       "      <td>BillingSystem</td>\n",
       "      <td>Mail service impacted by delivery glitch</td>\n",
       "      <td>Critical Error</td>\n",
       "      <td>1</td>\n",
       "    </tr>\n",
       "    <tr>\n",
       "      <th>1046</th>\n",
       "      <td>11/26/2025 22:54</td>\n",
       "      <td>AnalyticsEngine</td>\n",
       "      <td>Email service had a difficulty delivering mess...</td>\n",
       "      <td>Error</td>\n",
       "      <td>1</td>\n",
       "    </tr>\n",
       "    <tr>\n",
       "      <th>1058</th>\n",
       "      <td>10/24/2025 5:37</td>\n",
       "      <td>AnalyticsEngine</td>\n",
       "      <td>Email system failed to deliver emails</td>\n",
       "      <td>Error</td>\n",
       "      <td>1</td>\n",
       "    </tr>\n",
       "    <tr>\n",
       "      <th>1082</th>\n",
       "      <td>5/17/2025 11:20</td>\n",
       "      <td>ModernHR</td>\n",
       "      <td>Delivery failure impacted email services</td>\n",
       "      <td>Critical Error</td>\n",
       "      <td>1</td>\n",
       "    </tr>\n",
       "    <tr>\n",
       "      <th>1151</th>\n",
       "      <td>6/17/2025 15:13</td>\n",
       "      <td>ThirdPartyAPI</td>\n",
       "      <td>Mail service was unable to send emails</td>\n",
       "      <td>Error</td>\n",
       "      <td>1</td>\n",
       "    </tr>\n",
       "    <tr>\n",
       "      <th>1176</th>\n",
       "      <td>10/1/2025 12:27</td>\n",
       "      <td>AnalyticsEngine</td>\n",
       "      <td>Email provider faced a delivery challenge</td>\n",
       "      <td>Error</td>\n",
       "      <td>1</td>\n",
       "    </tr>\n",
       "    <tr>\n",
       "      <th>1189</th>\n",
       "      <td>2/9/2025 6:15</td>\n",
       "      <td>ModernCRM</td>\n",
       "      <td>Service issue caused by email delivery error</td>\n",
       "      <td>Critical Error</td>\n",
       "      <td>1</td>\n",
       "    </tr>\n",
       "    <tr>\n",
       "      <th>1359</th>\n",
       "      <td>8/18/2025 15:58</td>\n",
       "      <td>ModernCRM</td>\n",
       "      <td>Email system down due to sending error</td>\n",
       "      <td>Critical Error</td>\n",
       "      <td>1</td>\n",
       "    </tr>\n",
       "    <tr>\n",
       "      <th>1414</th>\n",
       "      <td>6/22/2025 23:07</td>\n",
       "      <td>ModernCRM</td>\n",
       "      <td>Email system encountered a sending error</td>\n",
       "      <td>Error</td>\n",
       "      <td>1</td>\n",
       "    </tr>\n",
       "    <tr>\n",
       "      <th>1427</th>\n",
       "      <td>10/26/2025 20:25</td>\n",
       "      <td>ModernHR</td>\n",
       "      <td>Email provider had trouble sending emails</td>\n",
       "      <td>Error</td>\n",
       "      <td>1</td>\n",
       "    </tr>\n",
       "    <tr>\n",
       "      <th>1453</th>\n",
       "      <td>9/11/2025 1:18</td>\n",
       "      <td>BillingSystem</td>\n",
       "      <td>Mail delivery error impacted email service</td>\n",
       "      <td>Critical Error</td>\n",
       "      <td>1</td>\n",
       "    </tr>\n",
       "    <tr>\n",
       "      <th>1554</th>\n",
       "      <td>3/2/2025 9:21</td>\n",
       "      <td>ModernCRM</td>\n",
       "      <td>Email system had a difficulty sending messages</td>\n",
       "      <td>Error</td>\n",
       "      <td>1</td>\n",
       "    </tr>\n",
       "    <tr>\n",
       "      <th>1567</th>\n",
       "      <td>5/11/2025 11:17</td>\n",
       "      <td>ThirdPartyAPI</td>\n",
       "      <td>Email system affected by delivery failure</td>\n",
       "      <td>Critical Error</td>\n",
       "      <td>1</td>\n",
       "    </tr>\n",
       "    <tr>\n",
       "      <th>1582</th>\n",
       "      <td>9/10/2025 9:27</td>\n",
       "      <td>BillingSystem</td>\n",
       "      <td>Email delivery failure resulted in service issue</td>\n",
       "      <td>Critical Error</td>\n",
       "      <td>1</td>\n",
       "    </tr>\n",
       "    <tr>\n",
       "      <th>1860</th>\n",
       "      <td>6/26/2025 1:08</td>\n",
       "      <td>BillingSystem</td>\n",
       "      <td>Email provider experienced a mail delivery issue</td>\n",
       "      <td>Error</td>\n",
       "      <td>1</td>\n",
       "    </tr>\n",
       "    <tr>\n",
       "      <th>1867</th>\n",
       "      <td>10/6/2025 11:04</td>\n",
       "      <td>ModernCRM</td>\n",
       "      <td>Email service had a sending malfunction</td>\n",
       "      <td>Error</td>\n",
       "      <td>1</td>\n",
       "    </tr>\n",
       "    <tr>\n",
       "      <th>1901</th>\n",
       "      <td>9/22/2025 2:52</td>\n",
       "      <td>ThirdPartyAPI</td>\n",
       "      <td>Email service experienced a mail sending issue</td>\n",
       "      <td>Error</td>\n",
       "      <td>1</td>\n",
       "    </tr>\n",
       "    <tr>\n",
       "      <th>1972</th>\n",
       "      <td>3/12/2025 3:48</td>\n",
       "      <td>ThirdPartyAPI</td>\n",
       "      <td>Delivery issue with email service caused outage</td>\n",
       "      <td>Critical Error</td>\n",
       "      <td>1</td>\n",
       "    </tr>\n",
       "    <tr>\n",
       "      <th>2049</th>\n",
       "      <td>10/1/2025 22:07</td>\n",
       "      <td>AnalyticsEngine</td>\n",
       "      <td>Email server experienced a delivery problem</td>\n",
       "      <td>Error</td>\n",
       "      <td>1</td>\n",
       "    </tr>\n",
       "    <tr>\n",
       "      <th>2165</th>\n",
       "      <td>4/4/2025 16:11</td>\n",
       "      <td>ThirdPartyAPI</td>\n",
       "      <td>Email server had trouble transmitting emails</td>\n",
       "      <td>Error</td>\n",
       "      <td>1</td>\n",
       "    </tr>\n",
       "    <tr>\n",
       "      <th>2281</th>\n",
       "      <td>3/23/2025 20:12</td>\n",
       "      <td>ThirdPartyAPI</td>\n",
       "      <td>Mail delivery issue caused service disruption</td>\n",
       "      <td>Critical Error</td>\n",
       "      <td>1</td>\n",
       "    </tr>\n",
       "    <tr>\n",
       "      <th>2284</th>\n",
       "      <td>10/4/2025 18:15</td>\n",
       "      <td>BillingSystem</td>\n",
       "      <td>Email service down due to transmission issue</td>\n",
       "      <td>Critical Error</td>\n",
       "      <td>1</td>\n",
       "    </tr>\n",
       "    <tr>\n",
       "      <th>2312</th>\n",
       "      <td>3/9/2025 21:16</td>\n",
       "      <td>ModernHR</td>\n",
       "      <td>Email service faced a delivery obstacle</td>\n",
       "      <td>Error</td>\n",
       "      <td>1</td>\n",
       "    </tr>\n",
       "    <tr>\n",
       "      <th>2340</th>\n",
       "      <td>3/26/2025 8:10</td>\n",
       "      <td>ModernCRM</td>\n",
       "      <td>Service outage due to email transmission error</td>\n",
       "      <td>Critical Error</td>\n",
       "      <td>1</td>\n",
       "    </tr>\n",
       "    <tr>\n",
       "      <th>2408</th>\n",
       "      <td>11/11/2025 11:52</td>\n",
       "      <td>BillingSystem</td>\n",
       "      <td>Email service affected by failed transmission</td>\n",
       "      <td>Critical Error</td>\n",
       "      <td>1</td>\n",
       "    </tr>\n",
       "  </tbody>\n",
       "</table>\n",
       "</div>"
      ],
      "text/plain": [
       "             timestamp           source  \\\n",
       "1      1/14/2025 23:07        ModernCRM   \n",
       "10      8/9/2025 18:58        ModernCRM   \n",
       "217     1/22/2025 5:45    BillingSystem   \n",
       "248     5/2/2025 23:04         ModernHR   \n",
       "265    3/30/2025 23:53        ModernCRM   \n",
       "361   11/19/2025 23:06    BillingSystem   \n",
       "450    10/27/2025 5:59    ThirdPartyAPI   \n",
       "477    12/2/2025 10:30  AnalyticsEngine   \n",
       "570    11/7/2025 18:08    ThirdPartyAPI   \n",
       "678    4/28/2025 15:13  AnalyticsEngine   \n",
       "695    6/30/2025 12:46    ThirdPartyAPI   \n",
       "816      7/9/2025 9:38    BillingSystem   \n",
       "926     2/17/2025 8:01        ModernCRM   \n",
       "1011    2/9/2025 17:04  AnalyticsEngine   \n",
       "1018   2/16/2025 15:02    BillingSystem   \n",
       "1046  11/26/2025 22:54  AnalyticsEngine   \n",
       "1058   10/24/2025 5:37  AnalyticsEngine   \n",
       "1082   5/17/2025 11:20         ModernHR   \n",
       "1151   6/17/2025 15:13    ThirdPartyAPI   \n",
       "1176   10/1/2025 12:27  AnalyticsEngine   \n",
       "1189     2/9/2025 6:15        ModernCRM   \n",
       "1359   8/18/2025 15:58        ModernCRM   \n",
       "1414   6/22/2025 23:07        ModernCRM   \n",
       "1427  10/26/2025 20:25         ModernHR   \n",
       "1453    9/11/2025 1:18    BillingSystem   \n",
       "1554     3/2/2025 9:21        ModernCRM   \n",
       "1567   5/11/2025 11:17    ThirdPartyAPI   \n",
       "1582    9/10/2025 9:27    BillingSystem   \n",
       "1860    6/26/2025 1:08    BillingSystem   \n",
       "1867   10/6/2025 11:04        ModernCRM   \n",
       "1901    9/22/2025 2:52    ThirdPartyAPI   \n",
       "1972    3/12/2025 3:48    ThirdPartyAPI   \n",
       "2049   10/1/2025 22:07  AnalyticsEngine   \n",
       "2165    4/4/2025 16:11    ThirdPartyAPI   \n",
       "2281   3/23/2025 20:12    ThirdPartyAPI   \n",
       "2284   10/4/2025 18:15    BillingSystem   \n",
       "2312    3/9/2025 21:16         ModernHR   \n",
       "2340    3/26/2025 8:10        ModernCRM   \n",
       "2408  11/11/2025 11:52    BillingSystem   \n",
       "\n",
       "                                            log_message    target_label  \\\n",
       "1        Email service experiencing issues with sending  Critical Error   \n",
       "10             Email server encountered a sending fault           Error   \n",
       "217          Mail service encountered a delivery glitch           Error   \n",
       "248    Service disruption caused by email sending error  Critical Error   \n",
       "265           Email system had a problem sending emails           Error   \n",
       "361           Email service experienced a sending issue           Error   \n",
       "450          Email delivery system encountered an error           Error   \n",
       "477      Email transmission error caused service impact  Critical Error   \n",
       "570           Email service impacted by sending failure  Critical Error   \n",
       "678              Email delivery problem affected system  Critical Error   \n",
       "695        Service outage due to email delivery problem  Critical Error   \n",
       "816            Error in email delivery affected service  Critical Error   \n",
       "926           Email service suffered a delivery failure           Error   \n",
       "1011            Error in email sending impacted service  Critical Error   \n",
       "1018           Mail service impacted by delivery glitch  Critical Error   \n",
       "1046  Email service had a difficulty delivering mess...           Error   \n",
       "1058              Email system failed to deliver emails           Error   \n",
       "1082           Delivery failure impacted email services  Critical Error   \n",
       "1151             Mail service was unable to send emails           Error   \n",
       "1176          Email provider faced a delivery challenge           Error   \n",
       "1189       Service issue caused by email delivery error  Critical Error   \n",
       "1359             Email system down due to sending error  Critical Error   \n",
       "1414           Email system encountered a sending error           Error   \n",
       "1427          Email provider had trouble sending emails           Error   \n",
       "1453         Mail delivery error impacted email service  Critical Error   \n",
       "1554     Email system had a difficulty sending messages           Error   \n",
       "1567          Email system affected by delivery failure  Critical Error   \n",
       "1582   Email delivery failure resulted in service issue  Critical Error   \n",
       "1860   Email provider experienced a mail delivery issue           Error   \n",
       "1867            Email service had a sending malfunction           Error   \n",
       "1901     Email service experienced a mail sending issue           Error   \n",
       "1972    Delivery issue with email service caused outage  Critical Error   \n",
       "2049        Email server experienced a delivery problem           Error   \n",
       "2165       Email server had trouble transmitting emails           Error   \n",
       "2281      Mail delivery issue caused service disruption  Critical Error   \n",
       "2284       Email service down due to transmission issue  Critical Error   \n",
       "2312            Email service faced a delivery obstacle           Error   \n",
       "2340     Service outage due to email transmission error  Critical Error   \n",
       "2408      Email service affected by failed transmission  Critical Error   \n",
       "\n",
       "      cluster  \n",
       "1           1  \n",
       "10          1  \n",
       "217         1  \n",
       "248         1  \n",
       "265         1  \n",
       "361         1  \n",
       "450         1  \n",
       "477         1  \n",
       "570         1  \n",
       "678         1  \n",
       "695         1  \n",
       "816         1  \n",
       "926         1  \n",
       "1011        1  \n",
       "1018        1  \n",
       "1046        1  \n",
       "1058        1  \n",
       "1082        1  \n",
       "1151        1  \n",
       "1176        1  \n",
       "1189        1  \n",
       "1359        1  \n",
       "1414        1  \n",
       "1427        1  \n",
       "1453        1  \n",
       "1554        1  \n",
       "1567        1  \n",
       "1582        1  \n",
       "1860        1  \n",
       "1867        1  \n",
       "1901        1  \n",
       "1972        1  \n",
       "2049        1  \n",
       "2165        1  \n",
       "2281        1  \n",
       "2284        1  \n",
       "2312        1  \n",
       "2340        1  \n",
       "2408        1  "
      ]
     },
     "execution_count": 10,
     "metadata": {},
     "output_type": "execute_result"
    }
   ],
   "source": [
    "df[df.cluster == 1]"
   ]
  },
  {
   "cell_type": "code",
   "execution_count": 11,
   "metadata": {},
   "outputs": [
    {
     "data": {
      "application/vnd.microsoft.datawrangler.viewer.v0+json": {
       "columns": [
        {
         "name": "index",
         "rawType": "int64",
         "type": "integer"
        },
        {
         "name": "timestamp",
         "rawType": "object",
         "type": "string"
        },
        {
         "name": "source",
         "rawType": "object",
         "type": "string"
        },
        {
         "name": "log_message",
         "rawType": "object",
         "type": "string"
        },
        {
         "name": "target_label",
         "rawType": "object",
         "type": "string"
        },
        {
         "name": "cluster",
         "rawType": "int64",
         "type": "integer"
        }
       ],
       "conversionMethod": "pd.DataFrame",
       "ref": "247e608d-deaa-4083-9092-22b96ee42a07",
       "rows": [
        [
         "0",
         "2025-06-27 07:20:25",
         "ModernCRM",
         "nova.osapi_compute.wsgi.server [req-b9718cd8-f65e-49cc-8349-6cf7122af137 113d3a99c3da401fbd62cc2caa5b96d2 54fadb412c4e40cdbaed9335e4c35a9e - - -] 10.11.10.1 \"GET /v2/54fadb412c4e40cdbaed9335e4c35a9e/servers/detail HTTP/1.1\" status: 200 len: 1893 time: 0.2675118",
         "HTTP Status",
         "0"
        ],
        [
         "3",
         "2025-07-12 00:24:16",
         "ModernHR",
         "nova.osapi_compute.wsgi.server [req-4895c258-b2f8-488f-a2a3-4fae63982e48 113d3a99c3da401fbd62cc2caa5b96d2 54fadb412c4e40cdbaed9335e4c35a9e - - -] 10.11.10.1 \"GET /v2/54fadb412c4e40cdbaed9335e4c35a9e/servers/detail HTTP/1.1\" HTTP status code -  200 len: 211 time: 0.0968180",
         "HTTP Status",
         "0"
        ],
        [
         "4",
         "2025-06-02 18:25:23",
         "BillingSystem",
         "nova.osapi_compute.wsgi.server [req-ee8bc8ba-9265-4280-9215-dbe000a41209 113d3a99c3da401fbd62cc2caa5b96d2 54fadb412c4e40cdbaed9335e4c35a9e - - -] 10.11.10.1 \"GET /v2/54fadb412c4e40cdbaed9335e4c35a9e/servers/detail HTTP/1.1\" RCODE  200 len: 1874 time: 0.2280791",
         "HTTP Status",
         "0"
        ],
        [
         "5",
         "2025-10-09 10:30:31",
         "ModernHR",
         "nova.osapi_compute.wsgi.server [req-f0bffbc3-5ab0-4916-91c1-0a61dd7d4ec2 113d3a99c3da401fbd62cc2caa5b96d2 54fadb412c4e40cdbaed9335e4c35a9e - - -] 10.11.10.1 \"GET /v2/54fadb412c4e40cdbaed9335e4c35a9e/servers/detail HTTP/1.1\" Return code: 200 len: 1874 time: 0.2131531",
         "HTTP Status",
         "0"
        ],
        [
         "9",
         "2025-03-30 04:01:45",
         "ModernHR",
         "nova.osapi_compute.wsgi.server [req-2bf7cfee-a236-42f3-8fb1-96fefab0b302 113d3a99c3da401fbd62cc2caa5b96d2 54fadb412c4e40cdbaed9335e4c35a9e - - -] 10.11.10.1 \"GET /v2/54fadb412c4e40cdbaed9335e4c35a9e/servers/detail HTTP/1.1\" RCODE  200 len: 1874 time: 0.1794369",
         "HTTP Status",
         "0"
        ],
        [
         "12",
         "2025-07-12 03:03:18",
         "ModernHR",
         "nova.osapi_compute.wsgi.server [req-d4f8d0c2-4f21-4b38-9f85-d82f8da75c23 113d3a99c3da401fbd62cc2caa5b96d2 54fadb412c4e40cdbaed9335e4c35a9e - - -] 10.11.10.1 \"GET /v2/54fadb412c4e40cdbaed9335e4c35a9e/servers/detail HTTP/1.1\" status: 200 len: 1893 time: 0.2663860",
         "HTTP Status",
         "0"
        ],
        [
         "16",
         "2025-11-15 14:48:30",
         "BillingSystem",
         "nova.osapi_compute.wsgi.server [req-6fe0e366-f20b-454e-ade1-771deb7a911f 113d3a99c3da401fbd62cc2caa5b96d2 54fadb412c4e40cdbaed9335e4c35a9e - - -] 10.11.10.1 \"GET /v2/54fadb412c4e40cdbaed9335e4c35a9e/servers/detail HTTP/1.1\" Status code -  200 len: 1893 time: 0.2608259",
         "HTTP Status",
         "0"
        ],
        [
         "17",
         "2025-01-27 12:39:05",
         "ModernCRM",
         "nova.osapi_compute.wsgi.server [req-5f1c2027-e1b0-43f1-b6d3-694f483a69be 113d3a99c3da401fbd62cc2caa5b96d2 54fadb412c4e40cdbaed9335e4c35a9e - - -] 10.11.10.1 \"GET /v2/54fadb412c4e40cdbaed9335e4c35a9e/servers/detail HTTP/1.1\" RCODE  200 len: 1893 time: 0.2732208",
         "HTTP Status",
         "0"
        ],
        [
         "19",
         "2025-07-10 01:17:59",
         "BillingSystem",
         "nova.osapi_compute.wsgi.server [req-945d1f31-a2e5-496a-a1da-21a0c88b6b61 113d3a99c3da401fbd62cc2caa5b96d2 54fadb412c4e40cdbaed9335e4c35a9e - - -] 10.11.10.1 \"GET /v2/54fadb412c4e40cdbaed9335e4c35a9e/servers/detail HTTP/1.1\" HTTP status code -  200 len: 1893 time: 0.2775040",
         "HTTP Status",
         "0"
        ],
        [
         "20",
         "2025-12-27 12:52:25",
         "ThirdPartyAPI",
         "nova.osapi_compute.wsgi.server [req-033d97b9-69e4-4acd-9029-f0d7b9370645 f7b8d1f1d4d44643b07fa10ca7d021fb e9746973ac574c6b8a9e8857f56a7608 - - -] 10.11.10.1 \"POST /v2/e9746973ac574c6b8a9e8857f56a7608/os-server-external-events HTTP/1.1\" status: 404 len: 296 time: 0.0847020",
         "HTTP Status",
         "0"
        ],
        [
         "21",
         "2025-03-01 19:16:10",
         "ModernCRM",
         "nova.osapi_compute.wsgi.server [req-75bc6269-8527-4b6a-8925-67611b9e00d9 113d3a99c3da401fbd62cc2caa5b96d2 54fadb412c4e40cdbaed9335e4c35a9e - - -] 10.11.10.1 \"GET /v2/54fadb412c4e40cdbaed9335e4c35a9e/servers/detail HTTP/1.1\" status: 200 len: 1916 time: 0.2785730",
         "HTTP Status",
         "0"
        ],
        [
         "23",
         "2025-09-01 18:46:38",
         "ModernHR",
         "nova.osapi_compute.wsgi.server [req-077c3c87-b7ff-46f8-8320-8fed200a0b94 113d3a99c3da401fbd62cc2caa5b96d2 54fadb412c4e40cdbaed9335e4c35a9e - - -] 10.11.10.1 \"GET /v2/54fadb412c4e40cdbaed9335e4c35a9e/servers/detail HTTP/1.1\" Status code -  200 len: 1893 time: 0.2517929",
         "HTTP Status",
         "0"
        ],
        [
         "24",
         "2025-12-16 23:18:28",
         "ModernCRM",
         "nova.osapi_compute.wsgi.server [req-4e83daf7-a24c-4ab4-96ff-1da5848255ad 113d3a99c3da401fbd62cc2caa5b96d2 54fadb412c4e40cdbaed9335e4c35a9e - - -] 10.11.10.1 \"GET /v2/54fadb412c4e40cdbaed9335e4c35a9e/servers/detail HTTP/1.1\" RCODE  200 len: 1583 time: 0.1878400",
         "HTTP Status",
         "0"
        ],
        [
         "25",
         "2025-02-15 09:00:40",
         "AnalyticsEngine",
         "nova.osapi_compute.wsgi.server [req-bfce366e-9868-4f52-b245-271e9b3455ca 113d3a99c3da401fbd62cc2caa5b96d2 54fadb412c4e40cdbaed9335e4c35a9e - - -] 10.11.10.1 \"GET /v2/54fadb412c4e40cdbaed9335e4c35a9e/servers/detail HTTP/1.1\" status: 200 len: 1583 time: 0.1962459",
         "HTTP Status",
         "0"
        ],
        [
         "28",
         "2025-07-31 07:47:02",
         "AnalyticsEngine",
         "nova.osapi_compute.wsgi.server [req-5e6e042b-f9e8-4ab4-add4-b4809623b13a 113d3a99c3da401fbd62cc2caa5b96d2 54fadb412c4e40cdbaed9335e4c35a9e - - -] 10.11.10.1 \"GET /v2/54fadb412c4e40cdbaed9335e4c35a9e/servers/detail HTTP/1.1\" Return code: 200 len: 1893 time: 0.2591050",
         "HTTP Status",
         "0"
        ],
        [
         "31",
         "2025-10-28 00:49:44",
         "ModernCRM",
         "nova.metadata.wsgi.server [-] 10.11.21.138,10.11.10.1 \"GET /openstack/2013-10-17 HTTP/1.1\" RCODE  200 len: 157 time: 0.0010941",
         "HTTP Status",
         "0"
        ],
        [
         "33",
         "2025-10-06 14:26:32",
         "AnalyticsEngine",
         "nova.osapi_compute.wsgi.server [req-fe9ef402-d3b4-4d8c-8093-17b49aba2993 113d3a99c3da401fbd62cc2caa5b96d2 54fadb412c4e40cdbaed9335e4c35a9e - - -] 10.11.10.1 \"GET /v2/54fadb412c4e40cdbaed9335e4c35a9e/servers/detail HTTP/1.1\" RCODE  200 len: 1893 time: 0.2738080",
         "HTTP Status",
         "0"
        ],
        [
         "37",
         "2025-07-03 17:18:22",
         "ModernHR",
         "nova.metadata.wsgi.server [req-27e91939-3ba4-4d14-80e1-47d8fbb230ff - - - - -] 10.11.21.126,10.11.10.1 \"GET /latest/meta-data/block-device-mapping/root HTTP/1.1\" Status code -  200 len: 124 time: 0.2206309",
         "HTTP Status",
         "0"
        ],
        [
         "39",
         "2025-04-12 08:10:38",
         "ModernHR",
         "nova.osapi_compute.wsgi.server [req-aef59c8e-1f3c-4a10-8c3b-8e73c538f3ed 113d3a99c3da401fbd62cc2caa5b96d2 54fadb412c4e40cdbaed9335e4c35a9e - - -] 10.11.10.1 \"GET /v2/54fadb412c4e40cdbaed9335e4c35a9e/servers/detail HTTP/1.1\" status: 200 len: 1583 time: 0.1843870",
         "HTTP Status",
         "0"
        ],
        [
         "41",
         "2025-04-01 19:44:04",
         "AnalyticsEngine",
         "nova.osapi_compute.wsgi.server [req-3f4867ee-5402-4e7f-bf24-41c58b20e80b 113d3a99c3da401fbd62cc2caa5b96d2 54fadb412c4e40cdbaed9335e4c35a9e - - -] 10.11.10.1 \"GET /v2/54fadb412c4e40cdbaed9335e4c35a9e/servers/detail HTTP/1.1\" RCODE  200 len: 1893 time: 0.2732630",
         "HTTP Status",
         "0"
        ],
        [
         "47",
         "2025-03-25 01:18:09",
         "ModernCRM",
         "nova.osapi_compute.wsgi.server [req-4d05bae9-8a34-42b6-98be-991eae0f992c 113d3a99c3da401fbd62cc2caa5b96d2 54fadb412c4e40cdbaed9335e4c35a9e - - -] 10.11.10.1 \"GET /v2/54fadb412c4e40cdbaed9335e4c35a9e/servers/detail HTTP/1.1\" Return code: 200 len: 1874 time: 0.1925120",
         "HTTP Status",
         "0"
        ],
        [
         "49",
         "2025-01-13 20:36:16",
         "ModernCRM",
         "nova.osapi_compute.wsgi.server [req-d5fd3b8a-3323-4f9f-9453-d74ab24c21d3 113d3a99c3da401fbd62cc2caa5b96d2 54fadb412c4e40cdbaed9335e4c35a9e - - -] 10.11.10.1 \"GET /v2/54fadb412c4e40cdbaed9335e4c35a9e/servers/63a0d960-70b6-44c6-b606-491478a5cadf HTTP/1.1\" RCODE  200 len: 1708 time: 0.1946359",
         "HTTP Status",
         "0"
        ],
        [
         "56",
         "2025-11-17 19:50:16",
         "ModernCRM",
         "nova.osapi_compute.wsgi.server [req-86b60c9f-5825-4447-9b26-c90aa4eb5986 113d3a99c3da401fbd62cc2caa5b96d2 54fadb412c4e40cdbaed9335e4c35a9e - - -] 10.11.10.1 \"GET /v2/54fadb412c4e40cdbaed9335e4c35a9e/servers/detail HTTP/1.1\" Status code -  200 len: 1759 time: 0.2631650",
         "HTTP Status",
         "0"
        ],
        [
         "59",
         "2025-05-07 02:37:25",
         "AnalyticsEngine",
         "nova.metadata.wsgi.server [-] 10.11.21.143,10.11.10.1 \"GET /latest/meta-data/block-device-mapping/root HTTP/1.1\" HTTP status code -  200 len: 124 time: 0.0009151",
         "HTTP Status",
         "0"
        ],
        [
         "63",
         "2025-01-19 16:01:21",
         "ThirdPartyAPI",
         "nova.osapi_compute.wsgi.server [req-d6e9cfb8-d914-48c3-b677-72bc73329c69 f7b8d1f1d4d44643b07fa10ca7d021fb e9746973ac574c6b8a9e8857f56a7608 - - -] 10.11.10.1 \"POST /v2/e9746973ac574c6b8a9e8857f56a7608/os-server-external-events HTTP/1.1\" Status code -  404 len: 296 time: 0.0934131",
         "HTTP Status",
         "0"
        ],
        [
         "65",
         "2025-11-21 01:36:24",
         "BillingSystem",
         "nova.osapi_compute.wsgi.server [req-8c36e637-8e89-4cbe-813d-c5f46cc79818 f7b8d1f1d4d44643b07fa10ca7d021fb e9746973ac574c6b8a9e8857f56a7608 - - -] 10.11.10.1 \"POST /v2/e9746973ac574c6b8a9e8857f56a7608/os-server-external-events HTTP/1.1\" status: 200 len: 380 time: 0.0919530",
         "HTTP Status",
         "0"
        ],
        [
         "66",
         "2025-09-27 19:27:33",
         "AnalyticsEngine",
         "nova.osapi_compute.wsgi.server [req-01d570b0-78a7-4719-b7a3-429fd7dc5a3f 113d3a99c3da401fbd62cc2caa5b96d2 54fadb412c4e40cdbaed9335e4c35a9e - - -] 10.11.10.1 \"POST /v2/54fadb412c4e40cdbaed9335e4c35a9e/servers HTTP/1.1\" Status code -  202 len: 733 time: 0.5130808",
         "HTTP Status",
         "0"
        ],
        [
         "68",
         "2025-07-04 11:38:07",
         "AnalyticsEngine",
         "nova.osapi_compute.wsgi.server [req-482e36cc-6ff0-4a18-a72e-0768a622100b 113d3a99c3da401fbd62cc2caa5b96d2 54fadb412c4e40cdbaed9335e4c35a9e - - -] 10.11.10.1 \"GET /v2/54fadb412c4e40cdbaed9335e4c35a9e/servers/detail HTTP/1.1\" Status code -  200 len: 1893 time: 0.2634540",
         "HTTP Status",
         "0"
        ],
        [
         "70",
         "2025-09-30 20:20:15",
         "BillingSystem",
         "nova.osapi_compute.wsgi.server [req-0b7fefce-6f00-464a-969a-d6799e8bba35 f7b8d1f1d4d44643b07fa10ca7d021fb e9746973ac574c6b8a9e8857f56a7608 - - -] 10.11.10.1 \"POST /v2/e9746973ac574c6b8a9e8857f56a7608/os-server-external-events HTTP/1.1\" Return code: 200 len: 380 time: 0.0926709",
         "HTTP Status",
         "0"
        ],
        [
         "71",
         "2025-05-04 12:52:59",
         "BillingSystem",
         "nova.osapi_compute.wsgi.server [req-9174a757-0149-4e23-94ae-8e316c8ea14f 113d3a99c3da401fbd62cc2caa5b96d2 54fadb412c4e40cdbaed9335e4c35a9e - - -] 10.11.10.1 \"GET /v2/54fadb412c4e40cdbaed9335e4c35a9e/servers/detail HTTP/1.1\" Return code: 200 len: 1910 time: 0.2539101",
         "HTTP Status",
         "0"
        ],
        [
         "73",
         "2025-05-02 18:55:34",
         "ModernHR",
         "nova.osapi_compute.wsgi.server [req-465fd6e6-5eda-4b3f-b35e-5d48f8fa1156 113d3a99c3da401fbd62cc2caa5b96d2 54fadb412c4e40cdbaed9335e4c35a9e - - -] 10.11.10.1 \"GET /v2/54fadb412c4e40cdbaed9335e4c35a9e/servers/detail HTTP/1.1\" HTTP status code -  200 len: 1893 time: 0.2692790",
         "HTTP Status",
         "0"
        ],
        [
         "75",
         "2025-04-13 14:22:37",
         "ModernCRM",
         "nova.metadata.wsgi.server [req-61196723-e034-487d-82e0-9cc159c8572c - - - - -] 10.11.21.123,10.11.10.1 \"GET /openstack/2013-10-17/vendor_data.json HTTP/1.1\" status: 200 len: 124 time: 0.2335150",
         "HTTP Status",
         "0"
        ],
        [
         "78",
         "2025-12-26 18:45:49",
         "BillingSystem",
         "nova.osapi_compute.wsgi.server [req-767559d9-3156-4388-a6c3-feb6533e4e13 113d3a99c3da401fbd62cc2caa5b96d2 54fadb412c4e40cdbaed9335e4c35a9e - - -] 10.11.10.1 \"GET /v2/54fadb412c4e40cdbaed9335e4c35a9e/servers/detail HTTP/1.1\" status: 200 len: 1893 time: 0.2680290",
         "HTTP Status",
         "0"
        ],
        [
         "80",
         "2025-08-18 19:17:43",
         "ThirdPartyAPI",
         "nova.metadata.wsgi.server [req-7d3eeb2d-3948-433a-8002-d969d2f86863 - - - - -] 10.11.21.132,10.11.10.1 \"GET /openstack/2012-08-10/meta_data.json HTTP/1.1\" Return code: 200 len: 264 time: 0.2316251",
         "HTTP Status",
         "0"
        ],
        [
         "84",
         "2025-10-28 22:16:49",
         "ModernHR",
         "nova.osapi_compute.wsgi.server [req-97f723ce-8b78-4bdd-9d45-f7fa2e7707de 113d3a99c3da401fbd62cc2caa5b96d2 54fadb412c4e40cdbaed9335e4c35a9e - - -] 10.11.10.1 \"GET /v2/54fadb412c4e40cdbaed9335e4c35a9e/servers/detail HTTP/1.1\" RCODE  200 len: 1893 time: 0.4219470",
         "HTTP Status",
         "0"
        ],
        [
         "86",
         "2025-03-16 15:09:14",
         "BillingSystem",
         "nova.osapi_compute.wsgi.server [req-89a9360c-984b-4eea-b18f-619d5715cd1d 113d3a99c3da401fbd62cc2caa5b96d2 54fadb412c4e40cdbaed9335e4c35a9e - - -] 10.11.10.1 \"GET /v2/54fadb412c4e40cdbaed9335e4c35a9e/servers/detail HTTP/1.1\" HTTP status code -  200 len: 1893 time: 0.4072108",
         "HTTP Status",
         "0"
        ],
        [
         "89",
         "2025-09-09 10:42:10",
         "AnalyticsEngine",
         "nova.osapi_compute.wsgi.server [req-78acc268-1d58-4b31-967a-c31e22012a78 113d3a99c3da401fbd62cc2caa5b96d2 54fadb412c4e40cdbaed9335e4c35a9e - - -] 10.11.10.1 \"GET /v2/54fadb412c4e40cdbaed9335e4c35a9e/servers/detail HTTP/1.1\" HTTP status code -  200 len: 1893 time: 0.2668920",
         "HTTP Status",
         "0"
        ],
        [
         "90",
         "2025-10-20 00:39:26",
         "ModernHR",
         "nova.osapi_compute.wsgi.server [req-84a068e2-7bf3-4fbf-b480-f41b090acc76 113d3a99c3da401fbd62cc2caa5b96d2 54fadb412c4e40cdbaed9335e4c35a9e - - -] 10.11.10.1 \"GET /v2/54fadb412c4e40cdbaed9335e4c35a9e/servers/96abccce-8d1f-4e07-b6d1-4b2ab87e23b4 HTTP/1.1\" status: 200 len: 1708 time: 0.1917260",
         "HTTP Status",
         "0"
        ],
        [
         "91",
         "2025-02-17 03:28:14",
         "AnalyticsEngine",
         "nova.osapi_compute.wsgi.server [req-7ddd7d81-0ab9-4cd7-8791-d29551028f51 113d3a99c3da401fbd62cc2caa5b96d2 54fadb412c4e40cdbaed9335e4c35a9e - - -] 10.11.10.1 \"GET /v2/54fadb412c4e40cdbaed9335e4c35a9e/servers/detail HTTP/1.1\" HTTP status code -  200 len: 1893 time: 0.2544250",
         "HTTP Status",
         "0"
        ],
        [
         "94",
         "2025-04-11 16:05:57",
         "ModernHR",
         "nova.metadata.wsgi.server [-] 10.11.21.137,10.11.10.1 \"GET /openstack/2013-10-17/meta_data.json HTTP/1.1\" HTTP status code -  200 len: 967 time: 0.0013261",
         "HTTP Status",
         "0"
        ],
        [
         "106",
         "2025-10-25 16:48:19",
         "AnalyticsEngine",
         "nova.osapi_compute.wsgi.server [req-19e7ad40-3594-41b0-a83a-40333f767ebd 113d3a99c3da401fbd62cc2caa5b96d2 54fadb412c4e40cdbaed9335e4c35a9e - - -] 10.11.10.1 \"GET /v2/54fadb412c4e40cdbaed9335e4c35a9e/servers/detail HTTP/1.1\" Status code -  200 len: 1893 time: 0.2650268",
         "HTTP Status",
         "0"
        ],
        [
         "107",
         "2025-09-21 14:32:28",
         "ModernCRM",
         "nova.osapi_compute.wsgi.server [req-2d658d2c-7eff-414e-a68f-3f1c75c9e874 113d3a99c3da401fbd62cc2caa5b96d2 54fadb412c4e40cdbaed9335e4c35a9e - - -] 10.11.10.1 \"POST /v2/54fadb412c4e40cdbaed9335e4c35a9e/servers HTTP/1.1\" HTTP status code -  202 len: 733 time: 0.7116742",
         "HTTP Status",
         "0"
        ],
        [
         "111",
         "2025-08-09 14:42:23",
         "BillingSystem",
         "nova.osapi_compute.wsgi.server [req-e234332e-87e4-4b52-92cd-ce2165ef38ad 113d3a99c3da401fbd62cc2caa5b96d2 54fadb412c4e40cdbaed9335e4c35a9e - - -] 10.11.10.1 \"GET /v2/54fadb412c4e40cdbaed9335e4c35a9e/servers/detail HTTP/1.1\" HTTP status code -  200 len: 1759 time: 0.2687941",
         "HTTP Status",
         "0"
        ],
        [
         "112",
         "2025-07-17 00:14:30",
         "ModernHR",
         "nova.osapi_compute.wsgi.server [req-f204b576-164a-45e0-b31f-e57265e8864a 113d3a99c3da401fbd62cc2caa5b96d2 54fadb412c4e40cdbaed9335e4c35a9e - - -] 10.11.10.1 \"GET /v2/54fadb412c4e40cdbaed9335e4c35a9e/servers/detail HTTP/1.1\" status: 200 len: 1910 time: 0.2570262",
         "HTTP Status",
         "0"
        ],
        [
         "116",
         "2025-07-12 06:30:54",
         "AnalyticsEngine",
         "nova.osapi_compute.wsgi.server [req-5619cf42-78f9-4d40-aca9-4224cd0bc357 113d3a99c3da401fbd62cc2caa5b96d2 54fadb412c4e40cdbaed9335e4c35a9e - - -] 10.11.10.1 \"GET /v2/54fadb412c4e40cdbaed9335e4c35a9e/servers/detail HTTP/1.1\" HTTP status code -  200 len: 1759 time: 0.2722960",
         "HTTP Status",
         "0"
        ],
        [
         "117",
         "2025-03-24 04:38:53",
         "ModernCRM",
         "nova.osapi_compute.wsgi.server [req-1902ca72-a41e-4900-898d-7d5c2feae591 113d3a99c3da401fbd62cc2caa5b96d2 54fadb412c4e40cdbaed9335e4c35a9e - - -] 10.11.10.1 \"GET /v2/54fadb412c4e40cdbaed9335e4c35a9e/servers/detail HTTP/1.1\" RCODE  200 len: 1893 time: 0.2677131",
         "HTTP Status",
         "0"
        ],
        [
         "119",
         "2025-12-22 15:40:33",
         "BillingSystem",
         "nova.osapi_compute.wsgi.server [req-b2ffcdcc-26b5-4e4a-9d90-2922ac5b9b02 113d3a99c3da401fbd62cc2caa5b96d2 54fadb412c4e40cdbaed9335e4c35a9e - - -] 10.11.10.1 \"GET /v2/54fadb412c4e40cdbaed9335e4c35a9e/servers/detail HTTP/1.1\" Return code: 200 len: 1893 time: 0.2687330",
         "HTTP Status",
         "0"
        ],
        [
         "123",
         "2025-03-11 19:49:19",
         "ModernHR",
         "nova.osapi_compute.wsgi.server [req-7bf56606-1c53-49cb-9d8d-e6afa1920cc1 113d3a99c3da401fbd62cc2caa5b96d2 54fadb412c4e40cdbaed9335e4c35a9e - - -] 10.11.10.1 \"GET /v2/54fadb412c4e40cdbaed9335e4c35a9e/servers/detail HTTP/1.1\" Return code: 200 len: 1893 time: 0.2449391",
         "HTTP Status",
         "0"
        ],
        [
         "124",
         "2025-09-01 08:48:34",
         "AnalyticsEngine",
         "nova.osapi_compute.wsgi.server [req-9bfa48e0-464a-476d-81d5-72787269d268 113d3a99c3da401fbd62cc2caa5b96d2 54fadb412c4e40cdbaed9335e4c35a9e - - -] 10.11.10.1 \"GET /v2/54fadb412c4e40cdbaed9335e4c35a9e/servers/detail HTTP/1.1\" status: 200 len: 1893 time: 0.2597730",
         "HTTP Status",
         "0"
        ],
        [
         "127",
         "2025-08-14 06:46:31",
         "AnalyticsEngine",
         "nova.osapi_compute.wsgi.server [req-2567652e-8b67-4fdb-ae28-88239694577a 113d3a99c3da401fbd62cc2caa5b96d2 54fadb412c4e40cdbaed9335e4c35a9e - - -] 10.11.10.1 \"GET /v2/54fadb412c4e40cdbaed9335e4c35a9e/servers/detail HTTP/1.1\" HTTP status code -  200 len: 1893 time: 0.2652020",
         "HTTP Status",
         "0"
        ]
       ],
       "shape": {
        "columns": 5,
        "rows": 1017
       }
      },
      "text/html": [
       "<div>\n",
       "<style scoped>\n",
       "    .dataframe tbody tr th:only-of-type {\n",
       "        vertical-align: middle;\n",
       "    }\n",
       "\n",
       "    .dataframe tbody tr th {\n",
       "        vertical-align: top;\n",
       "    }\n",
       "\n",
       "    .dataframe thead th {\n",
       "        text-align: right;\n",
       "    }\n",
       "</style>\n",
       "<table border=\"1\" class=\"dataframe\">\n",
       "  <thead>\n",
       "    <tr style=\"text-align: right;\">\n",
       "      <th></th>\n",
       "      <th>timestamp</th>\n",
       "      <th>source</th>\n",
       "      <th>log_message</th>\n",
       "      <th>target_label</th>\n",
       "      <th>cluster</th>\n",
       "    </tr>\n",
       "  </thead>\n",
       "  <tbody>\n",
       "    <tr>\n",
       "      <th>0</th>\n",
       "      <td>2025-06-27 07:20:25</td>\n",
       "      <td>ModernCRM</td>\n",
       "      <td>nova.osapi_compute.wsgi.server [req-b9718cd8-f...</td>\n",
       "      <td>HTTP Status</td>\n",
       "      <td>0</td>\n",
       "    </tr>\n",
       "    <tr>\n",
       "      <th>3</th>\n",
       "      <td>2025-07-12 00:24:16</td>\n",
       "      <td>ModernHR</td>\n",
       "      <td>nova.osapi_compute.wsgi.server [req-4895c258-b...</td>\n",
       "      <td>HTTP Status</td>\n",
       "      <td>0</td>\n",
       "    </tr>\n",
       "    <tr>\n",
       "      <th>4</th>\n",
       "      <td>2025-06-02 18:25:23</td>\n",
       "      <td>BillingSystem</td>\n",
       "      <td>nova.osapi_compute.wsgi.server [req-ee8bc8ba-9...</td>\n",
       "      <td>HTTP Status</td>\n",
       "      <td>0</td>\n",
       "    </tr>\n",
       "    <tr>\n",
       "      <th>5</th>\n",
       "      <td>2025-10-09 10:30:31</td>\n",
       "      <td>ModernHR</td>\n",
       "      <td>nova.osapi_compute.wsgi.server [req-f0bffbc3-5...</td>\n",
       "      <td>HTTP Status</td>\n",
       "      <td>0</td>\n",
       "    </tr>\n",
       "    <tr>\n",
       "      <th>9</th>\n",
       "      <td>2025-03-30 04:01:45</td>\n",
       "      <td>ModernHR</td>\n",
       "      <td>nova.osapi_compute.wsgi.server [req-2bf7cfee-a...</td>\n",
       "      <td>HTTP Status</td>\n",
       "      <td>0</td>\n",
       "    </tr>\n",
       "    <tr>\n",
       "      <th>...</th>\n",
       "      <td>...</td>\n",
       "      <td>...</td>\n",
       "      <td>...</td>\n",
       "      <td>...</td>\n",
       "      <td>...</td>\n",
       "    </tr>\n",
       "    <tr>\n",
       "      <th>2399</th>\n",
       "      <td>2025-03-08 06:23:00</td>\n",
       "      <td>ThirdPartyAPI</td>\n",
       "      <td>nova.metadata.wsgi.server [req-ba29717b-249a-4...</td>\n",
       "      <td>HTTP Status</td>\n",
       "      <td>0</td>\n",
       "    </tr>\n",
       "    <tr>\n",
       "      <th>2401</th>\n",
       "      <td>2025-12-05 15:51:51</td>\n",
       "      <td>ModernCRM</td>\n",
       "      <td>nova.osapi_compute.wsgi.server [req-4bdf00b0-3...</td>\n",
       "      <td>HTTP Status</td>\n",
       "      <td>0</td>\n",
       "    </tr>\n",
       "    <tr>\n",
       "      <th>2404</th>\n",
       "      <td>2025-09-18 02:18:30</td>\n",
       "      <td>ThirdPartyAPI</td>\n",
       "      <td>nova.osapi_compute.wsgi.server [req-2c9c783f-3...</td>\n",
       "      <td>HTTP Status</td>\n",
       "      <td>0</td>\n",
       "    </tr>\n",
       "    <tr>\n",
       "      <th>2405</th>\n",
       "      <td>2025-08-13 07:29:25</td>\n",
       "      <td>ModernHR</td>\n",
       "      <td>nova.osapi_compute.wsgi.server [req-96c3ec98-2...</td>\n",
       "      <td>HTTP Status</td>\n",
       "      <td>0</td>\n",
       "    </tr>\n",
       "    <tr>\n",
       "      <th>2407</th>\n",
       "      <td>2025-08-03 03:07:47</td>\n",
       "      <td>ThirdPartyAPI</td>\n",
       "      <td>nova.metadata.wsgi.server [req-b6d4a270-accb-4...</td>\n",
       "      <td>HTTP Status</td>\n",
       "      <td>0</td>\n",
       "    </tr>\n",
       "  </tbody>\n",
       "</table>\n",
       "<p>1017 rows × 5 columns</p>\n",
       "</div>"
      ],
      "text/plain": [
       "                timestamp         source  \\\n",
       "0     2025-06-27 07:20:25      ModernCRM   \n",
       "3     2025-07-12 00:24:16       ModernHR   \n",
       "4     2025-06-02 18:25:23  BillingSystem   \n",
       "5     2025-10-09 10:30:31       ModernHR   \n",
       "9     2025-03-30 04:01:45       ModernHR   \n",
       "...                   ...            ...   \n",
       "2399  2025-03-08 06:23:00  ThirdPartyAPI   \n",
       "2401  2025-12-05 15:51:51      ModernCRM   \n",
       "2404  2025-09-18 02:18:30  ThirdPartyAPI   \n",
       "2405  2025-08-13 07:29:25       ModernHR   \n",
       "2407  2025-08-03 03:07:47  ThirdPartyAPI   \n",
       "\n",
       "                                            log_message target_label  cluster  \n",
       "0     nova.osapi_compute.wsgi.server [req-b9718cd8-f...  HTTP Status        0  \n",
       "3     nova.osapi_compute.wsgi.server [req-4895c258-b...  HTTP Status        0  \n",
       "4     nova.osapi_compute.wsgi.server [req-ee8bc8ba-9...  HTTP Status        0  \n",
       "5     nova.osapi_compute.wsgi.server [req-f0bffbc3-5...  HTTP Status        0  \n",
       "9     nova.osapi_compute.wsgi.server [req-2bf7cfee-a...  HTTP Status        0  \n",
       "...                                                 ...          ...      ...  \n",
       "2399  nova.metadata.wsgi.server [req-ba29717b-249a-4...  HTTP Status        0  \n",
       "2401  nova.osapi_compute.wsgi.server [req-4bdf00b0-3...  HTTP Status        0  \n",
       "2404  nova.osapi_compute.wsgi.server [req-2c9c783f-3...  HTTP Status        0  \n",
       "2405  nova.osapi_compute.wsgi.server [req-96c3ec98-2...  HTTP Status        0  \n",
       "2407  nova.metadata.wsgi.server [req-b6d4a270-accb-4...  HTTP Status        0  \n",
       "\n",
       "[1017 rows x 5 columns]"
      ]
     },
     "execution_count": 11,
     "metadata": {},
     "output_type": "execute_result"
    }
   ],
   "source": [
    "df[df.cluster == 0]"
   ]
  },
  {
   "cell_type": "code",
   "execution_count": 12,
   "metadata": {},
   "outputs": [
    {
     "name": "stdout",
     "output_type": "stream",
     "text": [
      "Cluster: 0\n",
      "nova.osapi_compute.wsgi.server [req-b9718cd8-f6...\n",
      "nova.osapi_compute.wsgi.server [req-4895c258-b2...\n",
      "nova.osapi_compute.wsgi.server [req-ee8bc8ba-92...\n",
      "nova.osapi_compute.wsgi.server [req-f0bffbc3-5a...\n",
      "nova.osapi_compute.wsgi.server [req-2bf7cfee-a2...\n",
      "\n",
      "Cluster: 5\n",
      "nova.compute.claims [req-a07ac654-8e81-416d-bfb...\n",
      "nova.compute.claims [req-d6986b54-3735-4a42-907...\n",
      "nova.compute.claims [req-72b4858f-049e-49e1-b31...\n",
      "nova.compute.claims [req-5c8f52bd-8e3c-41f0-95a...\n",
      "nova.compute.claims [req-d38f479d-9bb9-4276-968...\n",
      "\n",
      "Cluster: 11\n",
      "User User685 logged out.\n",
      " User User395 logged in.\n",
      " User User225 logged in.\n",
      "User User494 logged out.\n",
      " User User900 logged in.\n",
      "\n",
      "Cluster: 13\n",
      "Backup started at 2025-05-14 07:06:55.\n",
      "Backup started at 2025-02-15 20:00:19.\n",
      "  Backup ended at 2025-08-08 13:06:23.\n",
      "Backup started at 2025-11-14 08:27:43.\n",
      "Backup started at 2025-12-09 10:19:11.\n",
      "\n",
      "Cluster: 7\n",
      "Multiple bad login attempts detected on user 85...\n",
      "Multiple login failures occurred on user 9052 a...\n",
      "  User 7153 made multiple incorrect login attempts\n",
      "  User 8300 made multiple incorrect login attempts\n",
      "Multiple login failures were detected for user ...\n",
      "\n",
      "Cluster: 8\n",
      "Backup completed successfully.\n",
      "Backup completed successfully.\n",
      "Backup completed successfully.\n",
      "Backup completed successfully.\n",
      "Backup completed successfully.\n",
      "\n",
      "Cluster: 21\n",
      "System updated to version 3.9.1.\n",
      "System updated to version 5.5.4.\n",
      "System updated to version 4.7.4.\n",
      "System updated to version 3.7.7.\n",
      "System updated to version 2.6.2.\n",
      "\n",
      "Cluster: 3\n",
      "         Shard 6 replication task ended in failure\n",
      "Data replication task for shard 14 did not comp...\n",
      "         Data replication task failed for shard 17\n",
      "            Replication of data to shard 14 failed\n",
      "Data replication task for shard 6 did not complete\n",
      "\n",
      "Cluster: 4\n",
      "File data_6169.csv uploaded successfully by use...\n",
      "File data_3847.csv uploaded successfully by use...\n",
      "File data_7366.csv uploaded successfully by use...\n",
      "File data_1206.csv uploaded successfully by use...\n",
      "File data_1503.csv uploaded successfully by use...\n",
      "\n",
      "Cluster: 17\n",
      "Denied access attempt on restricted account Acc...\n",
      "Unauthorized login attempt on protected account...\n",
      "   Account Account9437 blocked due to failed login\n",
      "Account Account7999 access denied due to login ...\n",
      "Invalid login attempt made on secured account A...\n",
      "\n",
      "Cluster: 6\n",
      "   Critical system unit error: unit ID Component55\n",
      "System component malfunction: component ID Comp...\n",
      "Critical system element is down: element ID Com...\n",
      "Essential system part malfunction: part ID Comp...\n",
      "Failure occurred in critical system component: ...\n",
      "\n",
      "Cluster: 32\n",
      "Disk cleanup completed successfully.\n",
      "Disk cleanup completed successfully.\n",
      "Disk cleanup completed successfully.\n",
      "Disk cleanup completed successfully.\n",
      "Disk cleanup completed successfully.\n",
      "\n",
      "Cluster: 16\n",
      "System reboot initiated by user User243.\n",
      "System reboot initiated by user User471.\n",
      "System reboot initiated by user User216.\n",
      "System reboot initiated by user User639.\n",
      "System reboot initiated by user User819.\n",
      "\n",
      "Cluster: 20\n",
      "   User 7662 tried to bypass API security measures\n",
      "User 2367 failed to provide valid API access cr...\n",
      "        User 3569 made an unauthorized API request\n",
      "Unauthorized user 2968 tried to access restrict...\n",
      "User 2186 attempted to access API without prope...\n",
      "\n",
      "Cluster: 9\n",
      "Account with ID 5351 created by User634.\n",
      "Account with ID 7813 created by User373.\n",
      "Account with ID 9827 created by User965.\n",
      "Account with ID 2520 created by User546.\n",
      "Account with ID 2300 created by User964.\n",
      "\n",
      "Cluster: 1\n",
      "  Email service experiencing issues with sending\n",
      "        Email server encountered a sending fault\n",
      "      Mail service encountered a delivery glitch\n",
      "Service disruption caused by email sending error\n",
      "       Email system had a problem sending emails\n",
      "\n",
      "Cluster: 10\n",
      "nova.compute.resource_tracker [req-addc1839-2ed...\n",
      "nova.compute.resource_tracker [req-addc1839-2ed...\n",
      "nova.compute.resource_tracker [req-addc1839-2ed...\n",
      "nova.compute.resource_tracker [req-addc1839-2ed...\n",
      "nova.compute.resource_tracker [req-addc1839-2ed...\n",
      "\n",
      "Cluster: 34\n",
      "Abnormal behavior found on server 10, possible ...\n",
      "   Security alert: suspicious activity on server 1\n",
      "Anomalous activity identified on server 23, sec...\n",
      "Server 27 experienced potential security incide...\n",
      "Server 36 experienced potential security incide...\n",
      "\n",
      "Cluster: 53\n",
      " Module X experienced an invalid data format issue\n",
      "        Input format mismatch occurred in module X\n",
      "Module X reported an error in input format vali...\n",
      "Module X failed to process input due to formatt...\n",
      "Input data format in module X was invalid or co...\n",
      "\n",
      "Cluster: 14\n",
      "   Detection of multiple disk faults in RAID setup\n",
      "  RAID array suffered multiple hard drive failures\n",
      "      RAID array experienced multiple disk crashes\n",
      "Multiple hard drive issues in RAID configuratio...\n",
      "Identification of multiple faulty disks in RAID...\n",
      "\n",
      "Cluster: 52\n",
      "Service health check was not successful because...\n",
      "Invalid SSL certificate resulted in a failed se...\n",
      "Service health check failure was due to an inva...\n",
      "An issue with the SSL certificate caused the se...\n",
      "Service health check failure was caused by an e...\n",
      "\n",
      "Cluster: 18\n",
      "Boot process terminated unexpectedly due to ker...\n",
      "System encountered kernel panic during initiali...\n",
      "    Boot process was stopped by kernel malfunction\n",
      "System encountered kernel failure during bootup...\n",
      "          Boot sequence failed due to kernel panic\n",
      "\n",
      "Cluster: 42\n",
      "User 5127 has escalated admin privileges withou...\n",
      "            User 9745 has escalated to admin level\n",
      "     User 8483 escalated privileges to admin level\n",
      "            User 1987 has escalated to admin level\n",
      "     User 8395 escalated privileges to admin level\n",
      "\n",
      "Cluster: 25\n",
      "         System configuration is no longer valid\n",
      "Configuration is corrupted throughout the system\n",
      "     Cross-system configuration failure occurred\n",
      "     System configuration is experiencing errors\n",
      "        Configuration malfunction is system-wide\n",
      "\n",
      "Cluster: 59\n",
      "Potential security threat: Admin privilege esca...\n",
      "    Admin privilege escalation alert for user 2893\n",
      "    Admin privilege escalation alert for user 8532\n",
      "Potential security threat: Admin privilege esca...\n",
      "Warning: Potential admin privilege escalation f...\n",
      "\n",
      "Cluster: 26\n",
      "        Privilege elevation detected for user 5038\n",
      "Elevation of admin privileges detected for user...\n",
      "Elevation of admin privileges detected for user...\n",
      "User 6069 has been granted elevated admin privi...\n",
      "   Admin privilege elevation warning for user 7574\n",
      "\n"
     ]
    }
   ],
   "source": [
    "cluster_counts = df['cluster'].value_counts()\n",
    "large_cluster = cluster_counts[cluster_counts > 10].index\n",
    "# Sort clusters by count in descending order\n",
    "sorted_clusters = cluster_counts.sort_values(ascending=False)\n",
    "\n",
    "for cluster in large_cluster:\n",
    "    print(f\"Cluster: {cluster}\")\n",
    "    print(df[df['cluster'] == cluster]['log_message'].head(5).to_string(index=False))\n",
    "    print()  # Print first 5 log messages in the cluster"
   ]
  },
  {
   "cell_type": "code",
   "execution_count": 22,
   "metadata": {},
   "outputs": [],
   "source": [
    "import re\n",
    "def classify_with_regex(log_message):\n",
    "    regex_patterns = {\n",
    "        r\"User User\\d+ logged (in|out).\": \"User Action\",\n",
    "        r\"Backup (started|ended) at .*\": \"System Notification\",\n",
    "        r\"Backup completed successfully.\": \"System Notification\",\n",
    "        r\"System updated to version .*\": \"System Notification\",\n",
    "        r\"File .* uploaded successfully by user .*\": \"System Notification\",\n",
    "        r\"Disk cleanup completed successfully.\": \"System Notification\",\n",
    "        r\"System reboot initiated by user .*\": \"System Notification\",\n",
    "        r\"Account with ID .* created by .*\": \"User Action\"\n",
    "    }\n",
    "    for pattern, label in regex_patterns.items():\n",
    "        if re.search(pattern, log_message, re.IGNORECASE):\n",
    "            return label\n",
    "    return None  # Default case if no pattern matches"
   ]
  },
  {
   "cell_type": "code",
   "execution_count": 24,
   "metadata": {},
   "outputs": [
    {
     "data": {
      "text/plain": [
       "'User Action'"
      ]
     },
     "execution_count": 24,
     "metadata": {},
     "output_type": "execute_result"
    }
   ],
   "source": [
    "classify_with_regex(\"Account with ID ad3425 created by asdf.\")"
   ]
  },
  {
   "cell_type": "code",
   "execution_count": 30,
   "metadata": {},
   "outputs": [
    {
     "data": {
      "application/vnd.microsoft.datawrangler.viewer.v0+json": {
       "columns": [
        {
         "name": "index",
         "rawType": "int64",
         "type": "integer"
        },
        {
         "name": "timestamp",
         "rawType": "object",
         "type": "string"
        },
        {
         "name": "source",
         "rawType": "object",
         "type": "string"
        },
        {
         "name": "log_message",
         "rawType": "object",
         "type": "string"
        },
        {
         "name": "target_label",
         "rawType": "object",
         "type": "string"
        },
        {
         "name": "cluster",
         "rawType": "int64",
         "type": "integer"
        },
        {
         "name": "regex_label",
         "rawType": "object",
         "type": "string"
        }
       ],
       "conversionMethod": "pd.DataFrame",
       "ref": "c2a56d07-246a-4ec5-88f7-59500f1e2860",
       "rows": [
        [
         "7",
         "10/11/2025 8:44",
         "ModernHR",
         "File data_6169.csv uploaded successfully by user User953.",
         "System Notification",
         "4",
         "System Notification"
        ],
        [
         "14",
         "1/4/2025 1:43",
         "ThirdPartyAPI",
         "File data_3847.csv uploaded successfully by user User175.",
         "System Notification",
         "4",
         "System Notification"
        ],
        [
         "15",
         "5/1/2025 9:41",
         "ModernCRM",
         "Backup completed successfully.",
         "System Notification",
         "8",
         "System Notification"
        ],
        [
         "18",
         "2/22/2025 17:49",
         "ModernCRM",
         "Account with ID 5351 created by User634.",
         "User Action",
         "9",
         "User Action"
        ],
        [
         "27",
         "9/24/2025 19:57",
         "ThirdPartyAPI",
         "User User685 logged out.",
         "User Action",
         "11",
         "User Action"
        ],
        [
         "30",
         "4/26/2025 7:54",
         "AnalyticsEngine",
         "Backup started at 2025-05-14 07:06:55.",
         "System Notification",
         "13",
         "System Notification"
        ],
        [
         "36",
         "11/19/2025 13:14",
         "BillingSystem",
         "System reboot initiated by user User243.",
         "System Notification",
         "16",
         "System Notification"
        ],
        [
         "44",
         "6/20/2025 0:53",
         "BillingSystem",
         "Backup started at 2025-02-15 20:00:19.",
         "System Notification",
         "13",
         "System Notification"
        ],
        [
         "48",
         "7/1/2025 9:43",
         "ModernHR",
         "File data_7366.csv uploaded successfully by user User282.",
         "System Notification",
         "4",
         "System Notification"
        ],
        [
         "50",
         "1/16/2025 21:45",
         "ThirdPartyAPI",
         "System updated to version 3.9.1.",
         "System Notification",
         "21",
         "System Notification"
        ],
        [
         "52",
         "11/12/2025 13:13",
         "BillingSystem",
         "Backup completed successfully.",
         "System Notification",
         "8",
         "System Notification"
        ],
        [
         "54",
         "2/19/2025 2:00",
         "AnalyticsEngine",
         "Backup completed successfully.",
         "System Notification",
         "8",
         "System Notification"
        ],
        [
         "57",
         "9/14/2025 3:03",
         "AnalyticsEngine",
         "User User395 logged in.",
         "User Action",
         "11",
         "User Action"
        ],
        [
         "81",
         "1/26/2025 8:48",
         "ThirdPartyAPI",
         "Backup completed successfully.",
         "System Notification",
         "8",
         "System Notification"
        ],
        [
         "83",
         "2/9/2025 15:09",
         "ModernCRM",
         "Backup completed successfully.",
         "System Notification",
         "8",
         "System Notification"
        ],
        [
         "85",
         "3/13/2025 2:11",
         "ModernHR",
         "User User225 logged in.",
         "User Action",
         "11",
         "User Action"
        ],
        [
         "88",
         "3/8/2025 19:04",
         "AnalyticsEngine",
         "User User494 logged out.",
         "User Action",
         "11",
         "User Action"
        ],
        [
         "92",
         "12/4/2025 21:20",
         "BillingSystem",
         "System reboot initiated by user User471.",
         "System Notification",
         "16",
         "System Notification"
        ],
        [
         "96",
         "12/7/2025 10:38",
         "ModernCRM",
         "Disk cleanup completed successfully.",
         "System Notification",
         "32",
         "System Notification"
        ],
        [
         "99",
         "8/16/2025 8:55",
         "BillingSystem",
         "Backup completed successfully.",
         "System Notification",
         "8",
         "System Notification"
        ],
        [
         "108",
         "3/4/2025 21:15",
         "BillingSystem",
         "Backup ended at 2025-08-08 13:06:23.",
         "System Notification",
         "13",
         "System Notification"
        ],
        [
         "114",
         "7/21/2025 2:46",
         "ModernCRM",
         "Backup completed successfully.",
         "System Notification",
         "8",
         "System Notification"
        ],
        [
         "122",
         "9/16/2025 18:59",
         "ModernHR",
         "Account with ID 7813 created by User373.",
         "User Action",
         "9",
         "User Action"
        ],
        [
         "126",
         "11/22/2025 21:09",
         "ThirdPartyAPI",
         "User User900 logged in.",
         "User Action",
         "11",
         "User Action"
        ],
        [
         "128",
         "11/25/2025 16:45",
         "BillingSystem",
         "Backup started at 2025-11-14 08:27:43.",
         "System Notification",
         "13",
         "System Notification"
        ],
        [
         "129",
         "8/3/2025 11:43",
         "BillingSystem",
         "File data_1206.csv uploaded successfully by user User359.",
         "System Notification",
         "4",
         "System Notification"
        ],
        [
         "139",
         "5/8/2025 16:34",
         "ModernHR",
         "System reboot initiated by user User216.",
         "System Notification",
         "16",
         "System Notification"
        ],
        [
         "140",
         "9/11/2025 8:49",
         "AnalyticsEngine",
         "System reboot initiated by user User639.",
         "System Notification",
         "16",
         "System Notification"
        ],
        [
         "142",
         "8/8/2025 10:12",
         "ThirdPartyAPI",
         "Backup completed successfully.",
         "System Notification",
         "8",
         "System Notification"
        ],
        [
         "151",
         "7/12/2025 13:01",
         "ThirdPartyAPI",
         "Backup completed successfully.",
         "System Notification",
         "8",
         "System Notification"
        ],
        [
         "160",
         "3/30/2025 11:09",
         "BillingSystem",
         "Disk cleanup completed successfully.",
         "System Notification",
         "32",
         "System Notification"
        ],
        [
         "161",
         "3/31/2025 19:40",
         "BillingSystem",
         "System reboot initiated by user User819.",
         "System Notification",
         "16",
         "System Notification"
        ],
        [
         "163",
         "6/6/2025 15:29",
         "BillingSystem",
         "System reboot initiated by user User938.",
         "System Notification",
         "16",
         "System Notification"
        ],
        [
         "176",
         "2/12/2025 10:17",
         "ModernCRM",
         "System updated to version 5.5.4.",
         "System Notification",
         "21",
         "System Notification"
        ],
        [
         "183",
         "9/3/2025 23:16",
         "BillingSystem",
         "Backup completed successfully.",
         "System Notification",
         "8",
         "System Notification"
        ],
        [
         "185",
         "3/11/2025 21:44",
         "ModernCRM",
         "System updated to version 4.7.4.",
         "System Notification",
         "21",
         "System Notification"
        ],
        [
         "191",
         "5/6/2025 23:58",
         "ThirdPartyAPI",
         "Backup started at 2025-12-09 10:19:11.",
         "System Notification",
         "13",
         "System Notification"
        ],
        [
         "192",
         "10/19/2025 14:12",
         "BillingSystem",
         "System updated to version 3.7.7.",
         "System Notification",
         "21",
         "System Notification"
        ],
        [
         "194",
         "8/23/2025 1:02",
         "ModernHR",
         "File data_1503.csv uploaded successfully by user User151.",
         "System Notification",
         "4",
         "System Notification"
        ],
        [
         "196",
         "10/20/2025 8:49",
         "ModernHR",
         "Backup completed successfully.",
         "System Notification",
         "8",
         "System Notification"
        ],
        [
         "205",
         "2/11/2025 11:36",
         "ModernHR",
         "Account with ID 9827 created by User965.",
         "User Action",
         "9",
         "User Action"
        ],
        [
         "208",
         "11/2/2025 22:20",
         "ThirdPartyAPI",
         "Disk cleanup completed successfully.",
         "System Notification",
         "32",
         "System Notification"
        ],
        [
         "209",
         "2/14/2025 13:28",
         "ModernCRM",
         "Backup started at 2025-01-15 04:36:39.",
         "System Notification",
         "13",
         "System Notification"
        ],
        [
         "211",
         "4/24/2025 12:53",
         "AnalyticsEngine",
         "User User272 logged out.",
         "User Action",
         "11",
         "User Action"
        ],
        [
         "214",
         "8/8/2025 20:12",
         "ModernHR",
         "User User706 logged out.",
         "User Action",
         "11",
         "User Action"
        ],
        [
         "215",
         "2/9/2025 15:05",
         "ThirdPartyAPI",
         "Backup completed successfully.",
         "System Notification",
         "8",
         "System Notification"
        ],
        [
         "219",
         "11/10/2025 5:01",
         "ModernHR",
         "User User881 logged out.",
         "User Action",
         "11",
         "User Action"
        ],
        [
         "220",
         "9/24/2025 19:19",
         "ModernCRM",
         "User User313 logged out.",
         "User Action",
         "11",
         "User Action"
        ],
        [
         "225",
         "7/23/2025 12:56",
         "AnalyticsEngine",
         "Disk cleanup completed successfully.",
         "System Notification",
         "32",
         "System Notification"
        ],
        [
         "236",
         "11/27/2025 2:58",
         "ThirdPartyAPI",
         "Backup started at 2025-08-29 15:17:18.",
         "System Notification",
         "13",
         "System Notification"
        ]
       ],
       "shape": {
        "columns": 6,
        "rows": 500
       }
      },
      "text/html": [
       "<div>\n",
       "<style scoped>\n",
       "    .dataframe tbody tr th:only-of-type {\n",
       "        vertical-align: middle;\n",
       "    }\n",
       "\n",
       "    .dataframe tbody tr th {\n",
       "        vertical-align: top;\n",
       "    }\n",
       "\n",
       "    .dataframe thead th {\n",
       "        text-align: right;\n",
       "    }\n",
       "</style>\n",
       "<table border=\"1\" class=\"dataframe\">\n",
       "  <thead>\n",
       "    <tr style=\"text-align: right;\">\n",
       "      <th></th>\n",
       "      <th>timestamp</th>\n",
       "      <th>source</th>\n",
       "      <th>log_message</th>\n",
       "      <th>target_label</th>\n",
       "      <th>cluster</th>\n",
       "      <th>regex_label</th>\n",
       "    </tr>\n",
       "  </thead>\n",
       "  <tbody>\n",
       "    <tr>\n",
       "      <th>7</th>\n",
       "      <td>10/11/2025 8:44</td>\n",
       "      <td>ModernHR</td>\n",
       "      <td>File data_6169.csv uploaded successfully by us...</td>\n",
       "      <td>System Notification</td>\n",
       "      <td>4</td>\n",
       "      <td>System Notification</td>\n",
       "    </tr>\n",
       "    <tr>\n",
       "      <th>14</th>\n",
       "      <td>1/4/2025 1:43</td>\n",
       "      <td>ThirdPartyAPI</td>\n",
       "      <td>File data_3847.csv uploaded successfully by us...</td>\n",
       "      <td>System Notification</td>\n",
       "      <td>4</td>\n",
       "      <td>System Notification</td>\n",
       "    </tr>\n",
       "    <tr>\n",
       "      <th>15</th>\n",
       "      <td>5/1/2025 9:41</td>\n",
       "      <td>ModernCRM</td>\n",
       "      <td>Backup completed successfully.</td>\n",
       "      <td>System Notification</td>\n",
       "      <td>8</td>\n",
       "      <td>System Notification</td>\n",
       "    </tr>\n",
       "    <tr>\n",
       "      <th>18</th>\n",
       "      <td>2/22/2025 17:49</td>\n",
       "      <td>ModernCRM</td>\n",
       "      <td>Account with ID 5351 created by User634.</td>\n",
       "      <td>User Action</td>\n",
       "      <td>9</td>\n",
       "      <td>User Action</td>\n",
       "    </tr>\n",
       "    <tr>\n",
       "      <th>27</th>\n",
       "      <td>9/24/2025 19:57</td>\n",
       "      <td>ThirdPartyAPI</td>\n",
       "      <td>User User685 logged out.</td>\n",
       "      <td>User Action</td>\n",
       "      <td>11</td>\n",
       "      <td>User Action</td>\n",
       "    </tr>\n",
       "    <tr>\n",
       "      <th>...</th>\n",
       "      <td>...</td>\n",
       "      <td>...</td>\n",
       "      <td>...</td>\n",
       "      <td>...</td>\n",
       "      <td>...</td>\n",
       "      <td>...</td>\n",
       "    </tr>\n",
       "    <tr>\n",
       "      <th>2376</th>\n",
       "      <td>6/27/2025 8:47</td>\n",
       "      <td>ModernCRM</td>\n",
       "      <td>System updated to version 2.0.5.</td>\n",
       "      <td>System Notification</td>\n",
       "      <td>21</td>\n",
       "      <td>System Notification</td>\n",
       "    </tr>\n",
       "    <tr>\n",
       "      <th>2381</th>\n",
       "      <td>9/5/2025 6:39</td>\n",
       "      <td>ThirdPartyAPI</td>\n",
       "      <td>Disk cleanup completed successfully.</td>\n",
       "      <td>System Notification</td>\n",
       "      <td>32</td>\n",
       "      <td>System Notification</td>\n",
       "    </tr>\n",
       "    <tr>\n",
       "      <th>2394</th>\n",
       "      <td>4/3/2025 13:13</td>\n",
       "      <td>ModernHR</td>\n",
       "      <td>Disk cleanup completed successfully.</td>\n",
       "      <td>System Notification</td>\n",
       "      <td>32</td>\n",
       "      <td>System Notification</td>\n",
       "    </tr>\n",
       "    <tr>\n",
       "      <th>2395</th>\n",
       "      <td>5/2/2025 14:29</td>\n",
       "      <td>ThirdPartyAPI</td>\n",
       "      <td>Backup ended at 2025-05-06 11:23:16.</td>\n",
       "      <td>System Notification</td>\n",
       "      <td>13</td>\n",
       "      <td>System Notification</td>\n",
       "    </tr>\n",
       "    <tr>\n",
       "      <th>2403</th>\n",
       "      <td>10/1/2025 1:31</td>\n",
       "      <td>ModernCRM</td>\n",
       "      <td>Backup completed successfully.</td>\n",
       "      <td>System Notification</td>\n",
       "      <td>8</td>\n",
       "      <td>System Notification</td>\n",
       "    </tr>\n",
       "  </tbody>\n",
       "</table>\n",
       "<p>500 rows × 6 columns</p>\n",
       "</div>"
      ],
      "text/plain": [
       "            timestamp         source  \\\n",
       "7     10/11/2025 8:44       ModernHR   \n",
       "14      1/4/2025 1:43  ThirdPartyAPI   \n",
       "15      5/1/2025 9:41      ModernCRM   \n",
       "18    2/22/2025 17:49      ModernCRM   \n",
       "27    9/24/2025 19:57  ThirdPartyAPI   \n",
       "...               ...            ...   \n",
       "2376   6/27/2025 8:47      ModernCRM   \n",
       "2381    9/5/2025 6:39  ThirdPartyAPI   \n",
       "2394   4/3/2025 13:13       ModernHR   \n",
       "2395   5/2/2025 14:29  ThirdPartyAPI   \n",
       "2403   10/1/2025 1:31      ModernCRM   \n",
       "\n",
       "                                            log_message         target_label  \\\n",
       "7     File data_6169.csv uploaded successfully by us...  System Notification   \n",
       "14    File data_3847.csv uploaded successfully by us...  System Notification   \n",
       "15                       Backup completed successfully.  System Notification   \n",
       "18             Account with ID 5351 created by User634.          User Action   \n",
       "27                             User User685 logged out.          User Action   \n",
       "...                                                 ...                  ...   \n",
       "2376                   System updated to version 2.0.5.  System Notification   \n",
       "2381               Disk cleanup completed successfully.  System Notification   \n",
       "2394               Disk cleanup completed successfully.  System Notification   \n",
       "2395               Backup ended at 2025-05-06 11:23:16.  System Notification   \n",
       "2403                     Backup completed successfully.  System Notification   \n",
       "\n",
       "      cluster          regex_label  \n",
       "7           4  System Notification  \n",
       "14          4  System Notification  \n",
       "15          8  System Notification  \n",
       "18          9          User Action  \n",
       "27         11          User Action  \n",
       "...       ...                  ...  \n",
       "2376       21  System Notification  \n",
       "2381       32  System Notification  \n",
       "2394       32  System Notification  \n",
       "2395       13  System Notification  \n",
       "2403        8  System Notification  \n",
       "\n",
       "[500 rows x 6 columns]"
      ]
     },
     "execution_count": 30,
     "metadata": {},
     "output_type": "execute_result"
    }
   ],
   "source": [
    "df['regex_label'] = df['log_message'].apply(classify_with_regex)\n",
    "df[df.regex_label.notnull()]"
   ]
  },
  {
   "cell_type": "code",
   "execution_count": 31,
   "metadata": {},
   "outputs": [
    {
     "data": {
      "text/plain": [
       "(1910, 6)"
      ]
     },
     "execution_count": 31,
     "metadata": {},
     "output_type": "execute_result"
    }
   ],
   "source": [
    "df_non_regex = df[df['regex_label'].isnull()].copy()\n",
    "df_non_regex.shape"
   ]
  },
  {
   "cell_type": "code",
   "execution_count": 32,
   "metadata": {},
   "outputs": [
    {
     "data": {
      "application/vnd.microsoft.datawrangler.viewer.v0+json": {
       "columns": [
        {
         "name": "index",
         "rawType": "int64",
         "type": "integer"
        },
        {
         "name": "timestamp",
         "rawType": "object",
         "type": "string"
        },
        {
         "name": "source",
         "rawType": "object",
         "type": "string"
        },
        {
         "name": "log_message",
         "rawType": "object",
         "type": "string"
        },
        {
         "name": "target_label",
         "rawType": "object",
         "type": "string"
        },
        {
         "name": "cluster",
         "rawType": "int64",
         "type": "integer"
        },
        {
         "name": "regex_label",
         "rawType": "object",
         "type": "unknown"
        }
       ],
       "conversionMethod": "pd.DataFrame",
       "ref": "25910ed1-d9cb-40c4-af2b-5ad735dfbaa4",
       "rows": [
        [
         "0",
         "2025-06-27 07:20:25",
         "ModernCRM",
         "nova.osapi_compute.wsgi.server [req-b9718cd8-f65e-49cc-8349-6cf7122af137 113d3a99c3da401fbd62cc2caa5b96d2 54fadb412c4e40cdbaed9335e4c35a9e - - -] 10.11.10.1 \"GET /v2/54fadb412c4e40cdbaed9335e4c35a9e/servers/detail HTTP/1.1\" status: 200 len: 1893 time: 0.2675118",
         "HTTP Status",
         "0",
         null
        ],
        [
         "1",
         "1/14/2025 23:07",
         "ModernCRM",
         "Email service experiencing issues with sending",
         "Critical Error",
         "1",
         null
        ],
        [
         "2",
         "1/17/2025 1:29",
         "AnalyticsEngine",
         "Unauthorized access to data was attempted",
         "Security Alert",
         "2",
         null
        ],
        [
         "3",
         "2025-07-12 00:24:16",
         "ModernHR",
         "nova.osapi_compute.wsgi.server [req-4895c258-b2f8-488f-a2a3-4fae63982e48 113d3a99c3da401fbd62cc2caa5b96d2 54fadb412c4e40cdbaed9335e4c35a9e - - -] 10.11.10.1 \"GET /v2/54fadb412c4e40cdbaed9335e4c35a9e/servers/detail HTTP/1.1\" HTTP status code -  200 len: 211 time: 0.0968180",
         "HTTP Status",
         "0",
         null
        ],
        [
         "4",
         "2025-06-02 18:25:23",
         "BillingSystem",
         "nova.osapi_compute.wsgi.server [req-ee8bc8ba-9265-4280-9215-dbe000a41209 113d3a99c3da401fbd62cc2caa5b96d2 54fadb412c4e40cdbaed9335e4c35a9e - - -] 10.11.10.1 \"GET /v2/54fadb412c4e40cdbaed9335e4c35a9e/servers/detail HTTP/1.1\" RCODE  200 len: 1874 time: 0.2280791",
         "HTTP Status",
         "0",
         null
        ],
        [
         "5",
         "2025-10-09 10:30:31",
         "ModernHR",
         "nova.osapi_compute.wsgi.server [req-f0bffbc3-5ab0-4916-91c1-0a61dd7d4ec2 113d3a99c3da401fbd62cc2caa5b96d2 54fadb412c4e40cdbaed9335e4c35a9e - - -] 10.11.10.1 \"GET /v2/54fadb412c4e40cdbaed9335e4c35a9e/servers/detail HTTP/1.1\" Return code: 200 len: 1874 time: 0.2131531",
         "HTTP Status",
         "0",
         null
        ],
        [
         "6",
         "3/1/2025 19:14",
         "ModernHR",
         "Shard 6 replication task ended in failure",
         "Error",
         "3",
         null
        ],
        [
         "8",
         "2025-02-12 10:42:29",
         "ThirdPartyAPI",
         "nova.compute.claims [req-a07ac654-8e81-416d-bfbb-189116b07969 113d3a99c3da401fbd62cc2caa5b96d2 54fadb412c4e40cdbaed9335e4c35a9e - - -] [instance: bf8c824d-f099-4433-a41e-e3da7578262e] Total memory: 64172 MB, used: 512.00 MB",
         "Resource Usage",
         "5",
         null
        ],
        [
         "9",
         "2025-03-30 04:01:45",
         "ModernHR",
         "nova.osapi_compute.wsgi.server [req-2bf7cfee-a236-42f3-8fb1-96fefab0b302 113d3a99c3da401fbd62cc2caa5b96d2 54fadb412c4e40cdbaed9335e4c35a9e - - -] 10.11.10.1 \"GET /v2/54fadb412c4e40cdbaed9335e4c35a9e/servers/detail HTTP/1.1\" RCODE  200 len: 1874 time: 0.1794369",
         "HTTP Status",
         "0",
         null
        ],
        [
         "10",
         "8/9/2025 18:58",
         "ModernCRM",
         "Email server encountered a sending fault",
         "Error",
         "1",
         null
        ],
        [
         "11",
         "6/15/2025 11:44",
         "ModernHR",
         "Critical system unit error: unit ID Component55",
         "Critical Error",
         "6",
         null
        ],
        [
         "12",
         "2025-07-12 03:03:18",
         "ModernHR",
         "nova.osapi_compute.wsgi.server [req-d4f8d0c2-4f21-4b38-9f85-d82f8da75c23 113d3a99c3da401fbd62cc2caa5b96d2 54fadb412c4e40cdbaed9335e4c35a9e - - -] 10.11.10.1 \"GET /v2/54fadb412c4e40cdbaed9335e4c35a9e/servers/detail HTTP/1.1\" status: 200 len: 1893 time: 0.2663860",
         "HTTP Status",
         "0",
         null
        ],
        [
         "13",
         "8/4/2025 19:57",
         "ThirdPartyAPI",
         "Multiple bad login attempts detected on user 8538 account",
         "Security Alert",
         "7",
         null
        ],
        [
         "16",
         "2025-11-15 14:48:30",
         "BillingSystem",
         "nova.osapi_compute.wsgi.server [req-6fe0e366-f20b-454e-ade1-771deb7a911f 113d3a99c3da401fbd62cc2caa5b96d2 54fadb412c4e40cdbaed9335e4c35a9e - - -] 10.11.10.1 \"GET /v2/54fadb412c4e40cdbaed9335e4c35a9e/servers/detail HTTP/1.1\" Status code -  200 len: 1893 time: 0.2608259",
         "HTTP Status",
         "0",
         null
        ],
        [
         "17",
         "2025-01-27 12:39:05",
         "ModernCRM",
         "nova.osapi_compute.wsgi.server [req-5f1c2027-e1b0-43f1-b6d3-694f483a69be 113d3a99c3da401fbd62cc2caa5b96d2 54fadb412c4e40cdbaed9335e4c35a9e - - -] 10.11.10.1 \"GET /v2/54fadb412c4e40cdbaed9335e4c35a9e/servers/detail HTTP/1.1\" RCODE  200 len: 1893 time: 0.2732208",
         "HTTP Status",
         "0",
         null
        ],
        [
         "19",
         "2025-07-10 01:17:59",
         "BillingSystem",
         "nova.osapi_compute.wsgi.server [req-945d1f31-a2e5-496a-a1da-21a0c88b6b61 113d3a99c3da401fbd62cc2caa5b96d2 54fadb412c4e40cdbaed9335e4c35a9e - - -] 10.11.10.1 \"GET /v2/54fadb412c4e40cdbaed9335e4c35a9e/servers/detail HTTP/1.1\" HTTP status code -  200 len: 1893 time: 0.2775040",
         "HTTP Status",
         "0",
         null
        ],
        [
         "20",
         "2025-12-27 12:52:25",
         "ThirdPartyAPI",
         "nova.osapi_compute.wsgi.server [req-033d97b9-69e4-4acd-9029-f0d7b9370645 f7b8d1f1d4d44643b07fa10ca7d021fb e9746973ac574c6b8a9e8857f56a7608 - - -] 10.11.10.1 \"POST /v2/e9746973ac574c6b8a9e8857f56a7608/os-server-external-events HTTP/1.1\" status: 404 len: 296 time: 0.0847020",
         "HTTP Status",
         "0",
         null
        ],
        [
         "21",
         "2025-03-01 19:16:10",
         "ModernCRM",
         "nova.osapi_compute.wsgi.server [req-75bc6269-8527-4b6a-8925-67611b9e00d9 113d3a99c3da401fbd62cc2caa5b96d2 54fadb412c4e40cdbaed9335e4c35a9e - - -] 10.11.10.1 \"GET /v2/54fadb412c4e40cdbaed9335e4c35a9e/servers/detail HTTP/1.1\" status: 200 len: 1916 time: 0.2785730",
         "HTTP Status",
         "0",
         null
        ],
        [
         "22",
         "2025-08-28 03:54:33",
         "ThirdPartyAPI",
         "nova.compute.resource_tracker [req-addc1839-2ed5-4778-b57e-5854eb7b8b09 - - - - -] Final resource view: name=cp-1.slowvm1.tcloud-pg0.utah.cloudlab.us phys_ram=64172MB used_ram=512MB phys_disk=15GB used_disk=0GB total_vcpus=16 used_vcpus=0 pci_stats=[]",
         "Resource Usage",
         "10",
         null
        ],
        [
         "23",
         "2025-09-01 18:46:38",
         "ModernHR",
         "nova.osapi_compute.wsgi.server [req-077c3c87-b7ff-46f8-8320-8fed200a0b94 113d3a99c3da401fbd62cc2caa5b96d2 54fadb412c4e40cdbaed9335e4c35a9e - - -] 10.11.10.1 \"GET /v2/54fadb412c4e40cdbaed9335e4c35a9e/servers/detail HTTP/1.1\" Status code -  200 len: 1893 time: 0.2517929",
         "HTTP Status",
         "0",
         null
        ],
        [
         "24",
         "2025-12-16 23:18:28",
         "ModernCRM",
         "nova.osapi_compute.wsgi.server [req-4e83daf7-a24c-4ab4-96ff-1da5848255ad 113d3a99c3da401fbd62cc2caa5b96d2 54fadb412c4e40cdbaed9335e4c35a9e - - -] 10.11.10.1 \"GET /v2/54fadb412c4e40cdbaed9335e4c35a9e/servers/detail HTTP/1.1\" RCODE  200 len: 1583 time: 0.1878400",
         "HTTP Status",
         "0",
         null
        ],
        [
         "25",
         "2025-02-15 09:00:40",
         "AnalyticsEngine",
         "nova.osapi_compute.wsgi.server [req-bfce366e-9868-4f52-b245-271e9b3455ca 113d3a99c3da401fbd62cc2caa5b96d2 54fadb412c4e40cdbaed9335e4c35a9e - - -] 10.11.10.1 \"GET /v2/54fadb412c4e40cdbaed9335e4c35a9e/servers/detail HTTP/1.1\" status: 200 len: 1583 time: 0.1962459",
         "HTTP Status",
         "0",
         null
        ],
        [
         "26",
         "2025-03-03 17:11:11",
         "ModernCRM",
         "nova.compute.claims [req-d6986b54-3735-4a42-9074-0ba7d9717de9 113d3a99c3da401fbd62cc2caa5b96d2 54fadb412c4e40cdbaed9335e4c35a9e - - -] [instance: af5f7392-f7d4-4298-b647-c98924c64aa1] memory limit: 96258.00 MB, free: 95746.00 MB",
         "Resource Usage",
         "5",
         null
        ],
        [
         "28",
         "2025-07-31 07:47:02",
         "AnalyticsEngine",
         "nova.osapi_compute.wsgi.server [req-5e6e042b-f9e8-4ab4-add4-b4809623b13a 113d3a99c3da401fbd62cc2caa5b96d2 54fadb412c4e40cdbaed9335e4c35a9e - - -] 10.11.10.1 \"GET /v2/54fadb412c4e40cdbaed9335e4c35a9e/servers/detail HTTP/1.1\" Return code: 200 len: 1893 time: 0.2591050",
         "HTTP Status",
         "0",
         null
        ],
        [
         "29",
         "3/10/2025 23:11",
         "AnalyticsEngine",
         "Alert: brute force login attempt from 192.168.80.114 detected",
         "Security Alert",
         "12",
         null
        ],
        [
         "31",
         "2025-10-28 00:49:44",
         "ModernCRM",
         "nova.metadata.wsgi.server [-] 10.11.21.138,10.11.10.1 \"GET /openstack/2013-10-17 HTTP/1.1\" RCODE  200 len: 157 time: 0.0010941",
         "HTTP Status",
         "0",
         null
        ],
        [
         "32",
         "5/29/2025 7:36",
         "ModernCRM",
         "Detection of multiple disk faults in RAID setup",
         "Critical Error",
         "14",
         null
        ],
        [
         "33",
         "2025-10-06 14:26:32",
         "AnalyticsEngine",
         "nova.osapi_compute.wsgi.server [req-fe9ef402-d3b4-4d8c-8093-17b49aba2993 113d3a99c3da401fbd62cc2caa5b96d2 54fadb412c4e40cdbaed9335e4c35a9e - - -] 10.11.10.1 \"GET /v2/54fadb412c4e40cdbaed9335e4c35a9e/servers/detail HTTP/1.1\" RCODE  200 len: 1893 time: 0.2738080",
         "HTTP Status",
         "0",
         null
        ],
        [
         "34",
         "9/30/2025 8:13",
         "ThirdPartyAPI",
         "Suspicious login activity detected from 192.168.24.250",
         "Security Alert",
         "15",
         null
        ],
        [
         "35",
         "6/22/2025 0:22",
         "ThirdPartyAPI",
         "System component malfunction: component ID Component79",
         "Critical Error",
         "6",
         null
        ],
        [
         "37",
         "2025-07-03 17:18:22",
         "ModernHR",
         "nova.metadata.wsgi.server [req-27e91939-3ba4-4d14-80e1-47d8fbb230ff - - - - -] 10.11.21.126,10.11.10.1 \"GET /latest/meta-data/block-device-mapping/root HTTP/1.1\" Status code -  200 len: 124 time: 0.2206309",
         "HTTP Status",
         "0",
         null
        ],
        [
         "38",
         "8/19/2025 16:43",
         "AnalyticsEngine",
         "Denied access attempt on restricted account Account2682",
         "Security Alert",
         "17",
         null
        ],
        [
         "39",
         "2025-04-12 08:10:38",
         "ModernHR",
         "nova.osapi_compute.wsgi.server [req-aef59c8e-1f3c-4a10-8c3b-8e73c538f3ed 113d3a99c3da401fbd62cc2caa5b96d2 54fadb412c4e40cdbaed9335e4c35a9e - - -] 10.11.10.1 \"GET /v2/54fadb412c4e40cdbaed9335e4c35a9e/servers/detail HTTP/1.1\" status: 200 len: 1583 time: 0.1843870",
         "HTTP Status",
         "0",
         null
        ],
        [
         "40",
         "2025-06-19 21:42:34",
         "ThirdPartyAPI",
         "nova.compute.claims [req-72b4858f-049e-49e1-b31e-b562c5018eaf 113d3a99c3da401fbd62cc2caa5b96d2 54fadb412c4e40cdbaed9335e4c35a9e - - -] [instance: 63a0d960-70b6-44c6-b606-491478a5cadf] disk limit not specified, defaulting to unlimited",
         "Resource Usage",
         "5",
         null
        ],
        [
         "41",
         "2025-04-01 19:44:04",
         "AnalyticsEngine",
         "nova.osapi_compute.wsgi.server [req-3f4867ee-5402-4e7f-bf24-41c58b20e80b 113d3a99c3da401fbd62cc2caa5b96d2 54fadb412c4e40cdbaed9335e4c35a9e - - -] 10.11.10.1 \"GET /v2/54fadb412c4e40cdbaed9335e4c35a9e/servers/detail HTTP/1.1\" RCODE  200 len: 1893 time: 0.2732630",
         "HTTP Status",
         "0",
         null
        ],
        [
         "42",
         "4/1/2025 16:42",
         "ThirdPartyAPI",
         "Boot process terminated unexpectedly due to kernel issue",
         "Critical Error",
         "18",
         null
        ],
        [
         "43",
         "11/22/2025 11:06",
         "BillingSystem",
         "Abnormal system behavior on server 40, potential security breach",
         "Security Alert",
         "19",
         null
        ],
        [
         "45",
         "5/22/2025 3:17",
         "ThirdPartyAPI",
         "Data replication task for shard 14 did not complete",
         "Error",
         "3",
         null
        ],
        [
         "46",
         "1/14/2025 4:46",
         "ModernHR",
         "User 7662 tried to bypass API security measures",
         "Security Alert",
         "20",
         null
        ],
        [
         "47",
         "2025-03-25 01:18:09",
         "ModernCRM",
         "nova.osapi_compute.wsgi.server [req-4d05bae9-8a34-42b6-98be-991eae0f992c 113d3a99c3da401fbd62cc2caa5b96d2 54fadb412c4e40cdbaed9335e4c35a9e - - -] 10.11.10.1 \"GET /v2/54fadb412c4e40cdbaed9335e4c35a9e/servers/detail HTTP/1.1\" Return code: 200 len: 1874 time: 0.1925120",
         "HTTP Status",
         "0",
         null
        ],
        [
         "49",
         "2025-01-13 20:36:16",
         "ModernCRM",
         "nova.osapi_compute.wsgi.server [req-d5fd3b8a-3323-4f9f-9453-d74ab24c21d3 113d3a99c3da401fbd62cc2caa5b96d2 54fadb412c4e40cdbaed9335e4c35a9e - - -] 10.11.10.1 \"GET /v2/54fadb412c4e40cdbaed9335e4c35a9e/servers/63a0d960-70b6-44c6-b606-491478a5cadf HTTP/1.1\" RCODE  200 len: 1708 time: 0.1946359",
         "HTTP Status",
         "0",
         null
        ],
        [
         "51",
         "8/19/2025 5:58",
         "ThirdPartyAPI",
         "Server 4 restarted without warning during data migration",
         "Error",
         "22",
         null
        ],
        [
         "53",
         "7/29/2025 0:17",
         "ModernHR",
         "Multiple login failures occurred on user 9052 account",
         "Security Alert",
         "7",
         null
        ],
        [
         "55",
         "6/18/2025 11:21",
         "AnalyticsEngine",
         "Server 34 crashed unexpectedly while syncing data",
         "Error",
         "23",
         null
        ],
        [
         "56",
         "2025-11-17 19:50:16",
         "ModernCRM",
         "nova.osapi_compute.wsgi.server [req-86b60c9f-5825-4447-9b26-c90aa4eb5986 113d3a99c3da401fbd62cc2caa5b96d2 54fadb412c4e40cdbaed9335e4c35a9e - - -] 10.11.10.1 \"GET /v2/54fadb412c4e40cdbaed9335e4c35a9e/servers/detail HTTP/1.1\" Status code -  200 len: 1759 time: 0.2631650",
         "HTTP Status",
         "0",
         null
        ],
        [
         "58",
         "2025-09-13 14:45:14",
         "AnalyticsEngine",
         "nova.compute.claims [req-5c8f52bd-8e3c-41f0-95a5-7861d247cafa 113d3a99c3da401fbd62cc2caa5b96d2 54fadb412c4e40cdbaed9335e4c35a9e - - -] [instance: d96a117b-0193-4549-bdcc-63b917273d1d] vcpu limit not specified, defaulting to unlimited",
         "Resource Usage",
         "5",
         null
        ],
        [
         "59",
         "2025-05-07 02:37:25",
         "AnalyticsEngine",
         "nova.metadata.wsgi.server [-] 10.11.21.143,10.11.10.1 \"GET /latest/meta-data/block-device-mapping/root HTTP/1.1\" HTTP status code -  200 len: 124 time: 0.0009151",
         "HTTP Status",
         "0",
         null
        ],
        [
         "60",
         "2025-10-06 16:55:23",
         "LegacyCRM",
         "Lead conversion failed for prospect ID 7842 due to missing contact information.",
         "Workflow Error",
         "24",
         null
        ],
        [
         "61",
         "2025-04-27 11:18:18",
         "ThirdPartyAPI",
         "nova.compute.claims [req-d38f479d-9bb9-4276-9688-52607e8fd350 113d3a99c3da401fbd62cc2caa5b96d2 54fadb412c4e40cdbaed9335e4c35a9e - - -] [instance: 95960536-049b-41f6-9049-05fc479b6a7c] disk limit not specified, defaulting to unlimited",
         "Resource Usage",
         "5",
         null
        ],
        [
         "62",
         "1/19/2025 13:55",
         "ModernCRM",
         "System configuration is no longer valid",
         "Critical Error",
         "25",
         null
        ]
       ],
       "shape": {
        "columns": 6,
        "rows": 1910
       }
      },
      "text/html": [
       "<div>\n",
       "<style scoped>\n",
       "    .dataframe tbody tr th:only-of-type {\n",
       "        vertical-align: middle;\n",
       "    }\n",
       "\n",
       "    .dataframe tbody tr th {\n",
       "        vertical-align: top;\n",
       "    }\n",
       "\n",
       "    .dataframe thead th {\n",
       "        text-align: right;\n",
       "    }\n",
       "</style>\n",
       "<table border=\"1\" class=\"dataframe\">\n",
       "  <thead>\n",
       "    <tr style=\"text-align: right;\">\n",
       "      <th></th>\n",
       "      <th>timestamp</th>\n",
       "      <th>source</th>\n",
       "      <th>log_message</th>\n",
       "      <th>target_label</th>\n",
       "      <th>cluster</th>\n",
       "      <th>regex_label</th>\n",
       "    </tr>\n",
       "  </thead>\n",
       "  <tbody>\n",
       "    <tr>\n",
       "      <th>0</th>\n",
       "      <td>2025-06-27 07:20:25</td>\n",
       "      <td>ModernCRM</td>\n",
       "      <td>nova.osapi_compute.wsgi.server [req-b9718cd8-f...</td>\n",
       "      <td>HTTP Status</td>\n",
       "      <td>0</td>\n",
       "      <td>None</td>\n",
       "    </tr>\n",
       "    <tr>\n",
       "      <th>1</th>\n",
       "      <td>1/14/2025 23:07</td>\n",
       "      <td>ModernCRM</td>\n",
       "      <td>Email service experiencing issues with sending</td>\n",
       "      <td>Critical Error</td>\n",
       "      <td>1</td>\n",
       "      <td>None</td>\n",
       "    </tr>\n",
       "    <tr>\n",
       "      <th>2</th>\n",
       "      <td>1/17/2025 1:29</td>\n",
       "      <td>AnalyticsEngine</td>\n",
       "      <td>Unauthorized access to data was attempted</td>\n",
       "      <td>Security Alert</td>\n",
       "      <td>2</td>\n",
       "      <td>None</td>\n",
       "    </tr>\n",
       "    <tr>\n",
       "      <th>3</th>\n",
       "      <td>2025-07-12 00:24:16</td>\n",
       "      <td>ModernHR</td>\n",
       "      <td>nova.osapi_compute.wsgi.server [req-4895c258-b...</td>\n",
       "      <td>HTTP Status</td>\n",
       "      <td>0</td>\n",
       "      <td>None</td>\n",
       "    </tr>\n",
       "    <tr>\n",
       "      <th>4</th>\n",
       "      <td>2025-06-02 18:25:23</td>\n",
       "      <td>BillingSystem</td>\n",
       "      <td>nova.osapi_compute.wsgi.server [req-ee8bc8ba-9...</td>\n",
       "      <td>HTTP Status</td>\n",
       "      <td>0</td>\n",
       "      <td>None</td>\n",
       "    </tr>\n",
       "    <tr>\n",
       "      <th>...</th>\n",
       "      <td>...</td>\n",
       "      <td>...</td>\n",
       "      <td>...</td>\n",
       "      <td>...</td>\n",
       "      <td>...</td>\n",
       "      <td>...</td>\n",
       "    </tr>\n",
       "    <tr>\n",
       "      <th>2405</th>\n",
       "      <td>2025-08-13 07:29:25</td>\n",
       "      <td>ModernHR</td>\n",
       "      <td>nova.osapi_compute.wsgi.server [req-96c3ec98-2...</td>\n",
       "      <td>HTTP Status</td>\n",
       "      <td>0</td>\n",
       "      <td>None</td>\n",
       "    </tr>\n",
       "    <tr>\n",
       "      <th>2406</th>\n",
       "      <td>1/11/2025 5:32</td>\n",
       "      <td>ModernHR</td>\n",
       "      <td>User 3844 account experienced multiple failed ...</td>\n",
       "      <td>Security Alert</td>\n",
       "      <td>7</td>\n",
       "      <td>None</td>\n",
       "    </tr>\n",
       "    <tr>\n",
       "      <th>2407</th>\n",
       "      <td>2025-08-03 03:07:47</td>\n",
       "      <td>ThirdPartyAPI</td>\n",
       "      <td>nova.metadata.wsgi.server [req-b6d4a270-accb-4...</td>\n",
       "      <td>HTTP Status</td>\n",
       "      <td>0</td>\n",
       "      <td>None</td>\n",
       "    </tr>\n",
       "    <tr>\n",
       "      <th>2408</th>\n",
       "      <td>11/11/2025 11:52</td>\n",
       "      <td>BillingSystem</td>\n",
       "      <td>Email service affected by failed transmission</td>\n",
       "      <td>Critical Error</td>\n",
       "      <td>1</td>\n",
       "      <td>None</td>\n",
       "    </tr>\n",
       "    <tr>\n",
       "      <th>2409</th>\n",
       "      <td>12/25/2025 13:21</td>\n",
       "      <td>AnalyticsEngine</td>\n",
       "      <td>Repeated failed login attempts occurred for us...</td>\n",
       "      <td>Security Alert</td>\n",
       "      <td>7</td>\n",
       "      <td>None</td>\n",
       "    </tr>\n",
       "  </tbody>\n",
       "</table>\n",
       "<p>1910 rows × 6 columns</p>\n",
       "</div>"
      ],
      "text/plain": [
       "                timestamp           source  \\\n",
       "0     2025-06-27 07:20:25        ModernCRM   \n",
       "1         1/14/2025 23:07        ModernCRM   \n",
       "2          1/17/2025 1:29  AnalyticsEngine   \n",
       "3     2025-07-12 00:24:16         ModernHR   \n",
       "4     2025-06-02 18:25:23    BillingSystem   \n",
       "...                   ...              ...   \n",
       "2405  2025-08-13 07:29:25         ModernHR   \n",
       "2406       1/11/2025 5:32         ModernHR   \n",
       "2407  2025-08-03 03:07:47    ThirdPartyAPI   \n",
       "2408     11/11/2025 11:52    BillingSystem   \n",
       "2409     12/25/2025 13:21  AnalyticsEngine   \n",
       "\n",
       "                                            log_message    target_label  \\\n",
       "0     nova.osapi_compute.wsgi.server [req-b9718cd8-f...     HTTP Status   \n",
       "1        Email service experiencing issues with sending  Critical Error   \n",
       "2             Unauthorized access to data was attempted  Security Alert   \n",
       "3     nova.osapi_compute.wsgi.server [req-4895c258-b...     HTTP Status   \n",
       "4     nova.osapi_compute.wsgi.server [req-ee8bc8ba-9...     HTTP Status   \n",
       "...                                                 ...             ...   \n",
       "2405  nova.osapi_compute.wsgi.server [req-96c3ec98-2...     HTTP Status   \n",
       "2406  User 3844 account experienced multiple failed ...  Security Alert   \n",
       "2407  nova.metadata.wsgi.server [req-b6d4a270-accb-4...     HTTP Status   \n",
       "2408      Email service affected by failed transmission  Critical Error   \n",
       "2409  Repeated failed login attempts occurred for us...  Security Alert   \n",
       "\n",
       "      cluster regex_label  \n",
       "0           0        None  \n",
       "1           1        None  \n",
       "2           2        None  \n",
       "3           0        None  \n",
       "4           0        None  \n",
       "...       ...         ...  \n",
       "2405        0        None  \n",
       "2406        7        None  \n",
       "2407        0        None  \n",
       "2408        1        None  \n",
       "2409        7        None  \n",
       "\n",
       "[1910 rows x 6 columns]"
      ]
     },
     "execution_count": 32,
     "metadata": {},
     "output_type": "execute_result"
    }
   ],
   "source": [
    "df_non_regex"
   ]
  },
  {
   "cell_type": "code",
   "execution_count": 36,
   "metadata": {},
   "outputs": [
    {
     "name": "stdout",
     "output_type": "stream",
     "text": [
      "['Workflow Error', 'Deprecation Warning']\n"
     ]
    }
   ],
   "source": [
    "print(df_non_regex['target_label'].value_counts()[df_non_regex['target_label'].value_counts() <= 5].index.to_list())\n"
   ]
  },
  {
   "cell_type": "code",
   "execution_count": 37,
   "metadata": {},
   "outputs": [
    {
     "data": {
      "text/plain": [
       "array(['ModernCRM', 'AnalyticsEngine', 'ModernHR', 'BillingSystem',\n",
       "       'ThirdPartyAPI'], dtype=object)"
      ]
     },
     "execution_count": 37,
     "metadata": {},
     "output_type": "execute_result"
    }
   ],
   "source": [
    "df_non_legacy=df_non_regex[df_non_regex.source != \"LegacyCRM\"]\n",
    "df_non_legacy.source.unique()"
   ]
  },
  {
   "cell_type": "code",
   "execution_count": 38,
   "metadata": {},
   "outputs": [
    {
     "data": {
      "text/plain": [
       "array([[-1.02939628e-01,  3.35459672e-02, -2.20260601e-02,\n",
       "         1.55105395e-03, -9.86921601e-03, -1.78956240e-01,\n",
       "        -6.34409711e-02, -6.01761751e-02,  2.81109102e-02,\n",
       "         5.99620305e-02, -1.72618218e-02,  1.43362966e-03,\n",
       "        -1.49560004e-01,  3.15287290e-03, -5.66030778e-02,\n",
       "         2.71685738e-02, -1.49890734e-02, -3.54037657e-02,\n",
       "        -3.62936258e-02, -1.45410551e-02, -5.61493821e-03,\n",
       "         8.75538960e-02,  4.55120802e-02,  2.50963848e-02,\n",
       "         1.00187501e-02,  1.24266902e-02, -1.39923558e-01,\n",
       "         7.68696517e-02,  3.14095318e-02, -4.15247073e-03,\n",
       "         4.36902829e-02,  1.71250328e-02, -8.00951123e-02,\n",
       "         5.74006140e-02,  1.89091992e-02,  8.55262727e-02,\n",
       "         3.96398827e-02, -1.34371802e-01, -1.44364359e-03,\n",
       "         3.06707504e-03,  1.76854074e-01,  4.44887020e-03,\n",
       "        -1.69274695e-02,  2.24266481e-02, -4.35049385e-02,\n",
       "         6.09032763e-03, -9.98167880e-03, -6.23972863e-02,\n",
       "         1.07372468e-02, -6.04896527e-03, -7.14661106e-02,\n",
       "        -8.45798571e-03, -3.18019800e-02, -1.00518368e-01,\n",
       "         2.25848911e-04, -1.89341530e-02, -3.17793824e-02,\n",
       "         4.00861278e-02,  2.19178218e-02, -2.59528887e-02,\n",
       "         5.84524795e-02, -8.12509879e-02,  2.12029275e-02,\n",
       "        -5.02687655e-02,  1.32057108e-02,  1.32677529e-03,\n",
       "         2.27062684e-02, -3.45793776e-02,  3.91546860e-02,\n",
       "        -2.09433623e-02,  3.24826641e-03,  4.43961173e-02,\n",
       "        -9.85358208e-02, -2.88895201e-02, -6.85023563e-03,\n",
       "         5.38819022e-02,  6.46110028e-02, -2.45060641e-02,\n",
       "         9.21828672e-02, -7.49868825e-02,  1.23994732e-02,\n",
       "        -1.00026585e-01, -4.64910679e-02,  6.01569451e-02,\n",
       "        -2.46480294e-02, -7.08075985e-02, -2.77270712e-02,\n",
       "         9.72611010e-02,  3.85841206e-02, -1.44293085e-02,\n",
       "        -7.46889156e-04, -1.04305064e-02, -1.61843076e-02,\n",
       "         4.43628207e-02,  9.25995782e-03,  7.14165866e-02,\n",
       "         6.37917668e-02,  4.94931340e-02, -6.02567457e-02,\n",
       "         4.04805616e-02, -3.42860706e-02, -1.93881094e-02,\n",
       "         6.61233813e-02,  6.01589419e-02,  1.09371506e-02,\n",
       "        -5.38630597e-03,  1.44579643e-02,  9.25430208e-02,\n",
       "        -3.14564072e-02, -1.84352379e-02,  9.91874281e-03,\n",
       "        -1.85574163e-02,  1.31281430e-03,  2.26731609e-05,\n",
       "         2.02740077e-03,  2.75256615e-02, -4.81928103e-02,\n",
       "         5.42826131e-02, -7.32067004e-02,  4.88667339e-02,\n",
       "         4.98490334e-02, -9.01142042e-03, -4.68906090e-02,\n",
       "        -4.25886735e-02, -8.19523782e-02,  3.87105756e-02,\n",
       "         7.85503983e-02,  1.46077067e-32,  1.66706517e-02,\n",
       "         5.25493920e-02, -1.82448700e-02, -1.26686636e-02,\n",
       "         6.52837083e-02, -2.11777389e-02, -4.06322964e-02,\n",
       "         4.14947458e-02, -2.48361379e-02, -1.33068133e-02,\n",
       "        -5.46753816e-02, -5.99164050e-04, -4.89246147e-03,\n",
       "        -6.27359375e-02, -3.84878106e-02, -6.13543615e-02,\n",
       "         8.27405304e-02,  2.34380029e-02, -8.63088574e-03,\n",
       "         1.31003084e-02,  6.44214973e-02, -4.41361554e-02,\n",
       "        -6.98633045e-02, -7.36060143e-02, -4.33264412e-02,\n",
       "         6.96521765e-03, -5.05956635e-02, -1.60912089e-02,\n",
       "        -5.66793792e-02,  3.35453614e-03,  5.34115210e-02,\n",
       "         2.47761495e-02, -1.47985872e-02, -2.93242987e-02,\n",
       "         7.30228052e-02, -1.86833888e-02,  8.13137144e-02,\n",
       "        -2.69967169e-02, -5.68056628e-02, -6.59388974e-02,\n",
       "        -5.95391961e-03,  2.85312850e-02, -7.85358027e-02,\n",
       "        -2.76698289e-03, -3.26469331e-03, -9.28332880e-02,\n",
       "        -7.27362707e-02, -3.31903324e-02,  1.01411089e-01,\n",
       "         9.79882330e-02, -9.78740305e-02,  1.98667794e-02,\n",
       "         2.38837395e-02, -1.81672405e-02, -3.73708792e-02,\n",
       "         1.96551392e-03,  6.34425953e-02,  1.18271392e-02,\n",
       "        -1.12041133e-02, -3.87316532e-02,  9.32424515e-02,\n",
       "         4.26633190e-03, -1.66872535e-02, -6.87464401e-02,\n",
       "         1.55120157e-02, -4.97755483e-02,  3.34493108e-02,\n",
       "         8.00032690e-02,  2.12281942e-02,  1.34581894e-01,\n",
       "        -2.30729654e-02,  5.53858653e-02,  3.07558216e-02,\n",
       "        -2.93905511e-02,  2.31905505e-02, -9.34308171e-02,\n",
       "         7.58034661e-02, -5.21208672e-03, -5.14523089e-02,\n",
       "         3.32689099e-02,  3.67963053e-02, -1.06449956e-02,\n",
       "         1.01634897e-02, -2.07651462e-02, -5.85519448e-02,\n",
       "         4.79328483e-02,  2.13694666e-02,  8.76213387e-02,\n",
       "         3.35495663e-03, -3.80336903e-02, -1.81205142e-02,\n",
       "         6.87449658e-03,  5.15879840e-02, -4.75598685e-02,\n",
       "        -6.12065196e-02, -1.45483574e-32,  4.12799697e-03,\n",
       "         4.59639449e-03, -5.63900359e-02,  4.32466669e-03,\n",
       "        -1.09437772e-03,  9.31952987e-03, -2.20268834e-02,\n",
       "         5.79564385e-02, -1.44787403e-02,  4.64155562e-02,\n",
       "         1.43542871e-01, -6.89756721e-02,  6.09631762e-02,\n",
       "        -8.93743634e-02,  2.40919851e-02,  2.06010304e-02,\n",
       "        -2.82415431e-02, -6.48315176e-02,  5.64795658e-02,\n",
       "        -7.48340227e-03, -3.52058336e-02,  8.51060599e-02,\n",
       "         1.30359828e-02,  2.02257782e-02, -1.44390929e-02,\n",
       "        -4.63718548e-02,  1.77209601e-02,  1.59106012e-02,\n",
       "        -9.51009318e-02, -3.54526825e-02,  2.08696052e-02,\n",
       "         3.84391332e-03, -8.77918154e-02,  6.44575432e-02,\n",
       "         1.44170998e-02,  3.84730566e-03,  4.70991656e-02,\n",
       "         4.94661294e-02,  1.53862750e-02, -2.59579066e-02,\n",
       "         9.10894275e-02,  1.83307882e-02, -5.89206405e-02,\n",
       "         2.51992680e-02, -3.30374017e-02,  8.23345035e-02,\n",
       "         1.74792334e-02,  6.48047626e-02, -1.19673945e-02,\n",
       "        -3.31778228e-02,  3.00177690e-02,  3.54220197e-02,\n",
       "        -1.39624244e-02,  6.69272318e-02,  3.87919806e-02,\n",
       "         6.06916361e-02,  1.17955962e-03, -2.38786899e-02,\n",
       "        -1.26930431e-01,  1.13846054e-02,  1.59289967e-02,\n",
       "        -1.29427090e-02, -8.63247812e-02,  8.53661541e-03,\n",
       "         6.03761002e-02,  1.51122045e-02, -1.19132377e-01,\n",
       "         1.15234694e-02,  5.97089604e-02, -3.93345915e-02,\n",
       "         1.55673111e-02,  1.04602138e-02, -4.72456813e-02,\n",
       "        -2.59243306e-02,  9.98525787e-03,  3.07146385e-02,\n",
       "        -7.14844614e-02,  6.98966347e-03, -1.55133111e-02,\n",
       "         2.18864232e-02, -2.78145988e-02,  6.92733005e-02,\n",
       "        -2.75903344e-02,  2.62429826e-02,  3.52561995e-02,\n",
       "        -4.26419862e-02,  7.46273552e-04,  6.59866631e-02,\n",
       "        -5.15105762e-02, -3.58434133e-02, -6.53442554e-03,\n",
       "        -2.75858380e-02, -1.00125544e-01,  7.83326477e-02,\n",
       "        -1.45798540e-02, -6.18457250e-08,  2.00325381e-02,\n",
       "         6.59784749e-02, -2.04702634e-02,  1.64043978e-02,\n",
       "         7.63001442e-02,  7.32182488e-02,  5.65786334e-03,\n",
       "        -6.97789947e-04, -3.63795226e-03,  6.02393784e-02,\n",
       "        -3.27187032e-02, -6.45838305e-02, -5.97952455e-02,\n",
       "        -1.76696088e-02,  6.10138802e-03, -5.63489506e-03,\n",
       "        -1.22972220e-01,  6.35818839e-02, -2.19431855e-02,\n",
       "        -1.16406456e-01,  2.34366227e-02, -7.23525658e-02,\n",
       "         2.31773909e-02, -6.55987263e-02, -7.42681921e-02,\n",
       "         2.60146186e-02,  3.59758735e-02,  7.68432617e-02,\n",
       "        -3.08057573e-02, -2.34794114e-02, -6.30425960e-02,\n",
       "        -3.62158455e-02, -1.03560304e-02, -4.75602299e-02,\n",
       "        -2.87522282e-02,  2.96400636e-02, -5.26894769e-03,\n",
       "         5.67889996e-02, -3.74487345e-03,  3.09612695e-02,\n",
       "         3.48226838e-02,  3.78607623e-02,  2.10155472e-02,\n",
       "         2.70691495e-02,  5.25520295e-02,  7.16229156e-02,\n",
       "        -5.53756580e-03,  4.01093960e-02,  5.16276509e-02,\n",
       "        -2.67314184e-02,  5.94224222e-02, -4.29224260e-02,\n",
       "        -1.19760651e-02,  3.05985063e-02, -7.40330592e-02,\n",
       "         1.84222013e-02, -8.64860229e-03, -8.83557349e-02,\n",
       "        -5.91984242e-02, -1.00912621e-04,  1.12913631e-01,\n",
       "         4.57792263e-03, -4.25971486e-02,  3.22619383e-03],\n",
       "       [ 8.04571714e-03, -3.57392281e-02,  4.93873917e-02,\n",
       "        -7.19184149e-03,  6.17644750e-04, -9.05685052e-02,\n",
       "         5.75594865e-02, -4.39446270e-02,  1.74751636e-02,\n",
       "         5.21203242e-02, -4.62332033e-02,  2.49039363e-02,\n",
       "         4.80811782e-02,  6.86636567e-02,  3.56146656e-02,\n",
       "         3.00089642e-02,  2.61449497e-02, -9.05241296e-02,\n",
       "        -8.02173615e-02,  5.04851192e-02, -7.90870488e-02,\n",
       "        -1.76855002e-03, -2.48927530e-02,  9.02152434e-02,\n",
       "         5.83698181e-03, -6.91070855e-02, -6.67966083e-02,\n",
       "        -6.99113635e-03, -1.04565986e-01, -2.66473852e-02,\n",
       "         3.05640064e-02,  2.02934369e-02,  2.25454886e-02,\n",
       "        -4.22687922e-03,  1.11173484e-02,  6.78260773e-02,\n",
       "         1.06073590e-02,  7.56636113e-02, -8.22777823e-02,\n",
       "         8.45735706e-03, -6.97612464e-02, -4.21974584e-02,\n",
       "        -1.05674397e-02,  2.23673340e-02,  5.64496815e-02,\n",
       "         8.16500373e-03,  1.09344080e-01,  3.16564441e-02,\n",
       "        -1.76923554e-02, -3.21071148e-02, -3.39975841e-02,\n",
       "        -4.91802581e-04,  3.72874690e-03,  2.83771455e-02,\n",
       "        -1.28521984e-02, -1.07933208e-03, -6.32418916e-02,\n",
       "         6.89900741e-02,  1.77270379e-02, -5.20960055e-02,\n",
       "         8.28307122e-03,  5.45032695e-02, -5.42099662e-02,\n",
       "        -4.53333110e-02, -4.07494120e-02, -2.82698181e-02,\n",
       "         1.23605840e-02, -2.13816017e-02, -2.36265361e-02,\n",
       "         1.25317592e-02, -2.37170625e-02,  3.97411808e-02,\n",
       "        -1.24362275e-01,  7.60625228e-02,  5.50834052e-02,\n",
       "         8.28216746e-02,  2.97118574e-02, -1.84067208e-02,\n",
       "        -1.96194761e-02,  5.54319136e-02, -3.49144414e-02,\n",
       "        -4.14678007e-02, -3.37047353e-02,  7.31324479e-02,\n",
       "         4.41836640e-02,  2.55246740e-02, -8.26408435e-03,\n",
       "        -1.07322847e-02, -4.26243879e-02, -2.84964102e-03,\n",
       "         7.38559514e-02,  2.27767937e-02,  7.15389557e-04,\n",
       "         4.36012261e-02,  5.09079471e-02,  6.38482645e-02,\n",
       "        -2.73155570e-02, -6.55021369e-02, -7.69265294e-02,\n",
       "         3.55171151e-02,  9.60493386e-02,  2.18195524e-02,\n",
       "         1.20154712e-02, -1.17863379e-02, -4.57923161e-03,\n",
       "        -8.58035590e-03,  3.37150730e-02,  2.31918134e-02,\n",
       "        -7.58325532e-02, -5.23879267e-02,  4.53934073e-02,\n",
       "        -3.80785577e-02, -3.34904976e-02,  9.20353308e-02,\n",
       "         2.87688691e-02, -3.33816931e-02, -1.95852900e-03,\n",
       "        -3.04580055e-04, -1.70499235e-02,  2.85335984e-02,\n",
       "        -8.81096572e-02, -4.02253456e-02, -4.00093347e-02,\n",
       "        -1.03193149e-02, -2.51968466e-02,  2.14093029e-02,\n",
       "         1.31045237e-01, -5.29632801e-34, -1.09651692e-01,\n",
       "         1.29811568e-02,  5.92657691e-03,  4.73506227e-02,\n",
       "        -8.60296935e-03, -3.67089324e-02,  3.05215158e-02,\n",
       "         5.53066693e-02, -4.71985638e-02, -1.25118727e-02,\n",
       "        -1.15366414e-01,  9.07998811e-03,  1.07346505e-01,\n",
       "        -4.94734831e-02, -1.34290671e-02, -4.61562574e-02,\n",
       "         2.45320704e-02,  9.45076440e-03,  2.04324219e-02,\n",
       "        -3.99919078e-02, -4.67826128e-02,  2.21171696e-02,\n",
       "        -4.58187200e-02, -8.13272968e-03, -7.65670184e-03,\n",
       "         1.92284547e-02,  4.85845432e-02, -2.55903210e-02,\n",
       "         1.61540357e-03, -1.37180369e-02,  9.67309345e-03,\n",
       "         7.36417389e-03,  1.14088319e-02,  1.28853440e-01,\n",
       "         7.71836052e-03,  7.06362650e-02,  2.54452135e-02,\n",
       "         4.06523943e-02,  2.44039707e-02,  1.43777113e-02,\n",
       "        -6.00932501e-02,  7.38180280e-02, -2.44701020e-02,\n",
       "         8.98901448e-02,  3.17055243e-03,  1.01834454e-01,\n",
       "         4.17742133e-02, -5.95177487e-02, -3.23181786e-02,\n",
       "         3.80938761e-02,  1.21155363e-02, -4.07834165e-02,\n",
       "         2.84823403e-02,  4.90988754e-02, -9.35704913e-03,\n",
       "         6.50074109e-02,  7.23532140e-02, -1.67793669e-02,\n",
       "        -8.22419021e-03, -1.61573216e-02,  5.96225485e-02,\n",
       "        -3.36083770e-02,  2.12108567e-02, -6.06090687e-02,\n",
       "         1.54377669e-01, -7.24146292e-02, -3.77272554e-02,\n",
       "        -3.26890312e-02, -1.80383236e-03, -1.01960171e-02,\n",
       "        -1.60677219e-03, -6.91846609e-02,  8.28444809e-02,\n",
       "         9.88839418e-02,  3.45466356e-03, -9.90247875e-02,\n",
       "        -3.52826901e-02, -7.13178515e-02, -4.96000238e-02,\n",
       "        -3.43954526e-02, -8.13042149e-02,  4.81448062e-02,\n",
       "         5.00683207e-03, -2.21499726e-02, -5.60056977e-02,\n",
       "         1.00067444e-02, -3.59794199e-02,  1.06184311e-01,\n",
       "        -4.54196744e-02,  7.16393143e-02, -2.36773062e-02,\n",
       "         9.98143200e-03,  2.73602195e-02,  1.05985463e-01,\n",
       "         4.60163429e-02,  9.59029178e-34, -1.12306982e-01,\n",
       "         2.78912336e-02, -3.35900635e-02,  5.39242551e-02,\n",
       "        -2.22291443e-02,  1.53769050e-02,  3.10411565e-02,\n",
       "         3.39011066e-02,  7.43167326e-02,  3.42471153e-02,\n",
       "        -3.35047860e-03, -2.05350518e-02, -3.62370051e-02,\n",
       "         2.29334142e-02, -3.01992167e-02, -1.00819930e-01,\n",
       "         3.29193994e-02,  6.77542835e-02,  1.35645578e-02,\n",
       "        -5.20545896e-03, -6.58158809e-02,  9.54550654e-02,\n",
       "        -1.34039121e-02,  1.53885661e-02, -7.22936168e-02,\n",
       "         9.67835858e-02, -8.08119476e-02, -4.53452719e-03,\n",
       "        -6.42011836e-02, -4.99278419e-02,  4.64197770e-02,\n",
       "         2.21341308e-02,  3.13109234e-02,  9.13568661e-02,\n",
       "        -4.61120047e-02, -1.02761127e-01,  3.04416418e-02,\n",
       "         5.09876274e-02,  6.70140907e-02,  1.04042925e-02,\n",
       "         1.63533408e-02,  3.92030738e-02,  2.17153989e-02,\n",
       "         5.36603294e-02,  3.62809524e-02, -4.22140062e-02,\n",
       "        -2.47227084e-02,  1.90312061e-02,  3.61724533e-02,\n",
       "         6.37020841e-02, -3.21584102e-03, -8.50390922e-03,\n",
       "         3.94655429e-02,  9.02655255e-03,  1.93095822e-02,\n",
       "         6.60717934e-02,  1.02695180e-02, -4.43853624e-02,\n",
       "        -1.56523529e-02, -1.55714555e-02,  1.32904705e-02,\n",
       "        -1.16108228e-02,  4.21832167e-02, -5.44776618e-02,\n",
       "         1.29237235e-01, -2.25756839e-02,  5.26204146e-02,\n",
       "        -1.58436596e-02,  9.33165029e-02,  6.38026977e-03,\n",
       "        -9.36163496e-03, -6.08875938e-02, -3.27308029e-02,\n",
       "        -3.44816521e-02,  3.29973884e-02, -4.79392149e-02,\n",
       "        -9.81300846e-02,  2.91164629e-02, -2.70903222e-02,\n",
       "         1.81867033e-02, -1.73860490e-02, -4.40371633e-02,\n",
       "        -7.97002092e-02,  3.01647466e-02, -6.35260865e-02,\n",
       "         1.25963241e-02,  8.50249976e-02, -4.58910428e-02,\n",
       "         5.81017323e-02, -2.71001942e-02,  8.42775702e-02,\n",
       "        -4.09972817e-02, -3.37656029e-02,  1.02088144e-02,\n",
       "        -2.54193172e-02, -1.40610306e-08,  4.94446829e-02,\n",
       "        -9.04356614e-02, -6.06710389e-02,  8.29529613e-02,\n",
       "        -3.29032615e-02,  4.14910279e-02,  9.99592058e-03,\n",
       "         6.96136709e-03,  3.99230840e-03, -3.24333347e-02,\n",
       "        -3.14657018e-02, -5.33161797e-02, -3.80913652e-02,\n",
       "         1.62076838e-02,  2.45778169e-02, -7.26419911e-02,\n",
       "        -6.56893700e-02, -8.23131725e-02, -8.00500736e-02,\n",
       "        -5.36649376e-02,  5.60894758e-02, -1.10913441e-02,\n",
       "         9.62202670e-04, -1.22690313e-01, -5.13836294e-02,\n",
       "         9.96701699e-03,  1.00696459e-02,  1.07073106e-01,\n",
       "         1.19758304e-02,  1.00423656e-02, -6.28261864e-02,\n",
       "        -7.49697238e-02, -6.34075282e-03, -2.72201486e-02,\n",
       "        -1.28096193e-01, -2.62459833e-02, -1.81464087e-02,\n",
       "        -9.85360146e-02, -3.02990507e-02, -4.02614996e-02,\n",
       "         9.94291157e-02,  5.35999909e-02,  2.74899807e-02,\n",
       "        -5.53684495e-03,  8.43571126e-02,  8.35161954e-02,\n",
       "         3.74305360e-02,  7.11937249e-02,  2.98903082e-02,\n",
       "         2.32728776e-02, -3.62111889e-02,  6.20539710e-02,\n",
       "         2.15148460e-02,  5.19732535e-02,  1.45337814e-02,\n",
       "        -4.60966341e-02,  5.02554439e-02, -7.27027431e-02,\n",
       "         2.92779319e-02,  5.62663078e-02, -3.86354811e-02,\n",
       "         1.53831942e-02, -6.23094663e-02, -2.77466550e-02]], dtype=float32)"
      ]
     },
     "execution_count": 38,
     "metadata": {},
     "output_type": "execute_result"
    }
   ],
   "source": [
    "filtered_embeddings = model.encode(df_non_legacy['log_message'].tolist())\n",
    "filtered_embeddings[:2]"
   ]
  },
  {
   "cell_type": "code",
   "execution_count": 42,
   "metadata": {},
   "outputs": [
    {
     "name": "stdout",
     "output_type": "stream",
     "text": [
      "                precision    recall  f1-score   support\n",
      "\n",
      "Critical Error       0.91      1.00      0.95        48\n",
      "         Error       0.98      0.89      0.93        47\n",
      "   HTTP Status       1.00      1.00      1.00       304\n",
      "Resource Usage       1.00      1.00      1.00        49\n",
      "Security Alert       1.00      0.99      1.00       123\n",
      "\n",
      "      accuracy                           0.99       571\n",
      "     macro avg       0.98      0.98      0.98       571\n",
      "  weighted avg       0.99      0.99      0.99       571\n",
      "\n"
     ]
    }
   ],
   "source": [
    "from sklearn.model_selection import train_test_split\n",
    "from sklearn.linear_model import LogisticRegression\n",
    "from sklearn.metrics import classification_report\n",
    "\n",
    "# Prepare the data\n",
    "X = filtered_embeddings\n",
    "y = df_non_legacy['target_label']\n",
    "\n",
    "# Split the data into training and testing sets\n",
    "X_train, X_test, y_train, y_test = train_test_split(X, y, test_size=0.3, random_state=42)\n",
    "\n",
    "# Train a Logistic Regression model\n",
    "clf = LogisticRegression(max_iter=1000)\n",
    "clf.fit(X_train, y_train)\n",
    "\n",
    "# Make predictions on the test set\n",
    "y_pred = clf.predict(X_test)\n",
    "\n",
    "print(classification_report(y_test, y_pred))"
   ]
  },
  {
   "cell_type": "code",
   "execution_count": 46,
   "metadata": {},
   "outputs": [
    {
     "data": {
      "text/plain": [
       "['../models/log_classifier.joblib']"
      ]
     },
     "execution_count": 46,
     "metadata": {},
     "output_type": "execute_result"
    }
   ],
   "source": [
    "import joblib\n",
    "# Save the model to a file\n",
    "joblib.dump(clf, '../models/log_classifier.joblib')"
   ]
  }
 ],
 "metadata": {
  "kernelspec": {
   "display_name": "venv",
   "language": "python",
   "name": "python3"
  },
  "language_info": {
   "codemirror_mode": {
    "name": "ipython",
    "version": 3
   },
   "file_extension": ".py",
   "mimetype": "text/x-python",
   "name": "python",
   "nbconvert_exporter": "python",
   "pygments_lexer": "ipython3",
   "version": "3.13.1"
  }
 },
 "nbformat": 4,
 "nbformat_minor": 2
}
